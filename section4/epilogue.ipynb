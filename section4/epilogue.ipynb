{
 "cells": [
  {
   "cell_type": "markdown",
   "metadata": {
    "collapsed": false
   },
   "source": [
    "```\n",
    "INTRO TO\n",
    "    ______  __________  ______  _   __\n",
    "   / __ \\ \\/ /_  __/ / / / __ \\/ | / /\n",
    "  / /_/ /\\  / / / / /_/ / / / /  |/ / \n",
    " / ____/ / / / / / __  / /_/ / /|  /  \n",
    "/_/     /_/ /_/ /_/ /_/\\____/_/ |_/   \n",
    "```"
   ]
  },
  {
   "cell_type": "markdown",
   "metadata": {
    "collapsed": false
   },
   "source": [
    "## Epilogue\n",
    "\n",
    "You've reached the end! Remember to go through this at the end of the course!"
   ]
  },
  {
   "cell_type": "code",
   "execution_count": 0,
   "metadata": {
    "collapsed": false
   },
   "outputs": [
   ],
   "source": [
    "# Run this cell for something really cool\n",
    "\n",
    "# Import some libraries\n",
    "import time\n",
    "from IPython.display import clear_output\n",
    "\n",
    "\n",
    "s = '''\n",
    "\n",
    "\n",
    "\n",
    "        \\033[1mCONGRATULATIONS!\\x1b[0m\n",
    "\n",
    "\n",
    "You've completed Intro to Python!\n",
    "You've now unlocked a new superpower:\n",
    "\n",
    "    \\033[1mPROGRAMMING IN PYTHON!!!\\x1b[0m\n",
    "\n",
    "\n",
    "        \\033[1mWHAT'S NEXT?\\x1b[0m\n",
    "\n",
    "Install Python on your computer!\n",
    "This gives you more flexibility for\n",
    "writing and testing your Python code\n",
    "\n",
    "It's really easy!\n",
    "Go to https://www.python.org/downloads/\n",
    "And click on download\n",
    "Follow the instructions for your OS\n",
    "\n",
    "\n",
    "        \\033[1mGOOD SITES\\x1b[0m\n",
    "\n",
    "https://stackoverflow.com/\n",
    " - Great for looking up questions!\n",
    "\n",
    "https://www.pythoncheatsheet.org/\n",
    " - Wonderful Python cheat sheet\n",
    "\n",
    "Basically any search engine\n",
    " - Also great for looking up questions!\n",
    "\n",
    "    \\033[1mSPECIAL THANKS TO\\x1b[0m\n",
    "\n",
    "    \\033[1m\\33[31m   Anthony Wang   \\x1b[0m\n",
    "    \\033[1m\\33[32m    Darren Teh    \\x1b[0m\n",
    "    \\033[1m\\33[33m   Samuel Chen    \\x1b[0m\n",
    "    \\033[1m\\33[34m   Richie Jiang   \\x1b[0m\n",
    "    \\033[1m\\33[35m     Andy Teh     \\x1b[0m\n",
    "    \\033[1m\\33[36m  Billiam Wender  \\x1b[0m\n",
    "    \\033[1m\\33[31m  Aiden Lambert   \\x1b[0m\n",
    "    \\033[1m\\33[32m     Jason Xu     \\x1b[0m\n",
    "    \\033[1m\\33[33m    Jason Ding    \\x1b[0m\n",
    "    \\033[1m\\33[34m  Bobert Wender   \\x1b[0m\n",
    "    \\033[1m\\33[35m   Michael Cao    \\x1b[0m\n",
    "    \\033[1m\\33[36m     Leo Liu      \\x1b[0m\n",
    "    \\033[1m\\33[31m    Kevin Tang    \\x1b[0m\n",
    "\n",
    "\n",
    "        \\033[1mTHANK YOU!\\x1b[0m\n",
    "\n",
    "\n",
    "INTRO TO\n",
    "    ______  __________  ______  _   __\n",
    "   / __ \\ \\/ /_  __/ / / / __ \\/ | / /\n",
    "  / /_/ /\\  / / / / /_/ / / / /  |/ / \n",
    " / ____/ / / / / / __  / /_/ / /|  /  \n",
    "/_/     /_/ /_/ /_/ /_/\\____/_/ |_/   \n",
    "                                      \n",
    "\n",
    "Copyleft 🄯 2021 Billiam Wender. All rights reversed.\n",
    "'''\n",
    "\n",
    "\n",
    "# Can you figure out what this does?\n",
    "def credits():\n",
    "    lines = s.split('\\n')\n",
    "    n = len(lines)\n",
    "    i = 0\n",
    "    while True:\n",
    "        clear_output()\n",
    "        for j in range(i, min(n-1, i+24)):\n",
    "            print('    '+lines[j])\n",
    "        time.sleep(1)\n",
    "        i = i+1\n",
    "        if i == n: i = 0\n",
    "\n",
    "\n",
    "# roll the\n",
    "credits()\n",
    "# Thanks for watching!"
   ]
  },
  {
   "cell_type": "code",
   "execution_count": 0,
   "metadata": {
    "collapsed": false
   },
   "outputs": [
   ],
   "source": [
   ]
  }
 ],
 "metadata": {
  "kernelspec": {
   "display_name": "Python 3 (Ubuntu Linux)",
   "language": "python",
   "name": "python3-ubuntu",
   "resource_dir": "/usr/local/share/jupyter/kernels/python3-ubuntu"
  }
 },
 "nbformat": 4,
 "nbformat_minor": 4
}