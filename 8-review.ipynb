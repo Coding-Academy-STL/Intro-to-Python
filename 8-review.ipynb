{
 "cells": [
  {
   "cell_type": "markdown",
   "metadata": {},
   "source": [
    "```\n",
    "INTRO TO\n",
    "    ______  __________  ______  _   __\n",
    "   / __ \\ \\/ /_  __/ / / / __ \\/ | / /\n",
    "  / /_/ /\\  / / / / /_/ / / / /  |/ / \n",
    " / ____/ / / / / / __  / /_/ / /|  /  \n",
    "/_/     /_/ /_/ /_/ /_/\\____/_/ |_/   \n",
    "```"
   ]
  },
  {
   "cell_type": "markdown",
   "metadata": {},
   "source": [
    "# 8 Review\n",
    "\n",
    "We've learned two more important building blocks for making more sophisticated programs:\n",
    "- **Conditionals**: We use `if`, `elif`, and `else` in our program to make decisions.\n",
    "- **Repetition**: We use `for` loops and `while` loops to repeat things."
   ]
  },
  {
   "cell_type": "markdown",
   "metadata": {},
   "source": [
    "We use `if`, `elif` (else if), and `else` to make decisions. With an `if` statement, we check if a condition is `True` or `False`. If the condition is `True`, Python runs the indented code, and if it is `False`, Python skips ahead. To indent, press the tab key. Remember to include a colon `:` after the condition!"
   ]
  },
  {
   "cell_type": "code",
   "execution_count": null,
   "metadata": {},
   "outputs": [],
   "source": [
    "# Try changing this and see what happens\n",
    "language = 'Python'\n",
    "\n",
    "if language == 'Python':\n",
    "    print('Python is awesome! 😍')"
   ]
  },
  {
   "cell_type": "markdown",
   "metadata": {},
   "source": [
    "To make more complicated decisions, we can use `elif` and `else`. If the top condition is `False`, Python will try again with the next `elif` condition, and so on, until it finds a condition that is `True`. If none of the conditions are `True`, the indented code below `else` is run. You can have as many `elif` statements as you want, but you can only have one `else` at the end of a conditional."
   ]
  },
  {
   "cell_type": "code",
   "execution_count": null,
   "metadata": {
    "tags": []
   },
   "outputs": [],
   "source": [
    "# Try changing this and see what happens\n",
    "language = 'Java'\n",
    "\n",
    "if language == 'Python':\n",
    "    print('Python is awesome! 😍')\n",
    "elif language == 'Java':\n",
    "    print('Java is OK. 🙃')\n",
    "elif language == 'C++':\n",
    "    print('C++ is pain. 😭')\n",
    "else:\n",
    "    print(language + ' is meh. 🤷')"
   ]
  },
  {
   "cell_type": "markdown",
   "metadata": {},
   "source": [
    "**Boolean** variables store a single `True` or `False` value. Booleans are useful because they can hold the result of a condition to use it later on. Additionally, you can change the value of a boolean as needed."
   ]
  },
  {
   "cell_type": "code",
   "execution_count": null,
   "metadata": {},
   "outputs": [],
   "source": [
    "number = 5\n",
    "if number < 4:\n",
    "    less = True\n",
    "else:\n",
    "    less = False\n",
    "\n",
    "# Prints False\n",
    "print(less)\n",
    "\n",
    "# We can use the value of less later\n",
    "if less:\n",
    "    print('Less')"
   ]
  },
  {
   "cell_type": "markdown",
   "metadata": {},
   "source": [
    "To make our conditions even more powerful, we can use `not`, `and`, and `or`. `not` will run the indented code if the condition is **not** `True`. `and` checks two conditions and only runs the indented code if **both** are conditions are `True`. `or` also checks two conditions but runs the indented code if **either** of the the conditions are `True`."
   ]
  },
  {
   "cell_type": "code",
   "execution_count": null,
   "metadata": {},
   "outputs": [],
   "source": [
    "# Example here"
   ]
  },
  {
   "cell_type": "markdown",
   "metadata": {},
   "source": [
    "To repeat code a certain number of times, we can use a **`for` loop**. If we want to print all the numbers between `1` and `10`, we would use the following code:"
   ]
  },
  {
   "cell_type": "code",
   "execution_count": null,
   "metadata": {},
   "outputs": [],
   "source": [
    "for i in range(1, 11):\n",
    "    print(i)"
   ]
  },
  {
   "cell_type": "markdown",
   "metadata": {},
   "source": [
    "Each iteration of the `for` loop, `i` is set to `1`, then `2`, then `3`, and so on up to `10`. Note that `11`, the ending number of the `range( )`, is **not** included in the repetitions.\n",
    "\n",
    "In this example, we do something more complicated inside the `for` loop: We check if the current `i` is divisble by `2`, and if so, print it out. This code will print all the even numbers between `100` and `200` inclusive. Make sure you understand why we use `range(100, 201)` here!"
   ]
  },
  {
   "cell_type": "code",
   "execution_count": null,
   "metadata": {
    "collapsed": false,
    "jupyter": {
     "outputs_hidden": false
    }
   },
   "outputs": [],
   "source": [
    "for i in range(100, 201):\n",
    "    # Check if i is divisible by 2\n",
    "    if i % 2 == 0:\n",
    "        # If so, print out i\n",
    "        print(i)"
   ]
  },
  {
   "cell_type": "markdown",
   "metadata": {},
   "source": [
    "We typically use for loops when we know the number of repetitions in advance. If we don't know how many times we need to repeat, we use `while` loops. We can also use `while` loops anywhere that we use `for` loops, but we usually prefer `for` loops in those cases since they are more concise.\n",
    "\n",
    "Let's say we want to ask the user for a number, and print all the numbers between `1` and the inputted number:"
   ]
  },
  {
   "cell_type": "code",
   "execution_count": null,
   "metadata": {},
   "outputs": [],
   "source": [
    "n = int(input())\n",
    "\n",
    "i = 1\n",
    "while i <= n:\n",
    "    print(i)\n",
    "    i = i + 1"
   ]
  },
  {
   "cell_type": "markdown",
   "metadata": {},
   "source": [
    "\n",
    "The `while` loop will repeat *while* the condition is `False`. In this case, `i` is first set to `1`, then `2`, then `3`, and so on, until `i` becomes `n + 1`. At that point, the condition is now `False` and the loop ends."
   ]
  },
  {
   "cell_type": "markdown",
   "metadata": {},
   "source": [
    "Here's an example where we can use both `for` loops or `while` loops:"
   ]
  },
  {
   "cell_type": "code",
   "execution_count": null,
   "metadata": {},
   "outputs": [],
   "source": [
    "# Prints 0 * 0, 1 * 1, 2 * 2, ... 9 * 9\n",
    "for i in range(0, 10):\n",
    "    print(i * i)"
   ]
  },
  {
   "cell_type": "code",
   "execution_count": null,
   "metadata": {
    "collapsed": false,
    "jupyter": {
     "outputs_hidden": false
    }
   },
   "outputs": [],
   "source": [
    "# Prints 0 * 0, 1 * 1, 2 * 2, ... 9 * 9 as well\n",
    "i = 0\n",
    "while i * i < 100:\n",
    "    print(i * i)\n",
    "    i = i + 1"
   ]
  },
  {
   "cell_type": "markdown",
   "metadata": {},
   "source": [
    "## Activity 1: Python is the best!\n",
    "\n",
    "Bobert thinks Python is the best programming language. Ever. (Even though he doesn't know how to write Python.) Do you agree?\n",
    "\n",
    "Ask the user to type in a programming language, then print `The best` if they typed in `Python`, `OK` if they typed in `Java` or `JavaScript`, `Awful` if they typed in `C++` or `C`, and `Meh` otherwise."
   ]
  },
  {
   "cell_type": "code",
   "execution_count": null,
   "metadata": {
    "collapsed": false,
    "jupyter": {
     "outputs_hidden": false
    }
   },
   "outputs": [],
   "source": [
    "# Activity 1 code here\n"
   ]
  },
  {
   "cell_type": "markdown",
   "metadata": {},
   "source": [
    "## Activity 2: Python is the worst!\n",
    "\n",
    "Bobert's very controversial claim that Python is the best programming language ever has incited the anger of some JavaScript fantics! They want you to write a program that prints `'Python is the worst!'` `100` times! Will you give in to the hatred or resist?"
   ]
  },
  {
   "cell_type": "code",
   "execution_count": null,
   "metadata": {},
   "outputs": [],
   "source": [
    "# Activity 2 code here\n"
   ]
  },
  {
   "cell_type": "markdown",
   "metadata": {},
   "source": [
    "## Activity 7: For-ever\n",
    "\n",
    "Billiam loves large numbers! Help him find the value of the product `1 * 2 * 3 * 4 * ... * 99 * 100` and print it out!"
   ]
  },
  {
   "cell_type": "code",
   "execution_count": null,
   "metadata": {
    "collapsed": false,
    "jupyter": {
     "outputs_hidden": false
    }
   },
   "outputs": [],
   "source": [
    "# Activity 7 code here\n"
   ]
  },
  {
   "cell_type": "markdown",
   "metadata": {},
   "source": [
    "## Activity 8: Password 3.0\n",
    "\n",
    "Let's say the user's password is `ilovepython`. Ask them to enter their password until they get it right. However, if they get three wrong attempts, tell them that they've been locked out!"
   ]
  },
  {
   "cell_type": "code",
   "execution_count": null,
   "metadata": {
    "collapsed": false,
    "jupyter": {
     "outputs_hidden": false
    }
   },
   "outputs": [],
   "source": [
    "# Activity 8 code here\n"
   ]
  },
  {
   "cell_type": "markdown",
   "metadata": {},
   "source": [
    "## Activity 9: Attack of the Pythons IV\n",
    "\n",
    "You are so tired from fighting Pythons, and they have now reproduced so much that you have no chance of fighting them all. So, you do the logical thing: run. Every second, you can run `2` meters. However, the Pythons are faster and can run (slither?) `4` meters in one second. Fortunately, you have a head start of `30` seconds. Your bunker is `100` meters away. Find out if you can reach your bunker before the Pythons catch up by writing a while loop to simulate your run!"
   ]
  },
  {
   "cell_type": "code",
   "execution_count": null,
   "metadata": {
    "collapsed": false,
    "jupyter": {
     "outputs_hidden": false
    }
   },
   "outputs": [],
   "source": [
    "# Activity 9 code here\n"
   ]
  },
  {
   "cell_type": "markdown",
   "metadata": {},
   "source": [
    "## Activity 10: Inverse sum\n",
    "\n",
    "Ask the user for a number `S`, and find the smallest `n`, so that `1 + 2 + 3 + ... + n` is greater or equal to `S`.\n",
    "\n",
    "Can you do it with a while loop? A for loop? With some math?"
   ]
  },
  {
   "cell_type": "code",
   "execution_count": null,
   "metadata": {
    "collapsed": false,
    "jupyter": {
     "outputs_hidden": false
    }
   },
   "outputs": [],
   "source": [
    "# Activity 10 code here\n"
   ]
  },
  {
   "cell_type": "markdown",
   "metadata": {},
   "source": [
    "## TL;DR\n",
    "\n",
    "TODO"
   ]
  }
 ],
 "metadata": {
  "kernelspec": {
   "display_name": "Python 3 (ipykernel)",
   "language": "python",
   "name": "python3"
  },
  "language_info": {
   "codemirror_mode": {
    "name": "ipython",
    "version": 3
   },
   "file_extension": ".py",
   "mimetype": "text/x-python",
   "name": "python",
   "nbconvert_exporter": "python",
   "pygments_lexer": "ipython3",
   "version": "3.10.4"
  }
 },
 "nbformat": 4,
 "nbformat_minor": 4
}
