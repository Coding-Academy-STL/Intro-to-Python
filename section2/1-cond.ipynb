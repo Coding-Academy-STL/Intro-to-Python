{
 "cells": [
  {
   "cell_type": "markdown",
   "metadata": {
    "collapsed": false
   },
   "source": [
    "```\n",
    "INTRO TO\n",
    "    ______  __________  ______  _   __\n",
    "   / __ \\ \\/ /_  __/ / / / __ \\/ | / /\n",
    "  / /_/ /\\  / / / / /_/ / / / /  |/ / \n",
    " / ____/ / / / / / __  / /_/ / /|  /  \n",
    "/_/     /_/ /_/ /_/ /_/\\____/_/ |_/   \n",
    "```"
   ]
  },
  {
   "cell_type": "markdown",
   "metadata": {
    "collapsed": false
   },
   "source": [
    "## 2.1 Conditionals\n",
    "\n",
    "We make decisions every day, such as what to eat for lunch or what to wear. We make these decisions based on our knowledge and outside conditions, such as what's in the fridge or the weather outside.\n",
    "\n",
    "How do computers make decisions? Let's look at some examples."
   ]
  },
  {
   "cell_type": "code",
   "execution_count": 2,
   "metadata": {
    "collapsed": false
   },
   "outputs": [
    {
     "name": "stdout",
     "output_type": "stream",
     "text": [
      "Temperature is 20\n"
     ]
    }
   ],
   "source": [
    "# Let's say we have a variable called temperature which is the temperature outside.\n",
    "# Based on the temperature, let's decide what to wear.\n",
    "\n",
    "# current temperature is 20 degrees\n",
    "temperature = 20\n",
    "\n",
    "print(\"Temperature is \" + str(temperature))"
   ]
  },
  {
   "cell_type": "code",
   "execution_count": 3,
   "metadata": {
    "collapsed": false
   },
   "outputs": [
    {
     "name": "stdout",
     "output_type": "stream",
     "text": [
      "It's really cold, you should wear a: \n"
     ]
    }
   ],
   "source": [
    "if temperature < 32:\n",
    "\t# it's really cold outside, what should I wear?\n",
    "\t# this code runs when the temperature is less than 32\n",
    "\tprint(\"It's really cold, you should wear a: \")"
   ]
  },
  {
   "cell_type": "markdown",
   "metadata": {
    "collapsed": false
   },
   "source": [
    "Here, `temperature < 32` is a condition\n",
    "\n",
    "It can either be `True` or `False`\n",
    " - If it is `True`, it will run the indented code below it\n",
    " - If it is `False`, it will **not** run the code and skip ahead\n",
    "\n",
    "Remember to include a colon `:` after the condition!"
   ]
  },
  {
   "cell_type": "code",
   "execution_count": 0,
   "metadata": {
    "collapsed": false
   },
   "outputs": [
   ],
   "source": [
   ]
  },
  {
   "cell_type": "code",
   "execution_count": 0,
   "metadata": {
    "collapsed": false
   },
   "outputs": [
   ],
   "source": [
   ]
  },
  {
   "cell_type": "markdown",
   "metadata": {
    "collapsed": false
   },
   "source": [
    "### Activity 1: It's Hot Outside!\n",
    "\n",
    "Billiam lives in the Sahara desert. Add another case for when the temperature is above 80 degrees."
   ]
  },
  {
   "cell_type": "code",
   "execution_count": 4,
   "metadata": {
    "collapsed": false
   },
   "outputs": [
   ],
   "source": [
    "temperature = 90\n",
    "\n",
    "if temperature < 32:\n",
    "\t# It's freezing outside!\n",
    "\tprint(\"It's freezing! You should wear a: \")\n",
    "# Add a case when the temperature is greater than 80"
   ]
  },
  {
   "cell_type": "code",
   "execution_count": 0,
   "metadata": {
    "collapsed": false
   },
   "outputs": [
   ],
   "source": [
   ]
  }
 ],
 "metadata": {
  "kernelspec": {
   "display_name": "Python 3 (Ubuntu Linux)",
   "language": "python",
   "name": "python3-ubuntu",
   "resource_dir": "/usr/local/share/jupyter/kernels/python3-ubuntu"
  },
  "language_info": {
   "codemirror_mode": {
    "name": "ipython",
    "version": 3
   },
   "file_extension": ".py",
   "mimetype": "text/x-python",
   "name": "python",
   "nbconvert_exporter": "python",
   "pygments_lexer": "ipython3",
   "version": "3.8.10"
  }
 },
 "nbformat": 4,
 "nbformat_minor": 4
}