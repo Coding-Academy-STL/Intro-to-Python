{
 "cells": [
  {
   "cell_type": "markdown",
   "metadata": {
    "collapsed": false
   },
   "source": [
    "```\n",
    "INTRO TO\n",
    "    ______  __________  ______  _   __\n",
    "   / __ \\ \\/ /_  __/ / / / __ \\/ | / /\n",
    "  / /_/ /\\  / / / / /_/ / / / /  |/ / \n",
    " / ____/ / / / / / __  / /_/ / /|  /  \n",
    "/_/     /_/ /_/ /_/ /_/\\____/_/ |_/   \n",
    "```"
   ]
  },
  {
   "cell_type": "markdown",
   "metadata": {
    "collapsed": false
   },
   "source": [
    "## 2.1 Conditionals\n",
    "\n",
    "We make decisions every day, such as what to eat for lunch or what to wear. We make these decisions based on our knowledge and outside conditions, such as what's in the fridge or the weather outside.\n",
    "\n",
    "How do computers make decisions? Let's look at some examples."
   ]
  },
  {
   "cell_type": "markdown",
   "metadata": {
    "collapsed": false
   },
   "source": [
    "Let's say we have a variable called `temperature` which is the temperature outside. Based on the temperature, let's decide what to wear."
   ]
  },
  {
   "cell_type": "code",
   "execution_count": 10,
   "metadata": {
    "collapsed": false
   },
   "outputs": [
    {
     "name": "stdout",
     "output_type": "stream",
     "text": [
      "The temperature is 20\n"
     ]
    }
   ],
   "source": [
    "temperature = 20 # current temperature is 20 degrees\n",
    "print('The temperature is ' + str(temperature))"
   ]
  },
  {
   "cell_type": "code",
   "execution_count": 11,
   "metadata": {
    "collapsed": false
   },
   "outputs": [
    {
     "name": "stdout",
     "output_type": "stream",
     "text": [
      "It is really cold, you should wear a \n"
     ]
    }
   ],
   "source": [
    "if temperature < 32:\n",
    "    # it's really cold outside, what should I wear?\n",
    "    # this code runs when the temperature is less than 32\n",
    "    print('It\\'s really cold, you should wear a ') # Add something creative here!"
   ]
  },
  {
   "cell_type": "markdown",
   "metadata": {
    "collapsed": false
   },
   "source": [
    "Here, `temperature < 32` is a condition. It can either be `True` or `False`.\n",
    "- If it is `True`, it will run the indented code below it\n",
    "- If it is `False`, it will **not** run the code and skip ahead\n",
    "\n",
    "To indent, press the tab key or four spaces. Remember to include a colon `:` after the condition!"
   ]
  },
  {
   "cell_type": "markdown",
   "metadata": {
    "collapsed": false
   },
   "source": [
    "We can add an else case that runs when the condition is not true"
   ]
  },
  {
   "cell_type": "code",
   "execution_count": 12,
   "metadata": {
    "collapsed": false
   },
   "outputs": [
    {
     "name": "stdout",
     "output_type": "stream",
     "text": [
      "Temperature is 20\n",
      "It is really cold outside, you should wear a \n"
     ]
    }
   ],
   "source": [
    "print('Temperature is ' + str(temperature))\n",
    "if temperature < 32:\n",
    "    # Runs when temperature is less than 32\n",
    "    print('It\\'s really cold outside, you should wear a ')\n",
    "else:\n",
    "    # Otherwise, when temperature is NOT less than 32\n",
    "    # So temperature is greater of equal to 32\n",
    "    # Run this code\n",
    "    print('It\\'s probably not that bad, you should wear a ')"
   ]
  },
  {
   "cell_type": "markdown",
   "metadata": {
    "collapsed": false
   },
   "source": [
    "We can use elif (else if) to add more cases.\n",
    "\n",
    "Each case below must be indented using the tab key"
   ]
  },
  {
   "cell_type": "code",
   "execution_count": 16,
   "metadata": {
    "collapsed": false
   },
   "outputs": [
    {
     "name": "stdout",
     "output_type": "stream",
     "text": [
      "Temperature is 60\n",
      "pretty nice\n"
     ]
    }
   ],
   "source": [
    "print('Temperature is ' + str(temperature))\n",
    "if temperature < 32:\n",
    "    # Runs when temperature less than 32\n",
    "    print('really cold')\n",
    "elif 60 <= temperature <= 80: # we can test if a variable is in a certain range\n",
    "    # <= means less than or equal to\n",
    "    # Runs when temperature is between 60 and 80, inclusive\n",
    "    print('pretty nice')\n",
    "else:\n",
    "    # Runs otherwise\n",
    "    print('no comment')"
   ]
  },
  {
   "cell_type": "code",
   "execution_count": 15,
   "metadata": {
    "collapsed": false
   },
   "outputs": [
   ],
   "source": [
    "temperature = 60"
   ]
  },
  {
   "cell_type": "markdown",
   "metadata": {
    "collapsed": false
   },
   "source": [
    "We can also check if two things are equal"
   ]
  },
  {
   "cell_type": "code",
   "execution_count": 0,
   "metadata": {
    "collapsed": false
   },
   "outputs": [
   ],
   "source": [
    "if temperature == 70: # Use == double equals to check equality\n",
    "    print('The temperature is perfect outside!')"
   ]
  },
  {
   "cell_type": "markdown",
   "metadata": {
    "collapsed": false
   },
   "source": [
    "But what happens when you use a = single equals?"
   ]
  },
  {
   "cell_type": "code",
   "execution_count": 17,
   "metadata": {
    "collapsed": false
   },
   "outputs": [
    {
     "ename": "SyntaxError",
     "evalue": "invalid syntax (<ipython-input-17-6c120fc7dfc2>, line 1)",
     "output_type": "error",
     "traceback": [
      "\u001b[0;36m  File \u001b[0;32m\"<ipython-input-17-6c120fc7dfc2>\"\u001b[0;36m, line \u001b[0;32m1\u001b[0m\n\u001b[0;31m    if temperature = 70: # Sets the value of temperature to 70\u001b[0m\n\u001b[0m                   ^\u001b[0m\n\u001b[0;31mSyntaxError\u001b[0m\u001b[0;31m:\u001b[0m invalid syntax\n"
     ]
    }
   ],
   "source": [
    "if temperature = 70: # WRONG! This is an error!\n",
    "    print(\"The temperature is perfect outside! Or is it?\")"
   ]
  },
  {
   "cell_type": "markdown",
   "metadata": {
    "collapsed": false
   },
   "source": [
    "This sets the value of `temperature` to `70` instead of checking equality! For conditions, you always want to use == double equals."
   ]
  },
  {
   "cell_type": "markdown",
   "metadata": {
    "collapsed": false
   },
   "source": [
    "### Activity 1: It's Hot Outside!\n",
    "\n",
    "Billiam lives in the Sahara desert. Add another case for when the temperature is above 80 degrees."
   ]
  },
  {
   "cell_type": "code",
   "execution_count": 4,
   "metadata": {
    "collapsed": false
   },
   "outputs": [
   ],
   "source": [
    "temperature = 90\n",
    "\n",
    "if temperature < 32:\n",
    "    # It's freezing outside!\n",
    "    print('It\\'s freezing! You should wear a ')\n",
    "# Add a case when the temperature is greater than 80"
   ]
  },
  {
   "cell_type": "code",
   "execution_count": 0,
   "metadata": {
    "collapsed": false
   },
   "outputs": [
   ],
   "source": [
   ]
  }
 ],
 "metadata": {
  "kernelspec": {
   "display_name": "Python 3 (Ubuntu Linux)",
   "language": "python",
   "name": "python3-ubuntu",
   "resource_dir": "/usr/local/share/jupyter/kernels/python3-ubuntu"
  },
  "language_info": {
   "codemirror_mode": {
    "name": "ipython",
    "version": 3
   },
   "file_extension": ".py",
   "mimetype": "text/x-python",
   "name": "python",
   "nbconvert_exporter": "python",
   "pygments_lexer": "ipython3",
   "version": "3.8.10"
  }
 },
 "nbformat": 4,
 "nbformat_minor": 4
}