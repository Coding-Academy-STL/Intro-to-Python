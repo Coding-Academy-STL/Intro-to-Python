{
 "cells": [
  {
   "cell_type": "markdown",
   "metadata": {},
   "source": [
    "```\n",
    "INTRO TO\n",
    "    ______  __________  ______  _   __\n",
    "   / __ \\ \\/ /_  __/ / / / __ \\/ | / /\n",
    "  / /_/ /\\  / / / / /_/ / / / /  |/ / \n",
    " / ____/ / / / / / __  / /_/ / /|  /  \n",
    "/_/     /_/ /_/ /_/ /_/\\____/_/ |_/   \n",
    "```"
   ]
  },
  {
   "cell_type": "markdown",
   "metadata": {},
   "source": [
    "## 2.1 Conditionals\n",
    "\n",
    "We make decisions every day, such as what to eat for lunch or what to wear. We make these decisions based on our knowledge and outside conditions, such as what's in the fridge or the weather outside.\n",
    "\n",
    "How do computers make decisions? Let's look at some examples."
   ]
  },
  {
   "cell_type": "markdown",
   "metadata": {},
   "source": [
    "Let's say we have a variable called `temperature` which is the temperature outside. Based on the temperature, let's decide what to wear."
   ]
  },
  {
   "cell_type": "code",
   "execution_count": null,
   "metadata": {
    "collapsed": false,
    "jupyter": {
     "outputs_hidden": false
    }
   },
   "outputs": [],
   "source": [
    "temperature = 20 # Current temperature is 20 degrees\n",
    "print('The temperature is ' + str(temperature))"
   ]
  },
  {
   "cell_type": "code",
   "execution_count": null,
   "metadata": {
    "collapsed": false,
    "jupyter": {
     "outputs_hidden": false
    }
   },
   "outputs": [],
   "source": [
    "if temperature < 32:\n",
    "    # It's really cold outside, what should I wear?\n",
    "    # This code runs when the temperature is less than 32\n",
    "    print('It\\'s really cold, you should wear a ') # Add something creative here!"
   ]
  },
  {
   "cell_type": "markdown",
   "metadata": {},
   "source": [
    "Here, `temperature < 32` is a condition. It can either be `True` or `False`.\n",
    "- If it is `True`, it will run the indented code below it\n",
    "- If it is `False`, it will **not** run the code and skip ahead\n",
    "\n",
    "To indent, press the tab key or four spaces. Remember to include a colon `:` after the condition!"
   ]
  },
  {
   "cell_type": "markdown",
   "metadata": {},
   "source": [
    "We can add an else case that runs when the condition is not true"
   ]
  },
  {
   "cell_type": "code",
   "execution_count": null,
   "metadata": {
    "collapsed": false,
    "jupyter": {
     "outputs_hidden": false
    }
   },
   "outputs": [],
   "source": [
    "print('Temperature is ' + str(temperature))\n",
    "if temperature < 32:\n",
    "    # Runs when temperature is less than 32\n",
    "    print('It\\'s really cold outside, you should wear a ')\n",
    "else:\n",
    "    # Otherwise, when temperature is NOT less than 32\n",
    "    # So temperature is greater of equal to 32\n",
    "    # Run this code\n",
    "    print('It\\'s probably not that bad, you should wear a ')"
   ]
  },
  {
   "cell_type": "markdown",
   "metadata": {},
   "source": [
    "We can use `elif` (else if) to add more cases.\n",
    "\n",
    "Each case below must be indented using the tab key"
   ]
  },
  {
   "cell_type": "code",
   "execution_count": null,
   "metadata": {
    "collapsed": false,
    "jupyter": {
     "outputs_hidden": false
    }
   },
   "outputs": [],
   "source": [
    "print('Temperature is ' + str(temperature))\n",
    "if temperature < 32:\n",
    "    # Runs when temperature less than 32\n",
    "    print('really cold')\n",
    "elif 60 <= temperature <= 80: # we can test if a variable is in a certain range\n",
    "    # <= means less than or equal to\n",
    "    # Runs when temperature is between 60 and 80, inclusive\n",
    "    print('pretty nice')\n",
    "else:\n",
    "    # Runs otherwise\n",
    "    print('no comment')"
   ]
  },
  {
   "cell_type": "code",
   "execution_count": null,
   "metadata": {
    "collapsed": false,
    "jupyter": {
     "outputs_hidden": false
    }
   },
   "outputs": [],
   "source": [
    "temperature = 60"
   ]
  },
  {
   "cell_type": "markdown",
   "metadata": {},
   "source": [
    "We can also check if two things are equal with `==`"
   ]
  },
  {
   "cell_type": "code",
   "execution_count": null,
   "metadata": {
    "collapsed": false,
    "jupyter": {
     "outputs_hidden": false
    }
   },
   "outputs": [],
   "source": [
    "if temperature == 70: # Use == double equals to check equality\n",
    "    print('The temperature is perfect outside!')"
   ]
  },
  {
   "cell_type": "markdown",
   "metadata": {},
   "source": [
    "But what happens when you use a `=` single equals?"
   ]
  },
  {
   "cell_type": "code",
   "execution_count": null,
   "metadata": {
    "collapsed": false,
    "jupyter": {
     "outputs_hidden": false
    }
   },
   "outputs": [],
   "source": [
    "if temperature = 70: # WRONG! This is an error!\n",
    "    print('The temperature is perfect outside! Or is it?')"
   ]
  },
  {
   "cell_type": "markdown",
   "metadata": {},
   "source": [
    "This sets the value of `temperature` to `70` instead of checking equality! For conditions, you always want to use == double equals."
   ]
  },
  {
   "cell_type": "markdown",
   "metadata": {},
   "source": [
    "### Activity 1: It's Hot Outside!\n",
    "\n",
    "Billiam lives in the Sahara desert. Add another case for when the temperature is above 80 degrees."
   ]
  },
  {
   "cell_type": "code",
   "execution_count": null,
   "metadata": {
    "collapsed": false,
    "jupyter": {
     "outputs_hidden": false
    }
   },
   "outputs": [],
   "source": [
    "# Activity 1 code here\n",
    "temperature = 90\n",
    "if temperature < 32:\n",
    "    # It's freezing outside!\n",
    "    print('It\\'s freezing! You should wear a ')\n",
    "# Add a case when the temperature is greater than 80"
   ]
  },
  {
   "cell_type": "markdown",
   "metadata": {},
   "source": [
    "### Activity 2: Your Age 2.0\n",
    "\n",
    "Ask the user for their age, then tell them what stage of life (baby, kid, teenager, adult, etc) they are in right now.\n",
    "\n",
    "Hint: Use `input()` and `print()`"
   ]
  },
  {
   "cell_type": "code",
   "execution_count": null,
   "metadata": {
    "collapsed": false,
    "jupyter": {
     "outputs_hidden": false
    }
   },
   "outputs": [],
   "source": [
    "# Activity 2 code here\n"
   ]
  },
  {
   "cell_type": "markdown",
   "metadata": {},
   "source": [
    "### Activity 3: Password\n",
    "\n",
    "We can use `len(your_string_here)` to get the length of a string:\n",
    "```\n",
    "name = 'Billiam'\n",
    "print(len(name)) # 7\n",
    "```\n",
    "\n",
    "Ask the user to enter a password. If has a length less than 8 characters, tell them their password is insecure! Otherwise, tell them that they chose a good password."
   ]
  },
  {
   "cell_type": "code",
   "execution_count": null,
   "metadata": {
    "collapsed": false,
    "jupyter": {
     "outputs_hidden": false
    }
   },
   "outputs": [],
   "source": [
    "# Activity 3 code here\n"
   ]
  },
  {
   "cell_type": "markdown",
   "metadata": {},
   "source": [
    "Now we're going to take a closer look a conditions."
   ]
  },
  {
   "cell_type": "code",
   "execution_count": null,
   "metadata": {
    "collapsed": false,
    "jupyter": {
     "outputs_hidden": false
    }
   },
   "outputs": [],
   "source": [
    "temperature = 60\n",
    "print(temperature < 32)\n",
    "print(temperature > 50)\n",
    "print(temperature > 90)"
   ]
  },
  {
   "cell_type": "markdown",
   "metadata": {},
   "source": [
    "Each condition is either `True` or `False`. We can assign a `True`/`False` value to a variable too!"
   ]
  },
  {
   "cell_type": "code",
   "execution_count": null,
   "metadata": {
    "collapsed": false,
    "jupyter": {
     "outputs_hidden": false
    }
   },
   "outputs": [],
   "source": [
    "cold_outside = temperature < 32"
   ]
  },
  {
   "cell_type": "markdown",
   "metadata": {},
   "source": [
    "`cold_outside` is a **boolean** variable. Booleans are another type, like integers and strings. They can only store the values `True` or `False`.\n",
    "\n",
    "In this case, `cold_outside` is `True` if the `temperature` is less than `32` and `false` otherwise."
   ]
  },
  {
   "cell_type": "markdown",
   "metadata": {},
   "source": [
    "Boolean variables are useful when we want to test multiple conditions. For example, let's say it is nice outside if the temperature is between `60` and `80`."
   ]
  },
  {
   "cell_type": "code",
   "execution_count": null,
   "metadata": {
    "collapsed": false,
    "jupyter": {
     "outputs_hidden": false
    }
   },
   "outputs": [],
   "source": [
    "# We can first set it to True\n",
    "nice_outside = True\n",
    "temperature = 50 # Try changing the temperature and see what happens\n",
    "\n",
    "# If the temperature is too cold, set it to False\n",
    "if temperature < 60:\n",
    "    nice_outside = False\n",
    "\n",
    "# If the temperature is too hot, set it to False\n",
    "if temperature > 80:\n",
    "    nice_outside = False\n",
    "\n",
    "print(nice_outside)"
   ]
  },
  {
   "cell_type": "markdown",
   "metadata": {},
   "source": [
    "Can we do it with a single condition?"
   ]
  },
  {
   "cell_type": "code",
   "execution_count": null,
   "metadata": {
    "collapsed": false,
    "jupyter": {
     "outputs_hidden": false
    }
   },
   "outputs": [],
   "source": [
    "nice_outside = 60 <= temperature <= 80\n",
    "print(nice_outside)"
   ]
  },
  {
   "cell_type": "markdown",
   "metadata": {},
   "source": [
    "We can use `not` to test if a boolean variable or conditional is not true."
   ]
  },
  {
   "cell_type": "code",
   "execution_count": null,
   "metadata": {
    "collapsed": false,
    "jupyter": {
     "outputs_hidden": false
    }
   },
   "outputs": [],
   "source": [
    "if not nice_outside:\n",
    "    print('Don\\'t go outside! It\\'s not nice outside!')\n",
    "else:\n",
    "    print(\"It's nice outside!\")"
   ]
  },
  {
   "cell_type": "markdown",
   "metadata": {},
   "source": [
    "We can use `and` to test if two conditions are both true."
   ]
  },
  {
   "cell_type": "code",
   "execution_count": null,
   "metadata": {
    "collapsed": false,
    "jupyter": {
     "outputs_hidden": false
    }
   },
   "outputs": [],
   "source": [
    "age = 18\n",
    "has_license = False\n",
    "if age >= 16 and has_license == True:\n",
    "    print('You are old enough and have a driver\\'s license.')\n",
    "    print('You can drive!')\n",
    "else:\n",
    "    print('You can\\'t drive yet!')"
   ]
  },
  {
   "cell_type": "markdown",
   "metadata": {},
   "source": [
    "### Activity 4: Don't Go Outside with Conditionals!\n",
    "\n",
    "Billiam lives on Venus and he wants to know if it is safe to go outside. If the temperature is less than 20 or greater than 100, he shouldn't go outside. Write a condition to help him!"
   ]
  },
  {
   "cell_type": "code",
   "execution_count": null,
   "metadata": {
    "collapsed": false,
    "jupyter": {
     "outputs_hidden": false
    }
   },
   "outputs": [],
   "source": [
    "# Activity 4 code here\n",
    "temperature = -40\n"
   ]
  },
  {
   "cell_type": "markdown",
   "metadata": {},
   "source": [
    "### Activity 5: Don't Go Outside with Booleans!\n",
    "\n",
    "Billiam lives on Venus and he wants to know if it is safe to go outside. If the temperature is less than 20 or greater than 100, he shouldn't go outside. Use a boolean variable to help him!"
   ]
  },
  {
   "cell_type": "code",
   "execution_count": null,
   "metadata": {
    "collapsed": false,
    "jupyter": {
     "outputs_hidden": false
    }
   },
   "outputs": [],
   "source": [
    "# Activity 5 code here\n",
    "temperature = -40\n",
    "can_go_outside = True\n"
   ]
  },
  {
   "cell_type": "markdown",
   "metadata": {},
   "source": [
    "### Activity 6: I Love Conditionals!\n",
    "\n",
    "Bobert is writing a complicated program to determine what to wear based on the temperature. He has some *very* specific requirements. If the weather is exactly 75 degrees, he wants to wear a t-shirt. Else, if the weather is between 0 and 32 degrees, inclusive, he wants to wear a gigantic coat. Else, if the weather is less than 40 or greater than 90, he doesn't want to go outside. Else, if the weather is greater than 75, he will wear a t-shirt and shorts. Else, if the weather is less or equal to than 50, he will wear a jacket. Otherwise, he will wear a long-sleeved shirt.\n",
    "\n",
    "Help Bobert write a program to determine what he should wear!"
   ]
  },
  {
   "cell_type": "code",
   "execution_count": null,
   "metadata": {
    "collapsed": false,
    "jupyter": {
     "outputs_hidden": false
    }
   },
   "outputs": [],
   "source": [
    "# Activity 6 code here\n",
    "print('What\\'s the temperature outside?')\n",
    "temperature = input()\n"
   ]
  }
 ],
 "metadata": {
  "kernelspec": {
   "display_name": "Python 3 (ipykernel)",
   "language": "python",
   "name": "python3"
  },
  "language_info": {
   "codemirror_mode": {
    "name": "ipython",
    "version": 3
   },
   "file_extension": ".py",
   "mimetype": "text/x-python",
   "name": "python",
   "nbconvert_exporter": "python",
   "pygments_lexer": "ipython3",
   "version": "3.9.7"
  }
 },
 "nbformat": 4,
 "nbformat_minor": 4
}
