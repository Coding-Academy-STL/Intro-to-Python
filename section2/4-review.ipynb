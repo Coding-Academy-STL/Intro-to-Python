{
 "cells": [
  {
   "cell_type": "markdown",
   "metadata": {
    "collapsed": false
   },
   "source": [
    "```\n",
    "INTRO TO\n",
    "    ______  __________  ______  _   __\n",
    "   / __ \\ \\/ /_  __/ / / / __ \\/ | / /\n",
    "  / /_/ /\\  / / / / /_/ / / / /  |/ / \n",
    " / ____/ / / / / / __  / /_/ / /|  /  \n",
    "/_/     /_/ /_/ /_/ /_/\\____/_/ |_/   \n",
    "```"
   ]
  },
  {
   "cell_type": "markdown",
   "metadata": {
    "collapsed": false
   },
   "source": [
    "## 2.4 Review\n",
    "\n",
    "This lesson we learned two important building blocks for making more sophisticated programs:\n",
    "- **Conditionals**: `if` / `elif` / `else`\n",
    "- **Repetition**: `for` loops / `while` loops"
   ]
  },
  {
   "cell_type": "code",
   "execution_count": 0,
   "metadata": {
    "collapsed": false
   },
   "outputs": [
   ],
   "source": [
    "# We use if / elif (else if) / else so the computer can make decisions\n",
    "\n",
    "language = \"Python\"\n",
    "if language == \"Python\":\n",
    "\tprint(\"Python is awesome!\")\n",
    "elif language == \"Java\":\n",
    "\tprint(\"Java is OK\")\n",
    "else:\n",
    "\tprint(language + \" is meh\")"
   ]
  },
  {
   "cell_type": "code",
   "execution_count": 0,
   "metadata": {
    "collapsed": false
   },
   "outputs": [
   ],
   "source": [
    "# We use for loops and while loops for repetition\n",
    "\n",
    "# prints 0*0, 1*1, 2*2, ... 9*9\n",
    "for i in range(0, 10):\n",
    "\tprint(i * i)"
   ]
  },
  {
   "cell_type": "code",
   "execution_count": 0,
   "metadata": {
    "collapsed": false
   },
   "outputs": [
   ],
   "source": [
    "# prints 0*0, 1*1, 2*2, ... 9*9 as well\n",
    "i = 0\n",
    "while i * i < 100:\n",
    "\tprint(i * i)\n",
    "\ti = i + 1"
   ]
  },
  {
   "cell_type": "markdown",
   "metadata": {
    "collapsed": false
   },
   "source": [
    "We typically use for loops when we know the number of repetitions in advance\n",
    "\n",
    "And while loops when we aren't sure how many times we need to repeat"
   ]
  },
  {
   "cell_type": "markdown",
   "metadata": {
    "collapsed": false
   },
   "source": [
    "### Activity 16: Python is the Best!\n",
    "\n",
    "Bobert thinks Python is the best programming language. Do you agree? Ask the user to type in a programming language, then print `The best` if they typed in `Python`, `OK` if they typed in `Java` or `JavaScript`, `Awful` if they typed in `C++` or `C`, and `Meh` otherwise."
   ]
  },
  {
   "cell_type": "code",
   "execution_count": 0,
   "metadata": {
    "collapsed": false
   },
   "outputs": [
   ],
   "source": [
   ]
  },
  {
   "cell_type": "markdown",
   "metadata": {
    "collapsed": false
   },
   "source": [
    "### Activity 17: For-ever\n",
    "\n",
    "Billiam loves large numbers! Help him find the value of the product `1 * 2 * 3 * 4 * ... * 99 * 100` and print it out!"
   ]
  },
  {
   "cell_type": "code",
   "execution_count": 0,
   "metadata": {
    "collapsed": false
   },
   "outputs": [
   ],
   "source": [
   ]
  },
  {
   "cell_type": "markdown",
   "metadata": {
    "collapsed": false
   },
   "source": [
    "### Activity 18: Password 3.0\n",
    "\n",
    "Let's say the user's password is `ilovepython`. Ask them to enter their password until they get it right. However, if they get three wrong attempts, tell them that they've been locked out!"
   ]
  },
  {
   "cell_type": "code",
   "execution_count": 0,
   "metadata": {
    "collapsed": false
   },
   "outputs": [
   ],
   "source": [
   ]
  },
  {
   "cell_type": "markdown",
   "metadata": {
    "collapsed": false
   },
   "source": [
    "### Challenge 1: Attack of the Pythons IV\n",
    "\n",
    "You are so tired from fighting Pythons, and they have now reproduced so much that you have no chance of reproducing. So, you do the logical thing: run. Every second, you can run `2` meters. However, the Pythons are faster and can run (slither?) `4` meters in one second. Fortunately, you have a head start of `30` seconds. Your bunker is `100` meters away. Find out if you can reach your bunker before the Pythons catch up by writing a while loop to simulate your run!"
   ]
  },
  {
   "cell_type": "code",
   "execution_count": 0,
   "metadata": {
    "collapsed": false
   },
   "outputs": [
   ],
   "source": [
   ]
  },
  {
   "cell_type": "markdown",
   "metadata": {
    "collapsed": false
   },
   "source": [
    "### Challenge 2: Inverse sum\n",
    "\n",
    "Ask the user for a number `S`, and find the smallest `n`, so that `1 + 2 + 3 + ... + n` is greater or equal to `S`.\n",
    "\n",
    "Can you do it with a while loop? A for loop? With some math?"
   ]
  },
  {
   "cell_type": "code",
   "execution_count": 0,
   "metadata": {
    "collapsed": false
   },
   "outputs": [
   ],
   "source": [
   ]
  }
 ],
 "metadata": {
  "kernelspec": {
   "display_name": "Python 3 (Ubuntu Linux)",
   "language": "python",
   "name": "python3-ubuntu",
   "resource_dir": "/usr/local/share/jupyter/kernels/python3-ubuntu"
  }
 },
 "nbformat": 4,
 "nbformat_minor": 4
}