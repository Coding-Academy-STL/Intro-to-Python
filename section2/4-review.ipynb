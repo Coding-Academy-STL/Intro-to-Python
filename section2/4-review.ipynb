{
 "cells": [
  {
   "cell_type": "markdown",
   "metadata": {},
   "source": [
    "```\n",
    "INTRO TO\n",
    "    ______  __________  ______  _   __\n",
    "   / __ \\ \\/ /_  __/ / / / __ \\/ | / /\n",
    "  / /_/ /\\  / / / / /_/ / / / /  |/ / \n",
    " / ____/ / / / / / __  / /_/ / /|  /  \n",
    "/_/     /_/ /_/ /_/ /_/\\____/_/ |_/   \n",
    "```"
   ]
  },
  {
   "cell_type": "markdown",
   "metadata": {},
   "source": [
    "## 2.4 Review\n",
    "\n",
    "This lesson we learned two important building blocks for making more sophisticated programs:\n",
    "- **Conditionals**: `if` / `elif` / `else`\n",
    "- **Repetition**: `for` loops / `while` loops"
   ]
  },
  {
   "cell_type": "markdown",
   "metadata": {},
   "source": [
    "We use `if` / `elif` (else if) / `else` so the computer can make decisions:"
   ]
  },
  {
   "cell_type": "code",
   "execution_count": null,
   "metadata": {
    "collapsed": false,
    "jupyter": {
     "outputs_hidden": false
    }
   },
   "outputs": [],
   "source": [
    "language = 'Python'\n",
    "if language == 'Python':\n",
    "    print('Python is awesome!')\n",
    "elif language == 'Java':\n",
    "    print('Java is OK')\n",
    "else:\n",
    "    print(language + ' is meh')"
   ]
  },
  {
   "cell_type": "markdown",
   "metadata": {},
   "source": [
    "With a `for` loop, we can repeat code!"
   ]
  },
  {
   "cell_type": "code",
   "execution_count": null,
   "metadata": {
    "collapsed": false,
    "jupyter": {
     "outputs_hidden": false
    }
   },
   "outputs": [],
   "source": [
    "# prints 0*0, 1*1, 2*2, ... 9*9\n",
    "for i in range(0, 10):\n",
    "    print(i * i)"
   ]
  },
  {
   "cell_type": "markdown",
   "metadata": {},
   "source": [
    "We typically use for loops when we know the number of repetitions in advance. If we don't know how many times we need to repeat, we use `while` loops."
   ]
  },
  {
   "cell_type": "code",
   "execution_count": null,
   "metadata": {
    "collapsed": false,
    "jupyter": {
     "outputs_hidden": false
    }
   },
   "outputs": [],
   "source": [
    "# prints 0*0, 1*1, 2*2, ... 9*9 as well\n",
    "i = 0\n",
    "while i * i < 100:\n",
    "    print(i * i)\n",
    "    i = i + 1"
   ]
  },
  {
   "cell_type": "markdown",
   "metadata": {},
   "source": [
    "### Activity 16: Python is the Best!\n",
    "\n",
    "Bobert thinks Python is the best programming language. Ever. Do you agree? Ask the user to type in a programming language, then print `The best` if they typed in `Python`, `OK` if they typed in `Java` or `JavaScript`, `Awful` if they typed in `C++` or `C`, and `Meh` otherwise."
   ]
  },
  {
   "cell_type": "code",
   "execution_count": null,
   "metadata": {
    "collapsed": false,
    "jupyter": {
     "outputs_hidden": false
    }
   },
   "outputs": [],
   "source": [
    "# Activity 16 code here\n"
   ]
  },
  {
   "cell_type": "markdown",
   "metadata": {},
   "source": [
    "### Activity 17: For-ever\n",
    "\n",
    "Billiam loves large numbers! Help him find the value of the product `1 * 2 * 3 * 4 * ... * 99 * 100` and print it out!"
   ]
  },
  {
   "cell_type": "code",
   "execution_count": null,
   "metadata": {
    "collapsed": false,
    "jupyter": {
     "outputs_hidden": false
    }
   },
   "outputs": [],
   "source": [
    "# Activity 17 code here\n"
   ]
  },
  {
   "cell_type": "markdown",
   "metadata": {},
   "source": [
    "### Activity 18: Password 3.0\n",
    "\n",
    "Let's say the user's password is `ilovepython`. Ask them to enter their password until they get it right. However, if they get three wrong attempts, tell them that they've been locked out!"
   ]
  },
  {
   "cell_type": "code",
   "execution_count": null,
   "metadata": {
    "collapsed": false,
    "jupyter": {
     "outputs_hidden": false
    }
   },
   "outputs": [],
   "source": [
    "# Activity 18 code here\n"
   ]
  },
  {
   "cell_type": "markdown",
   "metadata": {},
   "source": [
    "### Challenge 1: Attack of the Pythons IV\n",
    "\n",
    "You are so tired from fighting Pythons, and they have now reproduced so much that you have no chance of reproducing. So, you do the logical thing: run. Every second, you can run `2` meters. However, the Pythons are faster and can run (slither?) `4` meters in one second. Fortunately, you have a head start of `30` seconds. Your bunker is `100` meters away. Find out if you can reach your bunker before the Pythons catch up by writing a while loop to simulate your run!"
   ]
  },
  {
   "cell_type": "code",
   "execution_count": null,
   "metadata": {
    "collapsed": false,
    "jupyter": {
     "outputs_hidden": false
    }
   },
   "outputs": [],
   "source": [
    "# Challenge 1 code here\n"
   ]
  },
  {
   "cell_type": "markdown",
   "metadata": {},
   "source": [
    "### Challenge 2: Inverse sum\n",
    "\n",
    "Ask the user for a number `S`, and find the smallest `n`, so that `1 + 2 + 3 + ... + n` is greater or equal to `S`.\n",
    "\n",
    "Can you do it with a while loop? A for loop? With some math?"
   ]
  },
  {
   "cell_type": "code",
   "execution_count": null,
   "metadata": {
    "collapsed": false,
    "jupyter": {
     "outputs_hidden": false
    }
   },
   "outputs": [],
   "source": [
    "# Challenge 2 code here\n"
   ]
  }
 ],
 "metadata": {
  "kernelspec": {
   "display_name": "Python 3 (ipykernel)",
   "language": "python",
   "name": "python3"
  },
  "language_info": {
   "codemirror_mode": {
    "name": "ipython",
    "version": 3
   },
   "file_extension": ".py",
   "mimetype": "text/x-python",
   "name": "python",
   "nbconvert_exporter": "python",
   "pygments_lexer": "ipython3",
   "version": "3.9.7"
  }
 },
 "nbformat": 4,
 "nbformat_minor": 4
}
