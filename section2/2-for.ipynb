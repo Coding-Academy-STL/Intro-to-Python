{
 "cells": [
  {
   "cell_type": "markdown",
   "metadata": {
    "collapsed": false
   },
   "source": [
    "```\n",
    "INTRO TO\n",
    "    ______  __________  ______  _   __\n",
    "   / __ \\ \\/ /_  __/ / / / __ \\/ | / /\n",
    "  / /_/ /\\  / / / / /_/ / / / /  |/ / \n",
    " / ____/ / / / / / __  / /_/ / /|  /  \n",
    "/_/     /_/ /_/ /_/ /_/\\____/_/ |_/   \n",
    "```"
   ]
  },
  {
   "cell_type": "markdown",
   "metadata": {
    "collapsed": false
   },
   "source": [
    "## For Loops\n",
    "\n",
    "The world is full of repetition: you sleep and wake up every day, scientists repeat experiments many times to confirm their results, and [history repeats itself](https://en.wikipedia.org/wiki/Historic_recurrence#Similarities)!\n",
    "\n",
    "Computers were originally invented to automate computation, so they are also full of repetition. Let's see how we can use repetition in programs."
   ]
  },
  {
   "cell_type": "markdown",
   "metadata": {
    "collapsed": false
   },
   "source": [
    "Let's say we want to print the numbers 1 through 10. We could do this:"
   ]
  },
  {
   "cell_type": "code",
   "execution_count": 0,
   "metadata": {
    "collapsed": false
   },
   "outputs": [
   ],
   "source": [
    "print(1)\n",
    "print(2)\n",
    "print(3)\n",
    "print(4)\n",
    "print(5)\n",
    "print(6)\n",
    "print(7)\n",
    "print(8)\n",
    "print(9)\n",
    "print(10)"
   ]
  },
  {
   "cell_type": "markdown",
   "metadata": {
    "collapsed": false
   },
   "source": [
    "But what if we want to print the numbers from 1 to 100? That's a lot of work!\n",
    "\n",
    "Instead, we can use a **for loop**!"
   ]
  },
  {
   "cell_type": "code",
   "execution_count": 0,
   "metadata": {
    "collapsed": false
   },
   "outputs": [
   ],
   "source": [
    "for i in range(1, 101):\n",
    "    print(i)"
   ]
  },
  {
   "cell_type": "markdown",
   "metadata": {
    "collapsed": false
   },
   "source": [
    "What does this do?\n",
    "\n",
    "Imagine it is a repeat button. It will repeat the code a certain amount of times.\n",
    "\n",
    "For our for loop above, it repeats for every `i` in the range `1` **inclusive** to `101` **exclusive**. This means that it will repeat for every number from `1` to `100`.\n",
    "\n",
    "In general, a for loop in the `range(x, y)` will repeat for every number `x, x + 1, ..., y - 2, y - 1`. Note that `y` is **not** included!"
   ]
  },
  {
   "cell_type": "markdown",
   "metadata": {
    "collapsed": false
   },
   "source": [
    "### Activity 7: Spammer\n",
    "\n",
    "Billiam wants to become a professional spammer. He needs you to help him print `'Python is awesome!!!'` `100` times!"
   ]
  },
  {
   "cell_type": "code",
   "execution_count": 0,
   "metadata": {
    "collapsed": false
   },
   "outputs": [
   ],
   "source": [
   ]
  },
  {
   "cell_type": "markdown",
   "metadata": {
    "collapsed": false
   },
   "source": [
    "### Activity 8: Reversed!\n",
    "\n",
    "Bobert is stuck on this activity, so can you help him? Print the numbers from `1` to `10` in **reverse order**!\n",
    "\n",
    "Hint: Instead of `print(i)`, what else could we do?"
   ]
  },
  {
   "cell_type": "code",
   "execution_count": 0,
   "metadata": {
    "collapsed": false
   },
   "outputs": [
   ],
   "source": [
   ]
  },
  {
   "cell_type": "markdown",
   "metadata": {
    "collapsed": false
   },
   "source": [
    "Let's say we want to compute `1 * 2 * 3 * 4 * ... * 10`. Again, we can use a for loop to save time!"
   ]
  },
  {
   "cell_type": "code",
   "execution_count": 0,
   "metadata": {
    "collapsed": false
   },
   "outputs": [
   ],
   "source": [
    "product = 1 # Our product starts out at 1\n",
    "for i in range(2, 11): # i loops from 2, 3, 4, ... 10\n",
    "    # Each time, multiply the existing product by the next i\n",
    "    product = product * i\n",
    "print(product)"
   ]
  },
  {
   "cell_type": "markdown",
   "metadata": {
    "collapsed": false
   },
   "source": [
    "### Activity 9: Sum\n",
    "\n",
    "Ask the user for a number `n`, and print the sum of the first `n` positive integers, basically, print the sum `1 + 2 + 3 + ... + n`."
   ]
  },
  {
   "cell_type": "code",
   "execution_count": 0,
   "metadata": {
    "collapsed": false
   },
   "outputs": [
   ],
   "source": [
   ]
  },
  {
   "cell_type": "markdown",
   "metadata": {
    "collapsed": false
   },
   "source": [
    "### Activity 10: I Love For Loops!\n",
    "\n",
    "Billiam is continuing his training to become a pro spammer. However, if he only prints `'Hello, world!'` a bunch of times, the spam detectors will find out and block him. So, he wants to print some more variety. So, he wants to print one line of `'Hello, world!'`, one line of `'enjoy the spaaaaaam'`, one line of `'This is repetition number i'` (where `i` is the variable that is looping), and one line of `'spam detectors cant catch me loooool'` and repeat this 100 times. Please help him!"
   ]
  },
  {
   "cell_type": "code",
   "execution_count": 0,
   "metadata": {
    "collapsed": false
   },
   "outputs": [
   ],
   "source": [
   ]
  }
 ],
 "metadata": {
  "kernelspec": {
   "display_name": "Python 3 (Ubuntu Linux)",
   "language": "python",
   "name": "python3-ubuntu",
   "resource_dir": "/usr/local/share/jupyter/kernels/python3-ubuntu"
  },
  "language_info": {
   "codemirror_mode": {
    "name": "ipython",
    "version": 3
   },
   "file_extension": ".py",
   "mimetype": "text/x-python",
   "name": "python",
   "nbconvert_exporter": "python",
   "pygments_lexer": "ipython3",
   "version": "3.8.10"
  }
 },
 "nbformat": 4,
 "nbformat_minor": 4
}