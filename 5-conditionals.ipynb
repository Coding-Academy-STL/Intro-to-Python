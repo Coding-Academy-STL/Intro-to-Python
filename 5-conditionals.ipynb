{
 "cells": [
  {
   "cell_type": "markdown",
   "metadata": {},
   "source": [
    "```\n",
    "INTRO TO\n",
    "    ______  __________  ______  _   __\n",
    "   / __ \\ \\/ /_  __/ / / / __ \\/ | / /\n",
    "  / /_/ /\\  / / / / /_/ / / / /  |/ / \n",
    " / ____/ / / / / / __  / /_/ / /|  /  \n",
    "/_/     /_/ /_/ /_/ /_/\\____/_/ |_/   \n",
    "```"
   ]
  },
  {
   "cell_type": "markdown",
   "metadata": {},
   "source": [
    "# 5 Conditionals\n",
    "\n",
    "We make decisions every day, such as what to eat for lunch or what to wear. We make these decisions based on our knowledge and outside conditions, such as what's in the fridge or the weather outside.\n",
    "\n",
    "How do computers make decisions? Let's look at some examples."
   ]
  },
  {
   "cell_type": "markdown",
   "metadata": {},
   "source": [
    "Let's say we have a variable called `temperature` which is the temperature outside (in degrees Fahrenheit, sorry metric users!). Based on the temperature, let's decide what to wear."
   ]
  },
  {
   "cell_type": "code",
   "execution_count": null,
   "metadata": {
    "collapsed": false,
    "jupyter": {
     "outputs_hidden": false
    }
   },
   "outputs": [],
   "source": [
    "# Current temperature is 20 degrees\n",
    "temperature = 20\n",
    "print('The temperature is ' + str(temperature))"
   ]
  },
  {
   "cell_type": "markdown",
   "metadata": {},
   "source": [
    "Pop quiz: why do we have to use `str( )` here?"
   ]
  },
  {
   "cell_type": "code",
   "execution_count": null,
   "metadata": {
    "collapsed": false,
    "jupyter": {
     "outputs_hidden": false
    }
   },
   "outputs": [],
   "source": [
    "if temperature < 32:\n",
    "    # It's really cold outside, what should I wear?\n",
    "    # This code runs when the temperature is less than 32\n",
    "    # Add something creative here!\n",
    "    print('It\\'s really cold, you should wear a ')"
   ]
  },
  {
   "cell_type": "markdown",
   "metadata": {},
   "source": [
    "Here, `temperature < 32` is a condition. It can either be `True` or `False`.\n",
    "- If it is `True`, it will run the indented code below it\n",
    "- If it is `False`, it will **not** run the code and skip ahead\n",
    "\n",
    "To indent, press the tab key or four spaces. Remember to include a colon `:` after the condition!"
   ]
  },
  {
   "cell_type": "markdown",
   "metadata": {},
   "source": [
    "## Activity 1: Not cold\n",
    "\n",
    "The temperature outside has gotten warmer! Assign the variable `temperature` a value so that the condition is false and the indented code is not run."
   ]
  },
  {
   "cell_type": "code",
   "execution_count": null,
   "metadata": {},
   "outputs": [],
   "source": [
    "# Activity 1 code here\n",
    "\n",
    "temperature = 20\n",
    "\n",
    "if temperature < 32:\n",
    "    # It's really cold outside, what should I wear?\n",
    "    # This code runs when the temperature is less than 32\n",
    "    print('It\\'s really cold, you should wear a parka.')"
   ]
  },
  {
   "cell_type": "markdown",
   "metadata": {},
   "source": [
    "## Activity 2: Not hot\n",
    "\n",
    "The temperature outside has gotten colder! Create a variable `temperature`, assign it a low temperature, and then write a conditional that prints something out when the temperature is less than `50`. Make sure you add a `:` after the condition and indent!"
   ]
  },
  {
   "cell_type": "code",
   "execution_count": null,
   "metadata": {},
   "outputs": [],
   "source": [
    "# Activity 2 code here\n"
   ]
  },
  {
   "cell_type": "markdown",
   "metadata": {},
   "source": [
    "We can add an `else` case that runs when the condition is not true."
   ]
  },
  {
   "cell_type": "code",
   "execution_count": null,
   "metadata": {
    "collapsed": false,
    "jupyter": {
     "outputs_hidden": false
    }
   },
   "outputs": [],
   "source": [
    "# Current temperature is 40 degrees\n",
    "temperature = 40\n",
    "print('The temperature is ' + str(temperature))\n",
    "\n",
    "if temperature < 32:\n",
    "    # Runs when temperature is less than 32\n",
    "    print('It\\'s really cold outside, you should wear a ')\n",
    "else:\n",
    "    # Otherwise, when temperature is NOT less than 32\n",
    "    # So temperature is greater of equal to 32\n",
    "    print('It\\'s probably not that bad, you should wear a ')"
   ]
  },
  {
   "cell_type": "markdown",
   "metadata": {},
   "source": [
    "Cool! (Pun intended) But if we want to get even crazier, we can use `elif` (else if) to add more cases.\n",
    "\n",
    "The code for each case must be indented using the tab key!"
   ]
  },
  {
   "cell_type": "code",
   "execution_count": null,
   "metadata": {
    "collapsed": false,
    "jupyter": {
     "outputs_hidden": false
    }
   },
   "outputs": [],
   "source": [
    "# Current temperature is 100 degrees\n",
    "temperature = 100\n",
    "print('The temperature is ' + str(temperature))\n",
    "\n",
    "if temperature < 32:\n",
    "    # Runs when temperature less than 32\n",
    "    print('Really cold')\n",
    "elif 60 <= temperature <= 80:\n",
    "    # We can test if a variable is in a certain range\n",
    "    # <= means less than or equal to\n",
    "    # Runs when temperature is between 60 and 80, inclusive\n",
    "    print('Pretty nice')\n",
    "else:\n",
    "    # Runs otherwise\n",
    "    print('No comment')"
   ]
  },
  {
   "cell_type": "markdown",
   "metadata": {},
   "source": [
    "We can also check if two things are equal with `==`"
   ]
  },
  {
   "cell_type": "code",
   "execution_count": null,
   "metadata": {
    "collapsed": false,
    "jupyter": {
     "outputs_hidden": false
    }
   },
   "outputs": [],
   "source": [
    "temperature = 70\n",
    "\n",
    "# Use == double equals to check equality\n",
    "if temperature == 70:\n",
    "    print('The temperature is perfect outside!')"
   ]
  },
  {
   "cell_type": "markdown",
   "metadata": {},
   "source": [
    "But what happens when you use a `=` single equals?"
   ]
  },
  {
   "cell_type": "code",
   "execution_count": null,
   "metadata": {
    "collapsed": false,
    "jupyter": {
     "outputs_hidden": false
    }
   },
   "outputs": [],
   "source": [
    "# WRONG! This is an error!\n",
    "if temperature = 70:\n",
    "    print('The temperature is perfect outside! Or is it?')"
   ]
  },
  {
   "cell_type": "markdown",
   "metadata": {},
   "source": [
    "This sets the value of `temperature` to `70` instead of checking equality! For conditions, you always want to use == double equals."
   ]
  },
  {
   "cell_type": "markdown",
   "metadata": {},
   "source": [
    "## Activity 3: It's hot outside!\n",
    "\n",
    "Billiam is going to the Sahara desert. Add another case for when the temperature is above 80 degrees."
   ]
  },
  {
   "cell_type": "code",
   "execution_count": null,
   "metadata": {
    "collapsed": false,
    "jupyter": {
     "outputs_hidden": false
    }
   },
   "outputs": [],
   "source": [
    "# Activity 3 code here\n",
    "\n",
    "temperature = 90\n",
    "\n",
    "if temperature < 32:\n",
    "    # It's freezing outside!\n",
    "    print('It\\'s freezing! You should wear a parka.')\n",
    "# Add a case when the temperature is greater than 80"
   ]
  },
  {
   "cell_type": "markdown",
   "metadata": {
    "tags": []
   },
   "source": [
    "## Activity 4: It's nice outside!\n",
    "\n",
    "Bobert's favorite temperature range is `69` to `72` degrees. He can't stand if the temperature is too cold or too hot. Help him finish the code below that prints out his reaction."
   ]
  },
  {
   "cell_type": "code",
   "execution_count": null,
   "metadata": {
    "tags": []
   },
   "outputs": [],
   "source": [
    "# Activity 4 code here\n",
    "\n",
    "temperature = 76\n",
    "\n",
    "# Finish this condition\n",
    "if\n",
    "    print(\"It's too cold!\")\n",
    "# Finish this condition\n",
    "elif\n",
    "    print(\"Wow! It feels nice outside.\")\n",
    "else:\n",
    "    print(\"It's too hot!\")"
   ]
  },
  {
   "cell_type": "markdown",
   "metadata": {},
   "source": [
    "## Activity 5: Your age 2.0\n",
    "\n",
    "Ask the user to input their age, then tell them what stage of life (baby, kid, teenager, adult, etc) they are in right now."
   ]
  },
  {
   "cell_type": "code",
   "execution_count": null,
   "metadata": {
    "collapsed": false,
    "jupyter": {
     "outputs_hidden": false
    }
   },
   "outputs": [],
   "source": [
    "# Activity 5 code here\n"
   ]
  },
  {
   "cell_type": "markdown",
   "metadata": {},
   "source": [
    "## Activity 6: Password\n",
    "\n",
    "We can use `len(your_string_here)` to get the length of a string:\n",
    "```python\n",
    "name = 'Billiam'\n",
    "print(len(name)) # 7\n",
    "```\n",
    "\n",
    "Ask the user to input a password. If has a length less than `8` characters, tell them their password is insecure! Otherwise, tell them that they chose a good password."
   ]
  },
  {
   "cell_type": "code",
   "execution_count": null,
   "metadata": {
    "collapsed": false,
    "jupyter": {
     "outputs_hidden": false
    }
   },
   "outputs": [],
   "source": [
    "# Activity 6 code here\n"
   ]
  },
  {
   "cell_type": "markdown",
   "metadata": {},
   "source": [
    "Now let's dive deeper with conditionals. Here the output will print **True** if the conditional is met and **False** if it is not."
   ]
  },
  {
   "cell_type": "code",
   "execution_count": null,
   "metadata": {
    "collapsed": false,
    "jupyter": {
     "outputs_hidden": false
    }
   },
   "outputs": [],
   "source": [
    "temperature = 60\n",
    "print(temperature < 32)\n",
    "print(temperature > 50)\n",
    "print(temperature > 90)"
   ]
  },
  {
   "cell_type": "markdown",
   "metadata": {},
   "source": [
    "We can assign a `True`/`False` value to a variable too!"
   ]
  },
  {
   "cell_type": "code",
   "execution_count": null,
   "metadata": {
    "collapsed": false,
    "jupyter": {
     "outputs_hidden": false
    }
   },
   "outputs": [],
   "source": [
    "cold_outside = True\n",
    "hot_outside = False"
   ]
  },
  {
   "cell_type": "markdown",
   "metadata": {},
   "source": [
    "In this example, `cold_outside` and `hot_outside` are **boolean** variables. Booleans are another type, like integers and strings. They can only store the values `True` or `False`."
   ]
  },
  {
   "cell_type": "markdown",
   "metadata": {},
   "source": [
    "Boolean variables are useful when we want to test multiple conditions, and then use the result later. For example, let's say it is nice outside if the temperature is between `60` and `80`."
   ]
  },
  {
   "cell_type": "code",
   "execution_count": null,
   "metadata": {
    "collapsed": false,
    "jupyter": {
     "outputs_hidden": false
    }
   },
   "outputs": [],
   "source": [
    "# We can first set it to True\n",
    "nice_outside = True\n",
    "temperature = 50 # Try changing the temperature and see what happens\n",
    "\n",
    "# If the temperature is too cold, set it to False\n",
    "if temperature < 60:\n",
    "    nice_outside = False\n",
    "\n",
    "# If the temperature is too hot, set it to False\n",
    "if temperature > 80:\n",
    "    nice_outside = False\n",
    "\n",
    "print(nice_outside)"
   ]
  },
  {
   "cell_type": "code",
   "execution_count": null,
   "metadata": {},
   "outputs": [],
   "source": [
    "# You can also do this with one conditional\n",
    "nice_outside = 60 <= temperature <= 80"
   ]
  },
  {
   "cell_type": "markdown",
   "metadata": {},
   "source": [
    "Booleans are also useful if we might have changing values because the value of a boolean variable can be updated as needed. Say for example, we wanted to see if the weather is nice outside for two days."
   ]
  },
  {
   "cell_type": "code",
   "execution_count": null,
   "metadata": {},
   "outputs": [],
   "source": [
    "#Say the temperature is 70 on the first day\n",
    "temperature = 70\n",
    "\n",
    "nice_outside = 60 <= temperature <= 80\n",
    "print (\"Day 1:\",nice_outside)\n",
    "\n",
    "#And then say it is 50 on the second day\n",
    "temperature = 50\n",
    "nice_outside = 60 <= temperature <= 80\n",
    "print (\"Day 2:\", nice_outside)"
   ]
  },
  {
   "cell_type": "markdown",
   "metadata": {},
   "source": [
    "We can use `not` to test if a boolean variable or conditional is not true."
   ]
  },
  {
   "cell_type": "code",
   "execution_count": null,
   "metadata": {
    "collapsed": false,
    "jupyter": {
     "outputs_hidden": false
    }
   },
   "outputs": [],
   "source": [
    "if not nice_outside:\n",
    "    print('Don\\'t go outside! It\\'s not nice outside!')\n",
    "else:\n",
    "    print('It\\'s nice outside!')"
   ]
  },
  {
   "cell_type": "markdown",
   "metadata": {},
   "source": [
    "We can use `and` to test if two conditions are both true."
   ]
  },
  {
   "cell_type": "code",
   "execution_count": null,
   "metadata": {
    "collapsed": false,
    "jupyter": {
     "outputs_hidden": false
    }
   },
   "outputs": [],
   "source": [
    "age = 18\n",
    "has_license = False\n",
    "if age >= 16 and has_license == True:\n",
    "    print('You are old enough and have a driver\\'s license.')\n",
    "    print('You can drive!')\n",
    "else:\n",
    "    print('You can\\'t drive yet!')"
   ]
  },
  {
   "cell_type": "markdown",
   "metadata": {},
   "source": [
    "## Activity 7: Password review with booleans!\n",
    "\n",
    "Now you have to create a program that will take in a password as input and then print out a rating of the security of that password. If a password is less than 8 characters, it's weak, if it is between 9 and 12 inclusive, it is good, if it is from 13 to 20 inclusive, it is super strong, if it is any more than that, it is overkill."
   ]
  },
  {
   "cell_type": "code",
   "execution_count": null,
   "metadata": {},
   "outputs": [],
   "source": [
    "#Activity 9 code here\n",
    "\n",
    "weak = false\n",
    "good = false\n",
    "strong = false\n",
    "overkill = false"
   ]
  },
  {
   "cell_type": "markdown",
   "metadata": {},
   "source": [
    "## Activity 8: Don't go outside with conditionals!\n",
    "\n",
    "Billiam lives on Venus and he wants to know if it is safe to go outside. If the temperature is less than `20` or greater than `100`, he shouldn't go outside. Write a condition to help him!"
   ]
  },
  {
   "cell_type": "code",
   "execution_count": null,
   "metadata": {
    "collapsed": false,
    "jupyter": {
     "outputs_hidden": false
    }
   },
   "outputs": [],
   "source": [
    "# Activity 8 code here\n",
    "\n",
    "temperature = -40\n"
   ]
  },
  {
   "cell_type": "markdown",
   "metadata": {},
   "source": [
    "## Activity 9: Don't go outside with booleans!\n",
    "\n",
    "Billiam lives on Venus and he wants to know if it is safe to go outside. If the temperature is less than `20` or greater than `100`, he shouldn't go outside. Use a boolean variable to help him!"
   ]
  },
  {
   "cell_type": "code",
   "execution_count": null,
   "metadata": {
    "collapsed": false,
    "jupyter": {
     "outputs_hidden": false
    }
   },
   "outputs": [],
   "source": [
    "# Activity 9 code here\n",
    "\n",
    "temperature = -40\n",
    "can_go_outside = True\n"
   ]
  },
  {
   "cell_type": "markdown",
   "metadata": {
    "tags": []
   },
   "source": [
    "## Activity 10: I love conditionals!\n",
    "\n",
    "Bobert is writing a complicated program to determine what to wear based on the temperature. He has some *very* specific requirements. If the weather is exactly `75` degrees, he wants to wear a t-shirt. Else, if the weather is between `0` and `32` degrees, inclusive, he wants to wear a gigantic coat. Else, if the weather is less than `40` or greater than `90`, he doesn't want to go outside. Else, if the weather is greater than `75`, he will wear a t-shirt and shorts. Else, if the weather is less or equal to than `50`, he will wear a jacket. Otherwise, he will wear a long-sleeved shirt.\n",
    "\n",
    "Help Bobert write a program to determine what he should wear!"
   ]
  },
  {
   "cell_type": "code",
   "execution_count": null,
   "metadata": {
    "collapsed": false,
    "jupyter": {
     "outputs_hidden": false
    }
   },
   "outputs": [],
   "source": [
    "# Activity 10 code here\n",
    "\n",
    "print('What\\'s the temperature outside?')\n",
    "temperature = input()\n"
   ]
  },
  {
   "cell_type": "markdown",
   "metadata": {},
   "source": [
    "## TL;DR\n",
    "\n",
    "**Conditionals** are expressions in code that evaluate to **true** or **false** which are used to determine program flow. Conditionals are commonly used in **if statements** which contain a conditional and some instruction to do if that condition is met. For example, a condition could look like this:\n",
    "```python\n",
    "if num < 5:\n",
    "    print('Yes')\n",
    "```\n",
    "Here we have a **condition** checking if the value of num is less than 5 and if it is, the **body** is the code inside the if structure which will print \"Yes\" if the condition is met.\n",
    "\n",
    "To make if structures more specific, we can use `elif` and `else`. Elif stands for **else if** which in an if structure means that if the first condition wasn't met, then try this. **Else** means that if none of the previous conditions are met, then do the following. Here is an example:\n",
    "```python\n",
    "num = 5\n",
    "if num < 4:\n",
    "    print (\"Less\") #Skips this because num is more than 4\n",
    "elif num > 6:\n",
    "    print (\"More\") #Skips this because num is less than 6\n",
    "else:\n",
    "    print (\"Middle\") #Prints this because none of the previous conditions are met\n",
    "```\n",
    "Remember, you can add as many `elif` statements as you want to an if structure, you're not limited to just 1! But you can only have one `else` block.\n",
    "\n",
    "To make if structures more versatile, we can use `not` and `and`. `not` will check if a condition is **not** met and if it isn't met, then it will run the body code. `and` checks two conditionals and only runs the body code if **both** are met at the same time.\n",
    "\n",
    "We can also use conditionals in the form of **boolean** variables. These are variables that store true or false as data. Booleans are useful because they can hold the result of a conditional use it later on. Additionally, you can change the value of a boolean as needed which can be useful in many circumstances. Here is an example of booleans:\n",
    "```python\n",
    "smaller = 4 > 5 #False\n",
    "smaller = 6 > 5 #True\n",
    "\n",
    "if smaller:\n",
    "    #Body code\n",
    "```\n",
    "\n",
    "Here we have the boolean variable smaller start out holding False as a value, but then can be updated to True. Then it can be used as the condition of an if statement."
   ]
  }
 ],
 "metadata": {
  "kernelspec": {
   "display_name": "Python 3 (ipykernel)",
   "language": "python",
   "name": "python3"
  },
  "language_info": {
   "codemirror_mode": {
    "name": "ipython",
    "version": 3
   },
   "file_extension": ".py",
   "mimetype": "text/x-python",
   "name": "python",
   "nbconvert_exporter": "python",
   "pygments_lexer": "ipython3",
   "version": "3.10.4"
  }
 },
 "nbformat": 4,
 "nbformat_minor": 4
}
