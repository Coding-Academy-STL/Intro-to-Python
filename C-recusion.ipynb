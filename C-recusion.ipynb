{
 "cells": [
  {
   "cell_type": "markdown",
   "metadata": {},
   "source": [
    "```\n",
    "INTRO TO\n",
    "    ______  __________  ______  _   __\n",
    "   / __ \\ \\/ /_  __/ / / / __ \\/ | / /\n",
    "  / /_/ /\\  / / / / /_/ / / / /  |/ /\n",
    " / ____/ / / / / / __  / /_/ / /|  /\n",
    "/_/     /_/ /_/ /_/ /_/\\____/_/ |_/\n",
    "```"
   ]
  },
  {
   "cell_type": "markdown",
   "metadata": {},
   "source": [
    "# C Recursion\n",
    "\n",
    "Recusion is all about self-referential functions!"
   ]
  },
  {
   "cell_type": "code",
   "execution_count": null,
   "metadata": {
    "collapsed": false,
    "jupyter": {
     "outputs_hidden": false
    }
   },
   "outputs": [],
   "source": [
    "# A recursive function\n",
    "def my_func(n):\n",
    "    print('n:', n)\n",
    "    if n <= 0:  # Base condition\n",
    "        return 0\n",
    "    else:\n",
    "        return n + my_func(n - 1)\n",
    "\n",
    "\n",
    "print('triange:', my_func(6))"
   ]
  },
  {
   "cell_type": "code",
   "execution_count": null,
   "metadata": {
    "collapsed": false,
    "jupyter": {
     "outputs_hidden": false
    }
   },
   "outputs": [],
   "source": [
    "# example recursive function without end condition\n",
    "def my_func(n):\n",
    "    print('n:', n)\n",
    "    return n + my_func(n - 1)\n",
    "\n",
    "\n",
    "# what could go wrong?\n",
    "print('triange:', my_func(6))"
   ]
  },
  {
   "cell_type": "markdown",
   "metadata": {},
   "source": [
    "## A.3.2 Lambda Functions\n",
    "\n",
    "# inline function"
   ]
  },
  {
   "cell_type": "code",
   "execution_count": null,
   "metadata": {
    "collapsed": false,
    "jupyter": {
     "outputs_hidden": false
    }
   },
   "outputs": [],
   "source": [
    "def func1(a, b):\n",
    "    return a + b\n",
    "\n",
    "func2 = lambda a, b: a + b\n",
    "\n",
    "print(func1, func2)\n",
    "print(func1(2, 3), func2(2, 3))\n",
    "\n",
    "print((lambda a,b: a+b)(2,3))"
   ]
  },
  {
   "cell_type": "code",
   "execution_count": null,
   "metadata": {
    "collapsed": false,
    "jupyter": {
     "outputs_hidden": false
    }
   },
   "outputs": [],
   "source": [
    "list1 = [10,481,28,2]\n",
    "\n",
    "def func3(x):\n",
    "    return 2*x\n",
    "\n",
    "func4 = lambda x:2*x\n",
    "\n",
    "print(list(map(func3,list1)))\n",
    "print(list(map(func4,list1)))\n",
    "print(list(map(lambda x:2*x,list1)))"
   ]
  },
  {
   "cell_type": "markdown",
   "metadata": {},
   "source": [
    "## A.3.3 Spread Operator\n",
    "\n",
    "# * for list\n",
    "# ** for dict\n",
    "# deletes brackets []/{}: [1,2,3] => 1,2,3"
   ]
  },
  {
   "cell_type": "code",
   "execution_count": null,
   "metadata": {
    "collapsed": false,
    "jupyter": {
     "outputs_hidden": false
    }
   },
   "outputs": [],
   "source": [
    "list1 = [1,2,3]\n",
    "list2 = [4,5,*list1,6]\n",
    "\n",
    "print(list2)"
   ]
  },
  {
   "cell_type": "code",
   "execution_count": null,
   "metadata": {
    "collapsed": false,
    "jupyter": {
     "outputs_hidden": false
    }
   },
   "outputs": [],
   "source": [
    "dict1 = {'a':1,'b':2,'c':3}\n",
    "dict2 = {'d':4,'e':5,**dict1, 'f':6}\n",
    "\n",
    "print(dict2)"
   ]
  },
  {
   "cell_type": "code",
   "execution_count": null,
   "metadata": {
    "collapsed": false,
    "jupyter": {
     "outputs_hidden": false
    }
   },
   "outputs": [],
   "source": [
    "def func1(a, b, *c):\n",
    "    return a * b + sum(c)\n",
    "\n",
    "print(func1(2,3)) # 2 * 3\n",
    "print(func1(2,3,5,1,3,2,5)) # 2 * 3 + sum([5,1,3,2,5])"
   ]
  },
  {
   "cell_type": "code",
   "execution_count": null,
   "metadata": {
    "collapsed": false,
    "jupyter": {
     "outputs_hidden": false
    }
   },
   "outputs": [],
   "source": [
    "def func2(a, b, **c):\n",
    "    print(a,b,c)\n",
    "\n",
    "print(func2(4,2,c=31,d=32))"
   ]
  },
  {
   "cell_type": "code",
   "execution_count": null,
   "metadata": {
    "collapsed": false,
    "jupyter": {
     "outputs_hidden": false
    }
   },
   "outputs": [],
   "source": [
    "eval('print(123)') # string to code"
   ]
  },
  {
   "cell_type": "code",
   "execution_count": null,
   "metadata": {
    "collapsed": false,
    "jupyter": {
     "outputs_hidden": false
    }
   },
   "outputs": [],
   "source": [
    "# https://scipy-lectures.org/advanced/advanced_python/index.html#iterators-generator-expressions-and-generators"
   ]
  }
 ],
 "metadata": {
  "kernelspec": {
   "display_name": "Python 3 (ipykernel)",
   "language": "python",
   "name": "python3"
  },
  "language_info": {
   "codemirror_mode": {
    "name": "ipython",
    "version": 3
   },
   "file_extension": ".py",
   "mimetype": "text/x-python",
   "name": "python",
   "nbconvert_exporter": "python",
   "pygments_lexer": "ipython3",
   "version": "3.10.4"
  }
 },
 "nbformat": 4,
 "nbformat_minor": 4
}
