{
 "cells": [
  {
   "cell_type": "markdown",
   "metadata": {},
   "source": [
    "```\n",
    "INTRO TO\n",
    "    ______  __________  ______  _   __\n",
    "   / __ \\ \\/ /_  __/ / / / __ \\/ | / /\n",
    "  / /_/ /\\  / / / / /_/ / / / /  |/ / \n",
    " / ____/ / / / / / __  / /_/ / /|  /  \n",
    "/_/     /_/ /_/ /_/ /_/\\____/_/ |_/   \n",
    "```"
   ]
  },
  {
   "cell_type": "markdown",
   "metadata": {},
   "source": [
    "# 11 Libraries\n",
    "\n",
    "Python is awesome! But... it doesn't have everything.\n",
    "\n",
    "We can use **libraries** to extend what Python can do. Libraries contain code that other people have written. You can **import** them and build on top of other people's code!"
   ]
  },
  {
   "cell_type": "markdown",
   "metadata": {},
   "source": [
    "Let's look at a simple example. Say we want to output some colorful text instead of the normal boring black text.\n",
    "\n",
    "We'll use the `termcolor` library, created by some random person on the internet. You can find this library at https://pypi.org/project/termcolor. PyPI stands for the Python Package Index. It contains thousands of libraries packaged for you to use! It also has some useful information on how to use each library.\n",
    "\n",
    "First, we'll import the library `termcolor`:"
   ]
  },
  {
   "cell_type": "code",
   "execution_count": null,
   "metadata": {
    "collapsed": false,
    "jupyter": {
     "outputs_hidden": false
    }
   },
   "outputs": [],
   "source": [
    "import termcolor"
   ]
  },
  {
   "cell_type": "markdown",
   "metadata": {},
   "source": [
    "Oh no! We don't have `termcolor` installed!\n",
    "\n",
    "Fortunately, we can use **`pip`** to install the library (technically called packages). `pip` is a tool that automatically fetches the right file to download from PyPI and installs it."
   ]
  },
  {
   "cell_type": "code",
   "execution_count": null,
   "metadata": {},
   "outputs": [],
   "source": [
    "%pip install termcolor"
   ]
  },
  {
   "cell_type": "markdown",
   "metadata": {},
   "source": [
    "Cool, now we can import and use `termcolor`!"
   ]
  },
  {
   "cell_type": "code",
   "execution_count": null,
   "metadata": {
    "collapsed": false,
    "jupyter": {
     "outputs_hidden": false
    }
   },
   "outputs": [],
   "source": [
    "import termcolor\n",
    "\n",
    "# Now we can use its functions!\n",
    "termcolor.cprint('Hello, World!', 'green', 'on_red')"
   ]
  },
  {
   "cell_type": "markdown",
   "metadata": {},
   "source": [
    "The library `termcolor` contains the function `cprint( )`. This function is similar to `print( )` but you can give it two more arguments. One controls the text color. The other controls the background color.\n",
    "\n",
    "Note that here we used `termcolor.cprint( )` instead of just `cprint( )`. We have to tell Python that the `cprint( )` function is located in the `termcolor` library, or how else will Python know?"
   ]
  },
  {
   "cell_type": "markdown",
   "metadata": {},
   "source": [
    "## Activity 1: Red on green\n",
    "\n",
    "Print out one of your hobbies, but with red colored text on a green background!"
   ]
  },
  {
   "cell_type": "code",
   "execution_count": null,
   "metadata": {
    "collapsed": false,
    "jupyter": {
     "outputs_hidden": false
    }
   },
   "outputs": [],
   "source": [
    "# Activity 1 code here\n"
   ]
  },
  {
   "cell_type": "markdown",
   "metadata": {},
   "source": [
    "## Activity 2: Can you read?\n",
    "\n",
    "Can you print something with **cyan** text? Billiam can. How about you?\n",
    "\n",
    "Check out https://pypi.org/project/termcolor if you aren't sure!"
   ]
  },
  {
   "cell_type": "code",
   "execution_count": null,
   "metadata": {
    "collapsed": false,
    "jupyter": {
     "outputs_hidden": false
    }
   },
   "outputs": [],
   "source": [
    "# Activity 2 code here\n"
   ]
  },
  {
   "cell_type": "markdown",
   "metadata": {},
   "source": [
    "`termcolor` was made by some random person and published to the PyPI. However, our next example, `random`, is made by the same people behind Python. `random` is part of the Python **standard library**. You can find its information at https://docs.python.org/3/library/random.html.\n",
    "\n",
    "Libraries in the standard library are always already installed, so you don't have to do anything with `pip`."
   ]
  },
  {
   "cell_type": "code",
   "execution_count": null,
   "metadata": {
    "collapsed": false,
    "jupyter": {
     "outputs_hidden": false
    }
   },
   "outputs": [],
   "source": [
    "import random\n",
    "\n",
    "print(random.randint(1, 6)) # Roll a dice"
   ]
  },
  {
   "cell_type": "markdown",
   "metadata": {},
   "source": [
    "## Activity 3: Flip a coin\n",
    "\n",
    "Billiam is writing a function that flips a coin and returns the result. However, he doesn't know how to make it random. Help him!"
   ]
  },
  {
   "cell_type": "code",
   "execution_count": null,
   "metadata": {
    "collapsed": false,
    "jupyter": {
     "outputs_hidden": false
    }
   },
   "outputs": [],
   "source": [
    "# Activity 3 code here\n"
   ]
  },
  {
   "cell_type": "markdown",
   "metadata": {},
   "source": [
    "## Activity 4: Do the shuffle\n",
    "\n",
    "Bella has a list and wants to shuffle it around. Search the information for the `random` library and see if you can find a way to do this!"
   ]
  },
  {
   "cell_type": "code",
   "execution_count": null,
   "metadata": {},
   "outputs": [],
   "source": [
    "# Activity 4 code here\n"
   ]
  },
  {
   "cell_type": "markdown",
   "metadata": {},
   "source": [
    "## Activity 5: This!\n",
    "\n",
    "Bobert was importing random libraries the other day and came across `this`. Have some fun and decipher this mysterious library!"
   ]
  },
  {
   "cell_type": "code",
   "execution_count": null,
   "metadata": {},
   "outputs": [],
   "source": [
    "# Activity 5 code here\n",
    "\n",
    "import this\n"
   ]
  },
  {
   "cell_type": "markdown",
   "metadata": {},
   "source": [
    "## Activity 6: Random color\n",
    "\n",
    "Bobert loves some randomness in his life. Print out `'Hello world!'` with blue, green, or red text, each with 1/3 probability!"
   ]
  },
  {
   "cell_type": "code",
   "execution_count": null,
   "metadata": {
    "collapsed": false,
    "jupyter": {
     "outputs_hidden": false
    }
   },
   "outputs": [],
   "source": [
    "# Activity 6 code here\n"
   ]
  },
  {
   "cell_type": "markdown",
   "metadata": {},
   "source": [
    "All of the standard libraries are at https://docs.python.org/3/library/. You can find all other libraries at https://pypi.org."
   ]
  },
  {
   "cell_type": "markdown",
   "metadata": {},
   "source": [
    "## Activity 7: Which library?\n",
    "\n",
    "Billiam is writing a new spam bot in Python as he continues his journey towards becoming a pro spammer. He doesn't want to write tons of code, so he is looking for a library to help him with email. He also wants one in the Python Standard Library instead of one made by some random person on PyPI. Can you find what he's looking for?"
   ]
  },
  {
   "cell_type": "code",
   "execution_count": null,
   "metadata": {
    "collapsed": false,
    "jupyter": {
     "outputs_hidden": false
    }
   },
   "outputs": [],
   "source": [
    "# Activity 7 code here\n"
   ]
  },
  {
   "cell_type": "markdown",
   "metadata": {},
   "source": [
    "## Activity 8: I love libraries!\n",
    "\n",
    "What's the weirdest library you can find on PyPI? Be creative!\n",
    "\n",
    "The catch: you have to install the library with `pip` and write a short program that imports and uses the library!"
   ]
  },
  {
   "cell_type": "code",
   "execution_count": null,
   "metadata": {
    "collapsed": false,
    "jupyter": {
     "outputs_hidden": false
    }
   },
   "outputs": [],
   "source": [
    "# Activity 8 code here\n"
   ]
  },
  {
   "cell_type": "markdown",
   "metadata": {},
   "source": [
    "Your best friend when writing Python is looking up things online! You can often find quick and easy answers to your questions on websites like [StackOverflow](https://stackoverflow.com). When searching things, make sure you specify `python` in your search so you don't get results for other programming languages."
   ]
  },
  {
   "cell_type": "markdown",
   "metadata": {},
   "source": [
    "## Activity 9: Lazy sort\n",
    "\n",
    "Billiam wants to sort a list, but he's too lazy to open a new tab and search it up. Try searching up `python sort list` and help Billiam sort his list!"
   ]
  },
  {
   "cell_type": "code",
   "execution_count": null,
   "metadata": {},
   "outputs": [],
   "source": [
    "# Activity 9 code here\n",
    "\n",
    "billiam_list = [42, 13, 1729, -1]\n"
   ]
  },
  {
   "cell_type": "markdown",
   "metadata": {},
   "source": [
    "## Activity 10: I love the internet!\n",
    "\n",
    "Alright, so Bobert's been struggling with this problem for hours. He's trying to find all the unique items in a list, and he's come up with all of these elaborate schemes to do it, but none of them work! He's so exhausted from debugging all of his complicated code for hours and about to give up...\n",
    "\n",
    "But maybe... the internet can help!"
   ]
  },
  {
   "cell_type": "code",
   "execution_count": null,
   "metadata": {},
   "outputs": [],
   "source": [
    "# Activity 10 code here\n",
    "\n",
    "bobert_list = [1, 2, 3, 2, 1, 2, 3, 4]\n"
   ]
  }
 ],
 "metadata": {
  "kernelspec": {
   "display_name": "Python 3 (ipykernel)",
   "language": "python",
   "name": "python3"
  },
  "language_info": {
   "codemirror_mode": {
    "name": "ipython",
    "version": 3
   },
   "file_extension": ".py",
   "mimetype": "text/x-python",
   "name": "python",
   "nbconvert_exporter": "python",
   "pygments_lexer": "ipython3",
   "version": "3.10.4"
  }
 },
 "nbformat": 4,
 "nbformat_minor": 4
}
