{
 "cells": [
  {
   "cell_type": "markdown",
   "metadata": {},
   "source": [
    "```\n",
    "INTRO TO\n",
    "    ______  __________  ______  _   __\n",
    "   / __ \\ \\/ /_  __/ / / / __ \\/ | / /\n",
    "  / /_/ /\\  / / / / /_/ / / / /  |/ / \n",
    " / ____/ / / / / / __  / /_/ / /|  /  \n",
    "/_/     /_/ /_/ /_/ /_/\\____/_/ |_/   \n",
    "```"
   ]
  },
  {
   "cell_type": "markdown",
   "metadata": {},
   "source": [
    "# 11 Libraries\n",
    "\n",
    "Python is awesome! But... it doesn't have everything.\n",
    "\n",
    "We can use **libraries** to extend what Python can do. Libraries contain code that other people have written. You can **import** them and build on top of other people's code!"
   ]
  },
  {
   "cell_type": "markdown",
   "metadata": {},
   "source": [
    "Let's look at a simple example. Say we want to output some colorful text instead of the normal boring black text. First, we need to import the library `termcolor`."
   ]
  },
  {
   "cell_type": "code",
   "execution_count": null,
   "metadata": {
    "collapsed": false,
    "jupyter": {
     "outputs_hidden": false
    }
   },
   "outputs": [],
   "source": [
    "import termcolor"
   ]
  },
  {
   "cell_type": "markdown",
   "metadata": {},
   "source": [
    "Oh no! We don't have `termcolor` installed! Fortunately, we can use the `pip3` tool to install packages. Open up a terminal and type `pip3 install termcolor`. Finally, restart the notebook to use the new `termcolor` module."
   ]
  },
  {
   "cell_type": "code",
   "execution_count": null,
   "metadata": {
    "collapsed": false,
    "jupyter": {
     "outputs_hidden": false
    }
   },
   "outputs": [],
   "source": [
    "import termcolor\n",
    "\n",
    "# Now we can use its functions!\n",
    "termcolor.cprint('Hello, World!', 'green', 'on_red')"
   ]
  },
  {
   "cell_type": "markdown",
   "metadata": {},
   "source": [
    "The library `termcolor` contains the function `cprint`.\n",
    "This function is similar to print but allows you to pass in two more arguments.\n",
    "One controls the text color.\n",
    "The other controls the background color."
   ]
  },
  {
   "cell_type": "markdown",
   "metadata": {},
   "source": [
    "You can find this library at https://pypi.org/project/termcolor.\n",
    "PyPI is the Python Package Index.\n",
    "It contains thousands of libraries packaged for you to use!\n",
    "It also has some useful information on how to use each library."
   ]
  },
  {
   "cell_type": "markdown",
   "metadata": {},
   "source": [
    "## Activity 1: Red on green\n",
    "\n",
    "Print out one of your hobbies, but with red colored text on a green background!\n",
    "\n",
    "Look at the example if you're not sure how to do this!"
   ]
  },
  {
   "cell_type": "code",
   "execution_count": null,
   "metadata": {
    "collapsed": false,
    "jupyter": {
     "outputs_hidden": false
    }
   },
   "outputs": [],
   "source": [
    "# Activity 1 code here\n"
   ]
  },
  {
   "cell_type": "markdown",
   "metadata": {},
   "source": [
    "## Activity 2: Can you read?\n",
    "\n",
    "Can you print something with **bold** text? Bobert can. What about you?\n",
    "\n",
    "Check out https://pypi.org/project/termcolor if you aren't sure!"
   ]
  },
  {
   "cell_type": "code",
   "execution_count": null,
   "metadata": {
    "collapsed": false,
    "jupyter": {
     "outputs_hidden": false
    }
   },
   "outputs": [],
   "source": [
    "# Activity 2 code here\n"
   ]
  },
  {
   "cell_type": "markdown",
   "metadata": {},
   "source": [
    "`termcolor` was made by some random person\n",
    "and published to the PyPI.\n",
    "However, our next example, `random`, is made by the same people behind Python.\n",
    "`random` is part of the Python **standard library**.\n",
    "You can find its information at https://docs.python.org/3/library/random.html."
   ]
  },
  {
   "cell_type": "markdown",
   "metadata": {},
   "source": [
    "We start off as usual."
   ]
  },
  {
   "cell_type": "code",
   "execution_count": null,
   "metadata": {
    "collapsed": false,
    "jupyter": {
     "outputs_hidden": false
    }
   },
   "outputs": [],
   "source": [
    "import random\n",
    "\n",
    "print(random.randint(1, 6)) # Roll a dice"
   ]
  },
  {
   "cell_type": "markdown",
   "metadata": {},
   "source": [
    "## Activity 3: Flip a coin\n",
    "\n",
    "Billiam is writing a function that flips a coin. However, he doesn't know how to make it random. Help him!"
   ]
  },
  {
   "cell_type": "code",
   "execution_count": null,
   "metadata": {
    "collapsed": false,
    "jupyter": {
     "outputs_hidden": false
    }
   },
   "outputs": [],
   "source": [
    "# Activity 3 code here\n"
   ]
  },
  {
   "cell_type": "markdown",
   "metadata": {},
   "source": [
    "## Activity 4: Random color\n",
    "\n",
    "Bobert loves some randomness in his life. Print out \"Hello world!\" with blue, green, or red text, each with 1/3 probability!"
   ]
  },
  {
   "cell_type": "code",
   "execution_count": null,
   "metadata": {
    "collapsed": false,
    "jupyter": {
     "outputs_hidden": false
    }
   },
   "outputs": [],
   "source": [
    "# Activity 4 code here\n"
   ]
  },
  {
   "cell_type": "markdown",
   "metadata": {},
   "source": [
    "All of the standard libraries are at https://docs.python.org/3/library/.\n",
    "You can find all other libraries at https://pypi.org/."
   ]
  },
  {
   "cell_type": "markdown",
   "metadata": {},
   "source": [
    "## Activity 5: Which library?\n",
    "\n",
    "Bobert is writing a new spam bot in Python. He doesn't want to write tons of code, so he is looking for a library to help him with email. He also wants one in the Python Standard Library instead of one made by some rando in PyPI. Can you find what he is looking for?"
   ]
  },
  {
   "cell_type": "code",
   "execution_count": null,
   "metadata": {
    "collapsed": false,
    "jupyter": {
     "outputs_hidden": false
    }
   },
   "outputs": [],
   "source": []
  },
  {
   "cell_type": "markdown",
   "metadata": {},
   "source": [
    "## Activity 6: I love libraries\n",
    "\n",
    "What's the weirdest library you can find on PyPI? Be creative!"
   ]
  },
  {
   "cell_type": "code",
   "execution_count": null,
   "metadata": {
    "collapsed": false,
    "jupyter": {
     "outputs_hidden": false
    }
   },
   "outputs": [],
   "source": []
  },
  {
   "cell_type": "markdown",
   "metadata": {},
   "source": [
    "Your best friend when writing Python is looking up things online!"
   ]
  },
  {
   "cell_type": "markdown",
   "metadata": {},
   "source": [
    "THIS PART NEEDS CLEANUP\n",
    "Practice finding the answers online:\n",
    "\n",
    "1. sort a list (search: 'python sort list')\n",
    "2. get all unique elements of a list (search: 'python get unique elements of list')\n",
    "3. convert base 16 string to base 10 (search: 'python convert base 16 to base 10')\n",
    "4. convert string of numbers to list of integers (search: 'python string of integers to list of integers')"
   ]
  },
  {
   "cell_type": "code",
   "execution_count": null,
   "metadata": {
    "tags": []
   },
   "outputs": [],
   "source": [
    "list1 = [4, -4, 3, 3, 6, 3, 6]\n",
    "\n",
    "\n",
    "\n",
    "# Expected output 1: [-4, 3, 3, 3, 4, 6, 6]\n",
    "\n",
    "# Expected output 2: {3, 4, -4, 6}\n",
    "\n",
    "\n",
    "\n",
    "# Expected output 3: 145984783\n",
    "base16 = \"8B38D0F\"\n",
    "\n",
    "# Expected output 4: [58, 2, -31, 0, 2]\n",
    "str1 = \"58 2 -31 0 2\""
   ]
  },
  {
   "cell_type": "markdown",
   "metadata": {},
   "source": [
    "## Activity 7: Turtles!\n",
    "\n",
    "A popular library in Python is the Turtle Graphics. It allows for more code which can make a turtle that draws images. You can find information at https://docs.python.org/3/library/turtle.html.\n",
    "\n",
    "We won't get into a lot here, since it does prove difficult to create anything that looks super cool. Try looking at the code below and messing with some of the numbers just to get a better understanding."
   ]
  }
 ],
 "metadata": {
  "kernelspec": {
   "display_name": "Python 3 (ipykernel)",
   "language": "python",
   "name": "python3"
  },
  "language_info": {
   "codemirror_mode": {
    "name": "ipython",
    "version": 3
   },
   "file_extension": ".py",
   "mimetype": "text/x-python",
   "name": "python",
   "nbconvert_exporter": "python",
   "pygments_lexer": "ipython3",
   "version": "3.10.4"
  }
 },
 "nbformat": 4,
 "nbformat_minor": 4
}
