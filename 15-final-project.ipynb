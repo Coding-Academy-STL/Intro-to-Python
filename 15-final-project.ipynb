{
 "cells": [
  {
   "cell_type": "markdown",
   "metadata": {},
   "source": [
    "```\n",
    "INTRO TO\n",
    "    ______  __________  ______  _   __\n",
    "   / __ \\ \\/ /_  __/ / / / __ \\/ | / /\n",
    "  / /_/ /\\  / / / / /_/ / / / /  |/ / \n",
    " / ____/ / / / / / __  / /_/ / /|  /  \n",
    "/_/     /_/ /_/ /_/ /_/\\____/_/ |_/   \n",
    "```"
   ]
  },
  {
   "cell_type": "markdown",
   "metadata": {},
   "source": [
    "## 15 Final Project\n",
    "\n",
    "Yay! You've reached the final project! 😍\n",
    "\n",
    "For this project, you get to pick what you want to do. Your project can be anything! Well, as long as you can finish it within a couple weeks, so no writing your own Python world domination social media network website. OK fine, if you want to do that after this course or in your free time, go ahead!\n",
    "\n",
    "Here are some good choices for projects. Feel free to pick something not on the list.\n",
    "- Minesweeper\n",
    "- Wordle\n",
    "- Password generator\n",
    "- Typing test and speed calculator\n",
    "- Formula calculator (for instance, for the quadratic formula)\n",
    "- Caesar cipher\n",
    "- Hangman\n",
    "- Countdown timer\n",
    "- 2048\n",
    "- Snake"
   ]
  }
 ],
 "metadata": {
  "kernelspec": {
   "display_name": "Python 3 (ipykernel)",
   "language": "python",
   "name": "python3"
  },
  "language_info": {
   "codemirror_mode": {
    "name": "ipython",
    "version": 3
   },
   "file_extension": ".py",
   "mimetype": "text/x-python",
   "name": "python",
   "nbconvert_exporter": "python",
   "pygments_lexer": "ipython3",
   "version": "3.10.9"
  }
 },
 "nbformat": 4,
 "nbformat_minor": 4
}
