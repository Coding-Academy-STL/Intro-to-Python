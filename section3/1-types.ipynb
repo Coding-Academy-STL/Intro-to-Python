{
 "cells": [
  {
   "cell_type": "markdown",
   "metadata": {
    "collapsed": false
   },
   "source": [
    "```\n",
    "INTRO TO\n",
    "    ______  __________  ______  _   __\n",
    "   / __ \\ \\/ /_  __/ / / / __ \\/ | / /\n",
    "  / /_/ /\\  / / / / /_/ / / / /  |/ / \n",
    " / ____/ / / / / / __  / /_/ / /|  /  \n",
    "/_/     /_/ /_/ /_/ /_/\\____/_/ |_/   \n",
    "```"
   ]
  },
  {
   "cell_type": "markdown",
   "metadata": {
    "collapsed": false
   },
   "source": [
    "## 3.1 DATA TYPES\n",
    "\n",
    "Every variable has a TYPE. The type of a variable tells you what kind of value it's storing.\n"
   ]
  },
  {
   "cell_type": "code",
   "execution_count": 0,
   "metadata": {
    "collapsed": false
   },
   "outputs": [
   ],
   "source": [
    "# We've seen a few types so far:\n",
    "\n",
    "# INTEGERS: whole numbers\n",
    "int1 = 1\n",
    "int2 = 0\n",
    "int3 = -13\n",
    "int4 = 9876543210123456789"
   ]
  },
  {
   "cell_type": "code",
   "execution_count": 0,
   "metadata": {
    "collapsed": false
   },
   "outputs": [
   ],
   "source": [
    "# STRINGS: text in quotes\n",
    "str1 = \"Billiam Wender\"\n",
    "str2 = \"123\"\n",
    "str4 = \"\"  # empty string\n",
    "str5 = 'abc' # single quotes and double quotes both work"
   ]
  },
  {
   "cell_type": "code",
   "execution_count": 0,
   "metadata": {
    "collapsed": false
   },
   "outputs": [
   ],
   "source": [
    "# BOOLEANS: True or False\n",
    "bool1 = True\n",
    "bool2 = False"
   ]
  },
  {
   "cell_type": "code",
   "execution_count": 1,
   "metadata": {
    "collapsed": false
   },
   "outputs": [
   ],
   "source": [
    "# Recall that integers are whole numbers. What about decimals?\n",
    "# Decimals are called FLOATS in Python\n",
    "\n",
    "# Examples of floats:\n",
    "float1 = 1.414\n",
    "float2 = -1729.42\n",
    "float3 = 7.\n",
    "float4 = 6.02E23 # scientific notation"
   ]
  },
  {
   "cell_type": "code",
   "execution_count": 3,
   "metadata": {
    "collapsed": false
   },
   "outputs": [
    {
     "name": "stdout",
     "output_type": "stream",
     "text": [
      "<class 'int'>\n",
      "<class 'float'>\n",
      "<class 'str'>\n"
     ]
    }
   ],
   "source": [
    "# To check the data type of a value, use the type() method\n",
    "print(type(123))\n",
    "print(type(3.14))\n",
    "print(type(\"123\"))"
   ]
  },
  {
   "cell_type": "code",
   "execution_count": 16,
   "metadata": {
    "collapsed": false
   },
   "outputs": [
    {
     "ename": "TypeError",
     "evalue": "unsupported operand type(s) for +: 'int' and 'str'",
     "output_type": "error",
     "traceback": [
      "\u001b[0;31m---------------------------------------------------------------------------\u001b[0m",
      "\u001b[0;31mTypeError\u001b[0m                                 Traceback (most recent call last)",
      "\u001b[0;32m<ipython-input-16-5bfb9a7731f1>\u001b[0m in \u001b[0;36m<module>\u001b[0;34m\u001b[0m\n\u001b[1;32m      2\u001b[0m \u001b[0;34m\u001b[0m\u001b[0m\n\u001b[1;32m      3\u001b[0m \u001b[0;31m# For example, you can't do:\u001b[0m\u001b[0;34m\u001b[0m\u001b[0;34m\u001b[0m\u001b[0;34m\u001b[0m\u001b[0m\n\u001b[0;32m----> 4\u001b[0;31m \u001b[0mprint\u001b[0m\u001b[0;34m(\u001b[0m\u001b[0;36m42\u001b[0m \u001b[0;34m+\u001b[0m \u001b[0;34m\"hello\"\u001b[0m\u001b[0;34m)\u001b[0m\u001b[0;34m\u001b[0m\u001b[0;34m\u001b[0m\u001b[0m\n\u001b[0m\u001b[1;32m      5\u001b[0m \u001b[0mprint\u001b[0m\u001b[0;34m(\u001b[0m\u001b[0;36m2\u001b[0m \u001b[0;34m+\u001b[0m \u001b[0;34m\"2\"\u001b[0m\u001b[0;34m)\u001b[0m\u001b[0;34m\u001b[0m\u001b[0;34m\u001b[0m\u001b[0m\n",
      "\u001b[0;31mTypeError\u001b[0m: unsupported operand type(s) for +: 'int' and 'str'"
     ]
    }
   ],
   "source": [
    "# You CANNOT mix certain data types for some operations: \n",
    "\n",
    "# For example, you can't add an integer and a string:\n",
    "print(42 + \"hello\")\n",
    "print(2 + \"2\")\n",
    "\n",
    "# You will get a TypeError"
   ]
  },
  {
   "cell_type": "code",
   "execution_count": 7,
   "metadata": {
    "collapsed": false
   },
   "outputs": [
    {
     "name": "stdout",
     "output_type": "stream",
     "text": [
      "5.140000000000001\n",
      "6.0\n",
      "hahaha\n"
     ]
    }
   ],
   "source": [
    "# There are exceptions for mixing data types\n",
    "\n",
    "# For example: \n",
    "\n",
    "# Mix integers and floats\n",
    "print(2 + 3.14)\n",
    "print(2.0 * 3)\n",
    "# The Output is always a float\n",
    "\n",
    "# Multiply integers and strings\n",
    "print(3 * \"ha\")"
   ]
  },
  {
   "cell_type": "code",
   "execution_count": 21,
   "metadata": {
    "collapsed": false
   },
   "outputs": [
    {
     "name": "stdout",
     "output_type": "stream",
     "text": [
      "11\n",
      "-2\n",
      "3.3\n",
      "False False False\n",
      "True True\n",
      "-55.0\n",
      "6.6\n"
     ]
    }
   ],
   "source": [
    "# Converting one data type to another data type is called CASTING\n",
    "\n",
    "# For example:\n",
    "\n",
    "# To cast a value to an integer, use int()\n",
    "print(int(\"11\")) # string to integer\n",
    "print(int(-2.2)) # float to integer\n",
    "\n",
    "# To cast a value to a string, use str( )\n",
    "print(str(3 + 0.3))\n",
    "\n",
    "# To cast a value to a boolean, use bool( )\n",
    "print(bool(0.0), bool(\"\"), bool([])) # 0, the empty string, and empty arrays evaluate to False\n",
    "print(bool(4444), bool(\"aaa\")) # everything else evaluates to True\n",
    "\n",
    "# To cast a to a floats, use float( )\n",
    "print(float(-55))\n",
    "print(float(\"6.6\"))"
   ]
  },
  {
   "cell_type": "code",
   "execution_count": 22,
   "metadata": {
    "collapsed": false
   },
   "outputs": [
    {
     "name": "stdout",
     "output_type": "stream",
     "text": [
      "12\n",
      "3\n"
     ]
    }
   ],
   "source": [
    "# Casting example usage\n",
    "\n",
    "# Lets say you have two strings, but you want to add their integer values\n",
    "str1 = \"1\"\n",
    "str2 = \"2\"\n",
    "print(str1 + str2) # outputs: \"12\"\n",
    "\n",
    "# First, cast the strings to integers\n",
    "int1 = int(str1)\n",
    "int2 = int(str2)\n",
    "print(int1 + int2) # outputs: 3"
   ]
  },
  {
   "cell_type": "code",
   "execution_count": 9,
   "metadata": {
    "collapsed": false,
    "scrolled": true
   },
   "outputs": [
    {
     "name": "stdout",
     "output_type": "stream",
     "text": [
      "<class 'complex'>\n",
      "<class 'list'>\n",
      "<class 'set'>\n",
      "<class 'range'>\n",
      "<class 'dict'>\n",
      "<class 'bytes'>\n",
      "<class 'bytearray'>\n",
      "<class 'type'>\n",
      "<class 'builtin_function_or_method'>\n",
      "<class 'NoneType'>\n"
     ]
    }
   ],
   "source": [
    "# Some bonus data types (https://www.w3schools.com/python/python_datatypes.asp):\n",
    "complex1 = 1j\n",
    "list1 = [\"apple\", \"banana\", \"cherry\"]\n",
    "tuple1 = (\"apple\", \"banana\", \"cherry\")\n",
    "set1 = {\"apple\", \"banana\", \"cherry\"}\n",
    "range1 = range(6)\n",
    "dict1 = {\"name\" : \"John\", \"age\" : 36}\n",
    "bytes1 = b\"Hello\"\n",
    "bytearray1 = bytearray(5)\n",
    "\n",
    "\n",
    "print(type(complex1))\n",
    "print(type(list1))\n",
    "print(type(set1))\n",
    "print(type(range1))\n",
    "print(type(dict1))\n",
    "print(type(bytes1))\n",
    "print(type(bytearray1))\n",
    "\n",
    "print(type(type(123)))\n",
    "print(type(print))\n",
    "print(type(None))"
   ]
  },
  {
   "cell_type": "markdown",
   "metadata": {
    "collapsed": false
   },
   "source": [
    "Review\n",
    "------\n",
    "* every value has a data type\n",
    "* use type() to get the data type of a value\n",
    "* certain data types cannot be mixed\n",
    "* use **casting** to convert between data types"
   ]
  },
  {
   "cell_type": "code",
   "execution_count": 0,
   "metadata": {
    "collapsed": false
   },
   "outputs": [
   ],
   "source": [
   ]
  }
 ],
 "metadata": {
  "kernelspec": {
   "display_name": "Python 3 (Ubuntu Linux)",
   "language": "python",
   "name": "python3-ubuntu",
   "resource_dir": "/usr/local/share/jupyter/kernels/python3-ubuntu"
  },
  "language_info": {
   "codemirror_mode": {
    "name": "ipython",
    "version": 3
   },
   "file_extension": ".py",
   "mimetype": "text/x-python",
   "name": "python",
   "nbconvert_exporter": "python",
   "pygments_lexer": "ipython3",
   "version": "3.8.10"
  }
 },
 "nbformat": 4,
 "nbformat_minor": 4
}