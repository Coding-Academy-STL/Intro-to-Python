{
 "cells": [
  {
   "cell_type": "markdown",
   "metadata": {
    "collapsed": false
   },
   "source": [
    "```\n",
    "INTRO TO\n",
    "    ______  __________  ______  _   __\n",
    "   / __ \\ \\/ /_  __/ / / / __ \\/ | / /\n",
    "  / /_/ /\\  / / / / /_/ / / / /  |/ / \n",
    " / ____/ / / / / / __  / /_/ / /|  /  \n",
    "/_/     /_/ /_/ /_/ /_/\\____/_/ |_/   \n",
    "```"
   ]
  },
  {
   "cell_type": "markdown",
   "metadata": {
    "collapsed": false
   },
   "source": [
    "## 3.1 DATA TYPES\n",
    "\n",
    "Every variable has a TYPE. The type of a variable tells you what kind of value it's storing.\n"
   ]
  },
  {
   "cell_type": "code",
   "execution_count": 0,
   "metadata": {
    "collapsed": false
   },
   "outputs": [
   ],
   "source": [
    "# We've seen a few types so far:\n",
    "\n",
    "# INTEGERS: whole numbers\n",
    "# You can convert variables to integers using int( )\n",
    "int1 = 1\n",
    "int2 = 0\n",
    "int3 = -13\n",
    "int4 = 9876543210123456789"
   ]
  },
  {
   "cell_type": "code",
   "execution_count": 0,
   "metadata": {
    "collapsed": false
   },
   "outputs": [
   ],
   "source": [
    "# STRINGS: text in quotes\n",
    "# You can convert variables to strings using str( )\n",
    "str1 = \"Billiam Wender\"\n",
    "str2 = \"1\"\n",
    "str3 = \"2 + 2 = 5\"\n",
    "str4 = \"\"  # empty string that contains no text\n",
    "str5 = 'abc' # single quotes and double quotes both work"
   ]
  },
  {
   "cell_type": "code",
   "execution_count": 0,
   "metadata": {
    "collapsed": false
   },
   "outputs": [
   ],
   "source": [
    "# BOOLEANS: variables that can only take on the value of True or False\n",
    "# You can convert variables to booleans using bool( )\n",
    "bool1 = True\n",
    "bool2 = False"
   ]
  },
  {
   "cell_type": "code",
   "execution_count": 2,
   "metadata": {
    "collapsed": false
   },
   "outputs": [
   ],
   "source": [
    "# Some bonus data types (https://www.w3schools.com/python/python_datatypes.asp):\n",
    "float1 = 20.5\n",
    "complex1 = 1j\n",
    "list1 = [\"apple\", \"banana\", \"cherry\"]\n",
    "tuple1 = (\"apple\", \"banana\", \"cherry\")\n",
    "set1 = {\"apple\", \"banana\", \"cherry\"}\n",
    "range1 = range(6)\n",
    "dict1 = {\"name\" : \"John\", \"age\" : 36}\n",
    "bytes1 = b\"Hello\"\n",
    "bytearray1 = bytearray(5)"
   ]
  },
  {
   "cell_type": "code",
   "execution_count": 15,
   "metadata": {
    "collapsed": false
   },
   "outputs": [
    {
     "name": "stdout",
     "output_type": "stream",
     "text": [
      "<class 'str'>\n",
      "<class 'list'>\n",
      "<class 'complex'>\n",
      "<class 'type'>\n",
      "<class 'builtin_function_or_method'>\n",
      "<class 'NoneType'>\n"
     ]
    }
   ],
   "source": [
    "# To check the data type of a value, use type() method\n",
    "print(type(123))\n",
    "print(type(\"123\"))\n",
    "print(type([\"123\", 123, 1+2+3]))\n",
    "print(type(1 + 2 - 3j * 4))\n",
    "print(type(type(123)))\n",
    "print(type(print))\n",
    "print(type(None))"
   ]
  },
  {
   "cell_type": "code",
   "execution_count": 16,
   "metadata": {
    "collapsed": false
   },
   "outputs": [
    {
     "ename": "TypeError",
     "evalue": "unsupported operand type(s) for +: 'int' and 'str'",
     "output_type": "error",
     "traceback": [
      "\u001b[0;31m---------------------------------------------------------------------------\u001b[0m",
      "\u001b[0;31mTypeError\u001b[0m                                 Traceback (most recent call last)",
      "\u001b[0;32m<ipython-input-16-5bfb9a7731f1>\u001b[0m in \u001b[0;36m<module>\u001b[0;34m\u001b[0m\n\u001b[1;32m      2\u001b[0m \u001b[0;34m\u001b[0m\u001b[0m\n\u001b[1;32m      3\u001b[0m \u001b[0;31m# For example, you can't do:\u001b[0m\u001b[0;34m\u001b[0m\u001b[0;34m\u001b[0m\u001b[0;34m\u001b[0m\u001b[0m\n\u001b[0;32m----> 4\u001b[0;31m \u001b[0mprint\u001b[0m\u001b[0;34m(\u001b[0m\u001b[0;36m42\u001b[0m \u001b[0;34m+\u001b[0m \u001b[0;34m\"hello\"\u001b[0m\u001b[0;34m)\u001b[0m\u001b[0;34m\u001b[0m\u001b[0;34m\u001b[0m\u001b[0m\n\u001b[0m\u001b[1;32m      5\u001b[0m \u001b[0mprint\u001b[0m\u001b[0;34m(\u001b[0m\u001b[0;36m2\u001b[0m \u001b[0;34m+\u001b[0m \u001b[0;34m\"2\"\u001b[0m\u001b[0;34m)\u001b[0m\u001b[0;34m\u001b[0m\u001b[0;34m\u001b[0m\u001b[0m\n",
      "\u001b[0;31mTypeError\u001b[0m: unsupported operand type(s) for +: 'int' and 'str'"
     ]
    }
   ],
   "source": [
    "# You CANNOT mix certain data types for some operations: \n",
    "\n",
    "# For example, you can't add an integer and a string:\n",
    "print(42 + \"hello\")\n",
    "print(2 + \"2\")\n",
    "\n",
    "# TypeError: unsupported operand type(s) for +: 'int' and 'str'"
   ]
  },
  {
   "cell_type": "code",
   "execution_count": 0,
   "metadata": {
    "collapsed": false
   },
   "outputs": [
   ],
   "source": [
   ]
  },
  {
   "cell_type": "code",
   "execution_count": 0,
   "metadata": {
    "collapsed": false
   },
   "outputs": [
   ],
   "source": [
    "# Recall that integers are whole numbers\n",
    "# What about decimals?\n",
    "\n",
    "my_decimal = 3.14\n",
    "print(type(my_decimal))"
   ]
  },
  {
   "cell_type": "code",
   "execution_count": 0,
   "metadata": {
    "collapsed": false
   },
   "outputs": [
   ],
   "source": [
    "# Decimals are called FLOATS in Python\n",
    "# We haven't seen floats before, but they behave similarly to integers\n",
    "# You can convert variables to floats using float( )\n",
    "# Examples of floats:\n",
    "float1 = 1.414\n",
    "float2 = 3.14\n",
    "float3 = 2.5\n",
    "float4 = -1729.42"
   ]
  },
  {
   "cell_type": "code",
   "execution_count": 0,
   "metadata": {
    "collapsed": false
   },
   "outputs": [
   ],
   "source": [
    "# Remember how I said you can't mix and match types when doing addition?\n",
    "# There is ONE exception.\n",
    "# Python will automatically convert integers to floats when doing operations involving one integer and float.\n",
    "# So the following is valid:\n",
    "2 + 3.14  # 5.14"
   ]
  }
 ],
 "metadata": {
  "kernelspec": {
   "display_name": "Python 3 (Ubuntu Linux)",
   "language": "python",
   "name": "python3-ubuntu",
   "resource_dir": "/usr/local/share/jupyter/kernels/python3-ubuntu"
  },
  "language_info": {
   "codemirror_mode": {
    "name": "ipython",
    "version": 3
   },
   "file_extension": ".py",
   "mimetype": "text/x-python",
   "name": "python",
   "nbconvert_exporter": "python",
   "pygments_lexer": "ipython3",
   "version": "3.8.10"
  }
 },
 "nbformat": 4,
 "nbformat_minor": 4
}