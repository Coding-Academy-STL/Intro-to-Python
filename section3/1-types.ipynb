{
 "cells": [
  {
   "cell_type": "markdown",
   "metadata": {
    "collapsed": false
   },
   "source": [
    "```\n",
    "INTRO TO\n",
    "    ______  __________  ______  _   __\n",
    "   / __ \\ \\/ /_  __/ / / / __ \\/ | / /\n",
    "  / /_/ /\\  / / / / /_/ / / / /  |/ / \n",
    " / ____/ / / / / / __  / /_/ / /|  /  \n",
    "/_/     /_/ /_/ /_/ /_/\\____/_/ |_/   \n",
    "```"
   ]
  },
  {
   "cell_type": "markdown",
   "metadata": {
    "collapsed": false
   },
   "source": [
    "## 3.1 Data Types\n",
    "\n",
    "Recall that every value and variable has a **type**. The type of a variable tells you what kind of value it's storing. We've seen a few types so far."
   ]
  },
  {
   "cell_type": "markdown",
   "metadata": {
    "collapsed": false
   },
   "source": [
    "**Integers**: Whole numbers"
   ]
  },
  {
   "cell_type": "code",
   "execution_count": 0,
   "metadata": {
    "collapsed": false,
    "jupyter": {
     "outputs_hidden": false
    }
   },
   "outputs": [
   ],
   "source": [
    "int1 = 1\n",
    "int2 = 0\n",
    "int3 = -13\n",
    "int4 = 9876543210123456789"
   ]
  },
  {
   "cell_type": "markdown",
   "metadata": {
    "collapsed": false
   },
   "source": [
    "**Strings**: Text in quotes. Do you remember the difference between `123` and `'123'`?"
   ]
  },
  {
   "cell_type": "code",
   "execution_count": 0,
   "metadata": {
    "collapsed": false,
    "jupyter": {
     "outputs_hidden": false
    }
   },
   "outputs": [
   ],
   "source": [
    "str1 = 'Billiam Wender'\n",
    "str2 = '123'\n",
    "str4 = '' # empty string\n",
    "str5 = \"abc\" # single quotes and double quotes both work"
   ]
  },
  {
   "cell_type": "markdown",
   "metadata": {
    "collapsed": false
   },
   "source": [
    "**Booleans**: `True` or `False`"
   ]
  },
  {
   "cell_type": "code",
   "execution_count": 0,
   "metadata": {
    "collapsed": false,
    "jupyter": {
     "outputs_hidden": false
    }
   },
   "outputs": [
   ],
   "source": [
    "bool1 = True\n",
    "bool2 = False"
   ]
  },
  {
   "cell_type": "markdown",
   "metadata": {
    "collapsed": false
   },
   "source": [
    "Recall that integers are whole numbers. What about decimals? In Python, decimals are called **floats**."
   ]
  },
  {
   "cell_type": "code",
   "execution_count": 0,
   "metadata": {
    "collapsed": false,
    "jupyter": {
     "outputs_hidden": false
    }
   },
   "outputs": [
   ],
   "source": [
    "float1 = 1.414\n",
    "float2 = -1729.42\n",
    "float3 = 7.\n",
    "float4 = 6.02e23 # scientific notation"
   ]
  },
  {
   "cell_type": "markdown",
   "metadata": {
    "collapsed": false
   },
   "source": [
    "Always remember the type of your variables. To check the type of a value, use `type()`."
   ]
  },
  {
   "cell_type": "code",
   "execution_count": 0,
   "metadata": {
    "collapsed": false,
    "jupyter": {
     "outputs_hidden": false
    }
   },
   "outputs": [
   ],
   "source": [
    "print(type(123))\n",
    "print(type(3.14))\n",
    "print(type('123'))"
   ]
  },
  {
   "cell_type": "markdown",
   "metadata": {
    "collapsed": false
   },
   "source": [
    "You **cannot mix and match types** for many operations. For example, you can't add an integer and a string. If you ever get a `TypeError`, this is why."
   ]
  },
  {
   "cell_type": "code",
   "execution_count": 0,
   "metadata": {
    "collapsed": false,
    "jupyter": {
     "outputs_hidden": false
    }
   },
   "outputs": [
   ],
   "source": [
    "print(42 + 'hello')\n",
    "print(2 + '2')"
   ]
  },
  {
   "cell_type": "markdown",
   "metadata": {
    "collapsed": false
   },
   "source": [
    "One exception is that we can mix integers and floats. The output is always a float."
   ]
  },
  {
   "cell_type": "code",
   "execution_count": 0,
   "metadata": {
    "collapsed": false,
    "jupyter": {
     "outputs_hidden": false
    }
   },
   "outputs": [
   ],
   "source": [
    "# Mix integers and floats\n",
    "print(2 + 3.14)\n",
    "print(2.0 * 3)"
   ]
  },
  {
   "cell_type": "markdown",
   "metadata": {
    "collapsed": false
   },
   "source": [
    "We can convert from one data type using functions like `int( )` and `str( )`. This is technically called casting."
   ]
  },
  {
   "cell_type": "markdown",
   "metadata": {
    "collapsed": false
   },
   "source": [
    "To convert a value to an integer, use `int( )`:"
   ]
  },
  {
   "cell_type": "code",
   "execution_count": 0,
   "metadata": {
    "collapsed": false,
    "jupyter": {
     "outputs_hidden": false
    }
   },
   "outputs": [
   ],
   "source": [
    "print(int('11')) # string to integer\n",
    "print(int(-2.2)) # float to integer"
   ]
  },
  {
   "cell_type": "markdown",
   "metadata": {
    "collapsed": false
   },
   "source": [
    "To convert a value to a string, use `str( )`:"
   ]
  },
  {
   "cell_type": "code",
   "execution_count": 0,
   "metadata": {
    "collapsed": false
   },
   "outputs": [
   ],
   "source": [
    "print(str(3 + 0.3)) # float to string"
   ]
  },
  {
   "cell_type": "markdown",
   "metadata": {
    "collapsed": false
   },
   "source": [
    "To convert a value to a boolean, use `bool( )`:"
   ]
  },
  {
   "cell_type": "code",
   "execution_count": 0,
   "metadata": {
    "collapsed": false
   },
   "outputs": [
   ],
   "source": [
    "# 0, the empty string, and empty arrays all get converted to False\n",
    "print(bool(0.0))\n",
    "print(bool(''))\n",
    "print(bool([]))\n",
    "\n",
    "# Everything else is converted to True\n",
    "print(bool(1729))\n",
    "print(bool('Hello, world!'))"
   ]
  },
  {
   "cell_type": "markdown",
   "metadata": {
    "collapsed": false
   },
   "source": [
    "To convert a value to a floats, use `float( )`:"
   ]
  },
  {
   "cell_type": "code",
   "execution_count": 0,
   "metadata": {
    "collapsed": false
   },
   "outputs": [
   ],
   "source": [
    "print(float(-55))\n",
    "print(float('6.6'))"
   ]
  },
  {
   "cell_type": "markdown",
   "metadata": {
    "collapsed": false
   },
   "source": [
    "Let's say you have two strings, but you want to add their integer values. We can convert them to integers, then add."
   ]
  },
  {
   "cell_type": "code",
   "execution_count": 0,
   "metadata": {
    "collapsed": false,
    "jupyter": {
     "outputs_hidden": false
    }
   },
   "outputs": [
   ],
   "source": [
    "str1 = '1'\n",
    "str2 = '2'\n",
    "print(str1 + str2) # '12'\n",
    "\n",
    "# Convert the strings to integers\n",
    "int1 = int(str1)\n",
    "int2 = int(str2)\n",
    "print(int1 + int2) # 3"
   ]
  },
  {
   "cell_type": "markdown",
   "metadata": {
    "collapsed": false
   },
   "source": [
    "### Activity 1: Super Conversions!\n",
    "\n",
    "Billiam gave you the digits of two four digit numbers.\n",
    "1. First, mash together (concatenate) all the digits to form the two numbers `num1` and `num2` and print the two numbers out.\n",
    "2. Then print the sum `num1 + num2`.\n",
    "\n",
    "Hint: Remember what type we can mash together and what type we can do actual addition."
   ]
  },
  {
   "cell_type": "code",
   "execution_count": 0,
   "metadata": {
    "collapsed": false,
    "jupyter": {
     "outputs_hidden": false
    }
   },
   "outputs": [
   ],
   "source": [
    "# Activity 1 code here\n",
    "\n",
    "# Digits of num1\n",
    "num1_d1 = 1\n",
    "num1_d2 = 7\n",
    "num1_d3 = 2\n",
    "num1_d4 = 9\n",
    "\n",
    "# Digits of num2\n",
    "num2_d1 = 9\n",
    "num2_d2 = 8\n",
    "num2_d3 = 7\n",
    "num2_d4 = 6\n"
   ]
  },
  {
   "cell_type": "markdown",
   "metadata": {
    "collapsed": false
   },
   "source": [
    "### Activity 2: Float Multiplication\n",
    "\n",
    "Ask the user for two floats (decimals) one at a time, and then print out the product of the floats. Make sure you know what the type of each of your variables!"
   ]
  },
  {
   "cell_type": "code",
   "execution_count": 0,
   "metadata": {
    "collapsed": false,
    "jupyter": {
     "outputs_hidden": false
    }
   },
   "outputs": [
   ],
   "source": [
    "# Activity 2 code here\n"
   ]
  },
  {
   "cell_type": "markdown",
   "metadata": {
    "collapsed": false
   },
   "source": [
    "### Activity 3: I Love Types!\n",
    "\n",
    "Billiam created the four variables below. Now he wants to concatenate them all together and print the whole thing out. Please help him!"
   ]
  },
  {
   "cell_type": "code",
   "execution_count": 0,
   "metadata": {
    "collapsed": false,
    "jupyter": {
     "outputs_hidden": false
    }
   },
   "outputs": [
   ],
   "source": [
    "# Activity 3 code here\n",
    "var1 = 2 + 2\n",
    "var2 = 'Billiam Wender'\n",
    "var3 = True\n",
    "var4 = 3.14\n"
   ]
  }
 ],
 "metadata": {
  "kernelspec": {
  },
  "language_info": {
   "codemirror_mode": {
    "name": "ipython",
    "version": 3
   },
   "file_extension": ".py",
   "mimetype": "text/x-python",
   "name": "python",
   "nbconvert_exporter": "python",
   "pygments_lexer": "ipython3",
   "version": "3.9.7"
  }
 },
 "nbformat": 4,
 "nbformat_minor": 4
}