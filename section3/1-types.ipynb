{
 "cells": [
  {
   "cell_type": "markdown",
   "metadata": {
    "collapsed": false
   },
   "source": [
    "```\n",
    "INTRO TO\n",
    "    ______  __________  ______  _   __\n",
    "   / __ \\ \\/ /_  __/ / / / __ \\/ | / /\n",
    "  / /_/ /\\  / / / / /_/ / / / /  |/ / \n",
    " / ____/ / / / / / __  / /_/ / /|  /  \n",
    "/_/     /_/ /_/ /_/ /_/\\____/_/ |_/   \n",
    "```"
   ]
  },
  {
   "cell_type": "markdown",
   "metadata": {
    "collapsed": false
   },
   "source": [
    "## 3.1 Data Types\n",
    "\n",
    "Every variable has a **type**. The type of a variable tells you what kind of value it's storing.\n"
   ]
  },
  {
   "cell_type": "markdown",
   "metadata": {
    "collapsed": false
   },
   "source": [
    "We've seen a few types so far:\n",
    "\n",
    "**Integers**: Whole numbers"
   ]
  },
  {
   "cell_type": "code",
   "execution_count": 2,
   "metadata": {
    "collapsed": false
   },
   "outputs": [
   ],
   "source": [
    "int1 = 1\n",
    "int2 = 0\n",
    "int3 = -13\n",
    "int4 = 9876543210123456789"
   ]
  },
  {
   "cell_type": "markdown",
   "metadata": {
    "collapsed": false
   },
   "source": [
    "**Strings**: Text in quotes. What's the difference between `123` and `'123'`!"
   ]
  },
  {
   "cell_type": "code",
   "execution_count": 3,
   "metadata": {
    "collapsed": false
   },
   "outputs": [
   ],
   "source": [
    "str1 = \"Billiam Wender\"\n",
    "str2 = \"123\"\n",
    "str4 = \"\"  # empty string\n",
    "str5 = 'abc' # single quotes and double quotes both work"
   ]
  },
  {
   "cell_type": "markdown",
   "metadata": {
    "collapsed": false
   },
   "source": [
    "**Booleans**: `True` or `False`"
   ]
  },
  {
   "cell_type": "code",
   "execution_count": 4,
   "metadata": {
    "collapsed": false
   },
   "outputs": [
   ],
   "source": [
    "bool1 = True\n",
    "bool2 = False"
   ]
  },
  {
   "cell_type": "code",
   "execution_count": 5,
   "metadata": {
    "collapsed": false
   },
   "outputs": [
   ],
   "source": [
    "# Recall that integers are whole numbers. What about decimals?\n",
    "# Decimals are called FLOATS in Python\n",
    "\n",
    "# Examples of floats:\n",
    "float1 = 1.414\n",
    "float2 = -1729.42\n",
    "float3 = 7.\n",
    "float4 = 6.02E23 # scientific notation"
   ]
  },
  {
   "cell_type": "code",
   "execution_count": 6,
   "metadata": {
    "collapsed": false
   },
   "outputs": [
    {
     "name": "stdout",
     "output_type": "stream",
     "text": [
      "<class 'int'>\n",
      "<class 'float'>\n",
      "<class 'str'>\n"
     ]
    }
   ],
   "source": [
    "# To check the data type of a value, use the type() method\n",
    "print(type(123))\n",
    "print(type(3.14))\n",
    "print(type(\"123\"))"
   ]
  },
  {
   "cell_type": "code",
   "execution_count": 7,
   "metadata": {
    "collapsed": false
   },
   "outputs": [
    {
     "ename": "TypeError",
     "evalue": "unsupported operand type(s) for +: 'int' and 'str'",
     "output_type": "error",
     "traceback": [
      "\u001b[0;31m---------------------------------------------------------------------------\u001b[0m",
      "\u001b[0;31mTypeError\u001b[0m                                 Traceback (most recent call last)",
      "\u001b[0;32m<ipython-input-7-9d943cc87e1d>\u001b[0m in \u001b[0;36m<module>\u001b[0;34m\u001b[0m\n\u001b[1;32m      2\u001b[0m \u001b[0;34m\u001b[0m\u001b[0m\n\u001b[1;32m      3\u001b[0m \u001b[0;31m# For example, you can't add an integer and a string:\u001b[0m\u001b[0;34m\u001b[0m\u001b[0;34m\u001b[0m\u001b[0;34m\u001b[0m\u001b[0m\n\u001b[0;32m----> 4\u001b[0;31m \u001b[0mprint\u001b[0m\u001b[0;34m(\u001b[0m\u001b[0;36m42\u001b[0m \u001b[0;34m+\u001b[0m \u001b[0;34m\"hello\"\u001b[0m\u001b[0;34m)\u001b[0m\u001b[0;34m\u001b[0m\u001b[0;34m\u001b[0m\u001b[0m\n\u001b[0m\u001b[1;32m      5\u001b[0m \u001b[0mprint\u001b[0m\u001b[0;34m(\u001b[0m\u001b[0;36m2\u001b[0m \u001b[0;34m+\u001b[0m \u001b[0;34m\"2\"\u001b[0m\u001b[0;34m)\u001b[0m\u001b[0;34m\u001b[0m\u001b[0;34m\u001b[0m\u001b[0m\n\u001b[1;32m      6\u001b[0m \u001b[0;34m\u001b[0m\u001b[0m\n",
      "\u001b[0;31mTypeError\u001b[0m: unsupported operand type(s) for +: 'int' and 'str'"
     ]
    }
   ],
   "source": [
    "# You CANNOT mix certain data types for some operations: \n",
    "\n",
    "# For example, you can't add an integer and a string:\n",
    "print(42 + \"hello\")\n",
    "print(2 + \"2\")\n",
    "\n",
    "# You will get a TypeError"
   ]
  },
  {
   "cell_type": "code",
   "execution_count": 0,
   "metadata": {
    "collapsed": false
   },
   "outputs": [
   ],
   "source": [
    "# There are exceptions for mixing data types\n",
    "\n",
    "# For example: \n",
    "\n",
    "# Mix integers and floats\n",
    "print(2 + 3.14)\n",
    "print(2.0 * 3)\n",
    "# The Output is always a float\n",
    "\n",
    "# Multiply integers and strings\n",
    "print(3 * \"ha\")"
   ]
  },
  {
   "cell_type": "code",
   "execution_count": 0,
   "metadata": {
    "collapsed": false
   },
   "outputs": [
   ],
   "source": [
    "# Converting one data type to another data type is called CASTING\n",
    "\n",
    "# For example:\n",
    "\n",
    "# To cast a value to an integer, use int()\n",
    "print(int(\"11\")) # string to integer\n",
    "print(int(-2.2)) # float to integer\n",
    "\n",
    "# To cast a value to a string, use str( )\n",
    "print(str(3 + 0.3))\n",
    "\n",
    "# To cast a value to a boolean, use bool( )\n",
    "print(bool(0.0), bool(\"\"), bool([])) # 0, the empty string, and empty arrays evaluate to False\n",
    "print(bool(4444), bool(\"aaa\")) # everything else evaluates to True\n",
    "\n",
    "# To cast a to a floats, use float( )\n",
    "print(float(-55))\n",
    "print(float(\"6.6\"))"
   ]
  },
  {
   "cell_type": "code",
   "execution_count": 0,
   "metadata": {
    "collapsed": false
   },
   "outputs": [
   ],
   "source": [
    "# Casting example usage\n",
    "\n",
    "# Lets say you have two strings, but you want to add their integer values\n",
    "str1 = \"1\"\n",
    "str2 = \"2\"\n",
    "print(str1 + str2) # outputs: \"12\"\n",
    "\n",
    "# First, cast the strings to integers\n",
    "int1 = int(str1)\n",
    "int2 = int(str2)\n",
    "print(int1 + int2) # outputs: 3"
   ]
  },
  {
   "cell_type": "markdown",
   "metadata": {
    "collapsed": false
   },
   "source": [
    "Activity 1: Super Conversions!\n",
    "---\n",
    "Billiam gave you the digits of two four digit numbers. \n",
    "1. First, mash together (concatenate) all the digits to form the two numbers num1 and num2. \n",
    "2. Then print the sum num1 + num2. Help him!\n",
    "\n",
    "Hint: Remember what type we can mash together and what type we can do actual addition.\n",
    "\n",
    "Expected Output 1: `\"1729\" \"9876\"`\n",
    "\n",
    "Expected Output 2: `11605`"
   ]
  },
  {
   "cell_type": "code",
   "execution_count": 0,
   "metadata": {
    "collapsed": false
   },
   "outputs": [
   ],
   "source": [
    "# Digits of num1\n",
    "num1_d1 = 1\n",
    "num1_d2 = 7\n",
    "num1_d3 = 2\n",
    "num1_d4 = 9\n",
    "\n",
    "# Digits of num2\n",
    "num2_d1 = 9\n",
    "num2_d2 = 8\n",
    "num2_d3 = 7\n",
    "num2_d4 = 6\n",
    "\n",
    "# Activity 1 Code Here\n"
   ]
  },
  {
   "cell_type": "markdown",
   "metadata": {
    "collapsed": false
   },
   "source": [
    "Activity 2: Float Multiplication\n",
    "---\n",
    "Ask the user for two floats (decimals) one at a time, and then print out the product of the floats. Make sure you know what the type of each of your variables!\n"
   ]
  },
  {
   "cell_type": "code",
   "execution_count": 0,
   "metadata": {
    "collapsed": false
   },
   "outputs": [
   ],
   "source": [
    "# Activity 2 Code Here"
   ]
  },
  {
   "cell_type": "markdown",
   "metadata": {
    "collapsed": false
   },
   "source": [
    "Activity 3: I Love Types!\n",
    "---\n",
    "Billiam created the four variables below. Now he wants to concatenate them all together and print the whole thing out. Please help him!\n",
    "\n",
    "Expected Output: `\"4Billiam WenderTrue3.14\"`"
   ]
  },
  {
   "cell_type": "code",
   "execution_count": 0,
   "metadata": {
    "collapsed": false
   },
   "outputs": [
   ],
   "source": [
    "var1 = 2 + 2\n",
    "var2 = \"Billiam Wender\"\n",
    "var3 = True\n",
    "var4 = 3.14\n",
    "\n",
    "# Activity 3 Code Here"
   ]
  },
  {
   "cell_type": "code",
   "execution_count": 0,
   "metadata": {
    "collapsed": false,
    "scrolled": true
   },
   "outputs": [
   ],
   "source": [
    "# Move this to advanced python\n",
    "# Some bonus data types (https://www.w3schools.com/python/python_datatypes.asp):\n",
    "complex1 = 1j\n",
    "list1 = [\"apple\", \"banana\", \"cherry\"]\n",
    "tuple1 = (\"apple\", \"banana\", \"cherry\")\n",
    "set1 = {\"apple\", \"banana\", \"cherry\"}\n",
    "range1 = range(6)\n",
    "dict1 = {\"name\" : \"John\", \"age\" : 36}\n",
    "bytes1 = b\"Hello\"\n",
    "bytearray1 = bytearray(5)\n",
    "\n",
    "\n",
    "print(type(complex1))\n",
    "print(type(list1))\n",
    "print(type(set1))\n",
    "print(type(range1))\n",
    "print(type(dict1))\n",
    "print(type(bytes1))\n",
    "print(type(bytearray1))\n",
    "\n",
    "print(type(type(123)))\n",
    "print(type(print))\n",
    "print(type(None))"
   ]
  },
  {
   "cell_type": "markdown",
   "metadata": {
    "collapsed": false
   },
   "source": [
    "Review\n",
    "------\n",
    "* every value has a data type\n",
    "* use type() to get the data type of a value\n",
    "* certain data types cannot be mixed\n",
    "* use **casting** to convert between data types"
   ]
  }
 ],
 "metadata": {
  "kernelspec": {
   "display_name": "Python 3 (Ubuntu Linux)",
   "language": "python",
   "name": "python3-ubuntu",
   "resource_dir": "/usr/local/share/jupyter/kernels/python3-ubuntu"
  },
  "language_info": {
   "codemirror_mode": {
    "name": "ipython",
    "version": 3
   },
   "file_extension": ".py",
   "mimetype": "text/x-python",
   "name": "python",
   "nbconvert_exporter": "python",
   "pygments_lexer": "ipython3",
   "version": "3.8.10"
  }
 },
 "nbformat": 4,
 "nbformat_minor": 4
}