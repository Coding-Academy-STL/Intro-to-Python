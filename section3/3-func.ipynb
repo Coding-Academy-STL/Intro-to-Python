{
 "cells": [
  {
   "cell_type": "markdown",
   "metadata": {
    "collapsed": false
   },
   "source": [
    "```\n",
    "INTRO TO\n",
    "    ______  __________  ______  _   __\n",
    "   / __ \\ \\/ /_  __/ / / / __ \\/ | / /\n",
    "  / /_/ /\\  / / / / /_/ / / / /  |/ / \n",
    " / ____/ / / / / / __  / /_/ / /|  /  \n",
    "/_/     /_/ /_/ /_/ /_/\\____/_/ |_/   \n",
    "```"
   ]
  },
  {
   "cell_type": "markdown",
   "metadata": {
    "collapsed": false
   },
   "source": [
    "## 3.3 Functions"
   ]
  },
  {
   "cell_type": "code",
   "execution_count": 1,
   "metadata": {
    "collapsed": false
   },
   "outputs": [
    {
     "name": "stdout",
     "output_type": "stream",
     "text": [
      "Hello\n",
      "World\n",
      "abc\n",
      "Hello\n",
      "World\n",
      "123\n",
      "Hello\n",
      "World\n"
     ]
    }
   ],
   "source": [
    "# Let's say we are going to be printing 'Hello' and 'World' a lot\n",
    "\n",
    "print('Hello')\n",
    "print('World')\n",
    "\n",
    "print('abc')\n",
    "\n",
    "print('Hello')\n",
    "print('World')\n",
    "\n",
    "print('123')\n",
    "\n",
    "print('Hello')\n",
    "print('World')"
   ]
  },
  {
   "cell_type": "markdown",
   "metadata": {
    "collapsed": false
   },
   "source": [
    "Instead of writing\n",
    "\n",
    "`print(\"Hello\")` <br>\n",
    "`print(\"World\")`\n",
    "\n",
    "Three times, we can use a function:"
   ]
  },
  {
   "cell_type": "code",
   "execution_count": 2,
   "metadata": {
    "collapsed": false
   },
   "outputs": [
   ],
   "source": [
    "# How do we create a function?\n",
    "# It will be in the form:\n",
    "# def function_name():\n",
    "def hello():\n",
    "\tprint('Hello')\n",
    "\tprint('World')"
   ]
  },
  {
   "cell_type": "markdown",
   "metadata": {
    "collapsed": false
   },
   "source": [
    "What does the function mean? <br>\n",
    "\"def\" tells us that the line is a function <br>\n",
    "\"hello\" is the name of a function. <br>\n",
    "Make sure you have a : colon after the parentheses! <br>\n",
    "\n",
    "Now every time we use the function, Python will do <br>\n",
    "`print(\"Hello\")` <br>\n",
    "`print(\"World\")`"
   ]
  },
  {
   "cell_type": "code",
   "execution_count": 3,
   "metadata": {
    "collapsed": false
   },
   "outputs": [
    {
     "name": "stdout",
     "output_type": "stream",
     "text": [
      "Hello\n",
      "World\n",
      "abc\n",
      "Hello\n",
      "World\n",
      "123\n",
      "Hello\n",
      "World\n"
     ]
    }
   ],
   "source": [
    "# We use the function by calling it.\n",
    "\n",
    "hello()\n",
    "print('abc')\n",
    "hello()\n",
    "print('123')\n",
    "hello()"
   ]
  },
  {
   "cell_type": "markdown",
   "metadata": {
    "collapsed": false
   },
   "source": [
    "## Activity 11: Revenge of the Spammer\n",
    "\n",
    "Make a function that prints \"I love Python!\" and call it 100 times!"
   ]
  },
  {
   "cell_type": "code",
   "execution_count": 5,
   "metadata": {
    "collapsed": false
   },
   "outputs": [
   ],
   "source": [
    "# Activity 11 Code Here"
   ]
  },
  {
   "cell_type": "markdown",
   "metadata": {
    "collapsed": false
   },
   "source": [
    "Some functions take in inputs and give back an output"
   ]
  },
  {
   "cell_type": "code",
   "execution_count": 6,
   "metadata": {
    "collapsed": false
   },
   "outputs": [
   ],
   "source": [
    "# Scenario: We want to add 2 numbers and print their sum. \n",
    "# Instructors, type this into a new file.\n",
    "\n",
    "def addNumbers(number1, number2):\n",
    "\tnumber3 = number1 + number2\n",
    "\treturn number3"
   ]
  },
  {
   "cell_type": "markdown",
   "metadata": {
    "collapsed": false
   },
   "source": [
    "What does the function mean? <br>\n",
    "\"number1\" and \"number2\" are the names of the inputs <br>\n",
    "\"return\" will be explained later"
   ]
  },
  {
   "cell_type": "markdown",
   "metadata": {
    "collapsed": false
   },
   "source": [
    "But how do we use this function/return? <br>\n",
    "You can... <br>\n",
    "1. Set variable = to function <br>\n",
    "\t`result = addNumbers(5,3)` <br>\n",
    "\t***The value that is \"returned\" will be set to \"result\" <br>\n",
    "2. Call function <br>\n",
    "\t`addNumbers(5,3)` <br>\n",
    "\t-Will run the function <br>\n",
    "\t-But you aren't changing the value of a variable"
   ]
  },
  {
   "cell_type": "code",
   "execution_count": 7,
   "metadata": {
    "collapsed": false
   },
   "outputs": [
    {
     "name": "stdout",
     "output_type": "stream",
     "text": [
      "8\n"
     ]
    }
   ],
   "source": [
    "# Let's say we \"call\" the function (aka use the function) with:\n",
    "first_number = 5\n",
    "second_number = 3\n",
    "result = addNumbers(first_number, second_number)\n",
    "print(result)"
   ]
  },
  {
   "cell_type": "markdown",
   "metadata": {
    "collapsed": false
   },
   "source": [
    "How are `number1` and `first_number` different? <br>\n",
    "`number1` and `number2` are the **names** of the input. <br>\n",
    "They become variables to use inside the function, but don't affect the value of `first_number` or `second_number`!"
   ]
  },
  {
   "cell_type": "markdown",
   "metadata": {
    "collapsed": false
   },
   "source": [
    "## Activity 12: Add 3\n",
    "\n",
    "Billiam knows how to write a function that takes two numbers and returns their sum. Can you create a function that takes in 3 numbers and returns their sum?"
   ]
  },
  {
   "cell_type": "code",
   "execution_count": 10,
   "metadata": {
    "collapsed": false
   },
   "outputs": [
   ],
   "source": [
    "# Activity 12 Code Here"
   ]
  },
  {
   "cell_type": "markdown",
   "metadata": {
    "collapsed": false
   },
   "source": [
    "## Activity 13: Find Maximum!\n",
    "\n",
    "Billiam and Bobert each have a number. They both think their number is larger. Can you write a function that takes in the two numbers and returns the larger one?"
   ]
  },
  {
   "cell_type": "code",
   "execution_count": 9,
   "metadata": {
    "collapsed": false
   },
   "outputs": [
   ],
   "source": [
    "# Activity 13 Code Here"
   ]
  },
  {
   "cell_type": "markdown",
   "metadata": {
    "collapsed": false
   },
   "source": [
    "## Activity 14: Find the difference!\n",
    "\n",
    "Billiam and Bobert wrote the following codes. They look similar, but why do they produce different output?"
   ]
  },
  {
   "cell_type": "code",
   "execution_count": 11,
   "metadata": {
    "collapsed": false
   },
   "outputs": [
    {
     "ename": "UnboundLocalError",
     "evalue": "local variable 'count' referenced before assignment",
     "output_type": "error",
     "traceback": [
      "\u001b[0;31m---------------------------------------------------------------------------\u001b[0m",
      "\u001b[0;31mUnboundLocalError\u001b[0m                         Traceback (most recent call last)",
      "\u001b[0;32m<ipython-input-11-941408ae53dc>\u001b[0m in \u001b[0;36m<module>\u001b[0;34m\u001b[0m\n\u001b[1;32m      7\u001b[0m \u001b[0;34m\u001b[0m\u001b[0m\n\u001b[1;32m      8\u001b[0m \u001b[0;32mfor\u001b[0m \u001b[0mi\u001b[0m \u001b[0;32min\u001b[0m \u001b[0mrange\u001b[0m\u001b[0;34m(\u001b[0m\u001b[0;36m5\u001b[0m\u001b[0;34m)\u001b[0m\u001b[0;34m:\u001b[0m\u001b[0;34m\u001b[0m\u001b[0;34m\u001b[0m\u001b[0m\n\u001b[0;32m----> 9\u001b[0;31m         \u001b[0madd_to_count\u001b[0m\u001b[0;34m(\u001b[0m\u001b[0;34m)\u001b[0m\u001b[0;34m\u001b[0m\u001b[0;34m\u001b[0m\u001b[0m\n\u001b[0m\u001b[1;32m     10\u001b[0m \u001b[0;34m\u001b[0m\u001b[0m\n\u001b[1;32m     11\u001b[0m \u001b[0;34m\u001b[0m\u001b[0m\n",
      "\u001b[0;32m<ipython-input-11-941408ae53dc>\u001b[0m in \u001b[0;36madd_to_count\u001b[0;34m()\u001b[0m\n\u001b[1;32m      3\u001b[0m \u001b[0;34m\u001b[0m\u001b[0m\n\u001b[1;32m      4\u001b[0m \u001b[0;32mdef\u001b[0m \u001b[0madd_to_count\u001b[0m\u001b[0;34m(\u001b[0m\u001b[0;34m)\u001b[0m\u001b[0;34m:\u001b[0m\u001b[0;34m\u001b[0m\u001b[0;34m\u001b[0m\u001b[0m\n\u001b[0;32m----> 5\u001b[0;31m         \u001b[0mcount\u001b[0m \u001b[0;34m=\u001b[0m \u001b[0mcount\u001b[0m \u001b[0;34m+\u001b[0m \u001b[0;36m1\u001b[0m\u001b[0;34m\u001b[0m\u001b[0;34m\u001b[0m\u001b[0m\n\u001b[0m\u001b[1;32m      6\u001b[0m         \u001b[0mprint\u001b[0m\u001b[0;34m(\u001b[0m\u001b[0;34m\"count is now = \"\u001b[0m \u001b[0;34m+\u001b[0m \u001b[0mstr\u001b[0m\u001b[0;34m(\u001b[0m\u001b[0mcount\u001b[0m\u001b[0;34m)\u001b[0m\u001b[0;34m)\u001b[0m\u001b[0;34m\u001b[0m\u001b[0;34m\u001b[0m\u001b[0m\n\u001b[1;32m      7\u001b[0m \u001b[0;34m\u001b[0m\u001b[0m\n",
      "\u001b[0;31mUnboundLocalError\u001b[0m: local variable 'count' referenced before assignment"
     ]
    }
   ],
   "source": [
    "# Billiam's code\n",
    "count = 0\n",
    "\n",
    "def add_to_count():\n",
    "\tcount = count + 1\n",
    "\tprint(\"count is now = \" + str(count))\n",
    "\n",
    "for i in range(5):\n",
    "\tadd_to_count()\n",
    "\n",
    "\n",
    "# Bobert's code\n",
    "count = 0\n",
    "\n",
    "def add_to_count():\n",
    "\tglobal count\n",
    "\tcount = count + 1\n",
    "\tprint(\"count is now = \" + str(count))\n",
    "\n",
    "for i in range(5):\n",
    "\tadd_to_count()\n",
    "\n",
    "\n",
    "# Activity 14 Code Here"
   ]
  },
  {
   "cell_type": "markdown",
   "metadata": {
    "collapsed": false
   },
   "source": [
    "## Activity 15: I Love Functions!\n",
    "\n",
    "Billiam really loves functions! He wants to write a function that takes in his list and Bobert's list, then returns a **new** longer list with Bobert's items added to the end of Billiam's list. Make sure you don't modify the original lists that they pass into the function!"
   ]
  },
  {
   "cell_type": "code",
   "execution_count": 12,
   "metadata": {
    "collapsed": false
   },
   "outputs": [
    {
     "ename": "IndentationError",
     "evalue": "expected an indented block (<ipython-input-12-5ef8b15abc01>, line 6)",
     "output_type": "error",
     "traceback": [
      "\u001b[0;36m  File \u001b[0;32m\"<ipython-input-12-5ef8b15abc01>\"\u001b[0;36m, line \u001b[0;32m6\u001b[0m\n\u001b[0;31m    Billiam_list = [2, 3.14, True, [1, 4]]\u001b[0m\n\u001b[0m    ^\u001b[0m\n\u001b[0;31mIndentationError\u001b[0m\u001b[0;31m:\u001b[0m expected an indented block\n"
     ]
    }
   ],
   "source": [
    "def merge_lists(Billiam_list, Bobert_list):\n",
    "    # Create a NEW longer list here\n",
    "\n",
    "\n",
    "\n",
    "Billiam_list = [2, 3.14, True, [1, 4]]\n",
    "Bobert_list = [\"Hi\", \"my\", \"name\", \"is\", \"Bobert\"]\n",
    "\n",
    "print(\"Billiam's list: \" + Billiam_list)\n",
    "print(\"Bobert's list: \" + Bobert_list)\n",
    "\n",
    "new_merged_list = merge_lists(Billiam_list, Bobert_list)\n",
    "\n",
    "print(\"New merged list: \" + new_merged_list)\n",
    "print(\"Billiam's list: \" + Billiam_list)\n",
    "print(\"Bobert's list: \" + Bobert_list)\n",
    "\n",
    "# Activity 15 Code Here"
   ]
  }
 ],
 "metadata": {
  "kernelspec": {
   "display_name": "Python 3 (Ubuntu Linux)",
   "language": "python",
   "name": "python3-ubuntu",
   "resource_dir": "/usr/local/share/jupyter/kernels/python3-ubuntu"
  },
  "language_info": {
   "codemirror_mode": {
    "name": "ipython",
    "version": 3
   },
   "file_extension": ".py",
   "mimetype": "text/x-python",
   "name": "python",
   "nbconvert_exporter": "python",
   "pygments_lexer": "ipython3",
   "version": "3.8.10"
  }
 },
 "nbformat": 4,
 "nbformat_minor": 4
}