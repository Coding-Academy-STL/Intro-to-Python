{
 "cells": [
  {
   "cell_type": "markdown",
   "metadata": {},
   "source": [
    "```\n",
    "INTRO TO\n",
    "    ______  __________  ______  _   __\n",
    "   / __ \\ \\/ /_  __/ / / / __ \\/ | / /\n",
    "  / /_/ /\\  / / / / /_/ / / / /  |/ / \n",
    " / ____/ / / / / / __  / /_/ / /|  /  \n",
    "/_/     /_/ /_/ /_/ /_/\\____/_/ |_/   \n",
    "```"
   ]
  },
  {
   "cell_type": "markdown",
   "metadata": {},
   "source": [
    "## 3.3 Functions\n",
    "\n",
    "We already learned how to use `for` and `while` loops for repetition. But there's an even powerful way to repeat things: with functions."
   ]
  },
  {
   "cell_type": "markdown",
   "metadata": {},
   "source": [
    "Let's say we are going to be printing `'Hello'` and `'World'` a lot."
   ]
  },
  {
   "cell_type": "code",
   "execution_count": null,
   "metadata": {
    "collapsed": false,
    "jupyter": {
     "outputs_hidden": false
    }
   },
   "outputs": [],
   "source": [
    "print('Hello')\n",
    "print('World')\n",
    "\n",
    "print('abc')\n",
    "\n",
    "print('Hello')\n",
    "print('World')\n",
    "\n",
    "print('123')\n",
    "\n",
    "print('Hello')\n",
    "print('World')"
   ]
  },
  {
   "cell_type": "markdown",
   "metadata": {},
   "source": [
    "Instead of writing\n",
    "```\n",
    "print('Hello')\n",
    "print('World')\n",
    "```\n",
    "three times, we can use a function:"
   ]
  },
  {
   "cell_type": "code",
   "execution_count": null,
   "metadata": {
    "collapsed": false,
    "jupyter": {
     "outputs_hidden": false
    }
   },
   "outputs": [],
   "source": [
    "def hello():\n",
    "    print('Hello')\n",
    "    print('World')"
   ]
  },
  {
   "cell_type": "markdown",
   "metadata": {},
   "source": [
    "What does this mean?\n",
    "- `def` tells Python that we want to create a function.\n",
    "- `hello` is the name of a function.\n",
    "- Make sure you have a `:` colon after the parentheses!\n",
    "\n",
    "Now every time we use the function, Python will do:\n",
    "```\n",
    "print('Hello')\n",
    "print('World')\n",
    "```\n",
    "Using a function in your program is called **calling** the function."
   ]
  },
  {
   "cell_type": "code",
   "execution_count": null,
   "metadata": {
    "collapsed": false,
    "jupyter": {
     "outputs_hidden": false
    }
   },
   "outputs": [],
   "source": [
    "hello()\n",
    "print('abc')\n",
    "hello()\n",
    "print('123')\n",
    "hello()"
   ]
  },
  {
   "cell_type": "markdown",
   "metadata": {},
   "source": [
    "### Activity 11: Revenge of the Spammer\n",
    "\n",
    "Make a function that prints `'I love Python!'` and call it 100 times!"
   ]
  },
  {
   "cell_type": "code",
   "execution_count": null,
   "metadata": {
    "collapsed": false,
    "jupyter": {
     "outputs_hidden": false
    }
   },
   "outputs": [],
   "source": [
    "# Activity 11 code here\n"
   ]
  },
  {
   "cell_type": "markdown",
   "metadata": {},
   "source": [
    "OK, so we've seen that functions can help us avoid writing repetitive code multiple times. But they're more powerful than that. Some functions take in inputs and give back an output.\n",
    "\n",
    "Let's say we want to create a function that adds two numbers and prints their sum:"
   ]
  },
  {
   "cell_type": "code",
   "execution_count": null,
   "metadata": {
    "collapsed": false,
    "jupyter": {
     "outputs_hidden": false
    }
   },
   "outputs": [],
   "source": [
    "def add_numbers(num1, num2):\n",
    "    num3 = num1 + num2\n",
    "    return num3"
   ]
  },
  {
   "cell_type": "markdown",
   "metadata": {},
   "source": [
    "What's different about this function?\n",
    "- There are now two variables in the parenthesis, `num1` and `num2`. These are the two **inputs** to the function.\n",
    "- This function has `return` statement. This tells us what the **output** of the function will be."
   ]
  },
  {
   "cell_type": "markdown",
   "metadata": {},
   "source": [
    "So how can we use our `add_numbers` function?\n",
    "\n",
    "You can either:\n",
    "1. Call the function with `add_numbers(5, 3)`. This will run the code in the function `num1` set to `5` and `num2` set to `3`. The function will return the value of `8`, but no variables will be changed. You can't access the `num3` variable from outside the function.\n",
    "2. Set a variable equal to function with `result = add_numbers(5, 3)`. This will run the code in the function and return the value of `8`. The variable `result` will then be set equal to `8`."
   ]
  },
  {
   "cell_type": "code",
   "execution_count": null,
   "metadata": {
    "collapsed": false,
    "jupyter": {
     "outputs_hidden": false
    }
   },
   "outputs": [],
   "source": [
    "first_number = 5\n",
    "second_number = 3\n",
    "result = add_numbers(first_number, second_number)\n",
    "print(result)"
   ]
  },
  {
   "cell_type": "markdown",
   "metadata": {},
   "source": [
    "How are `num1` and `first_number` different? When we give inputs to a function, the `num1` and `num2` variables get set equal to the values of `first_number` and `second_number`. However, if we modify `num1` and `num2`, this does not affect the value of `first_number` or `second_number`!"
   ]
  },
  {
   "cell_type": "markdown",
   "metadata": {},
   "source": [
    "### Activity 12: Add 3\n",
    "\n",
    "Billiam knows how to write a function that takes two numbers and returns their sum. Can you create a function that takes in 3 numbers and returns their sum?"
   ]
  },
  {
   "cell_type": "code",
   "execution_count": null,
   "metadata": {
    "collapsed": false,
    "jupyter": {
     "outputs_hidden": false
    }
   },
   "outputs": [],
   "source": [
    "# Activity 12 code here\n"
   ]
  },
  {
   "cell_type": "markdown",
   "metadata": {},
   "source": [
    "### Activity 13: Find Maximum!\n",
    "\n",
    "Billiam and Bobert each have a number. They both think their number is larger. Can you write a function that takes in the two numbers and returns the larger one?"
   ]
  },
  {
   "cell_type": "code",
   "execution_count": null,
   "metadata": {
    "collapsed": false,
    "jupyter": {
     "outputs_hidden": false
    }
   },
   "outputs": [],
   "source": [
    "# Activity 13 code here\n"
   ]
  },
  {
   "cell_type": "markdown",
   "metadata": {},
   "source": [
    "### Activity 14: Find the difference!\n",
    "\n",
    "Billiam and Bobert wrote the following programs. In their `add_to_count` functions, they want to modify the variable `count` which is outside the function. The two programs look similar, why does one program work while the other one doesn't?"
   ]
  },
  {
   "cell_type": "code",
   "execution_count": null,
   "metadata": {
    "collapsed": false,
    "jupyter": {
     "outputs_hidden": false
    }
   },
   "outputs": [],
   "source": [
    "# Activity 14 code here\n",
    "\n",
    "# Billiam's code\n",
    "print('Hello, my name is Billiam!')\n",
    "count = 0\n",
    "\n",
    "def add_to_count():\n",
    "    global count\n",
    "    count = count + 1\n",
    "    print('Count is now ' + str(count))\n",
    "\n",
    "for i in range(5):\n",
    "    add_to_count()\n",
    "\n",
    "\n",
    "# Bobert's code\n",
    "print('Hello, my name is Bobert!')\n",
    "count = 0\n",
    "\n",
    "def add_to_count():\n",
    "    count = count + 1\n",
    "    print('Count is now ' + str(count))\n",
    "\n",
    "for i in range(5):\n",
    "    add_to_count()"
   ]
  },
  {
   "cell_type": "markdown",
   "metadata": {},
   "source": [
    "### Activity 15: I Love Functions!\n",
    "\n",
    "Billiam really loves functions! He wants to write a function that takes in his list and Bobert's list, then returns a **new** longer list with Bobert's items added to the end of Billiam's list. Make sure you don't modify the original lists that they pass into the function!"
   ]
  },
  {
   "cell_type": "code",
   "execution_count": null,
   "metadata": {
    "collapsed": false,
    "jupyter": {
     "outputs_hidden": false
    }
   },
   "outputs": [],
   "source": [
    "# Activity 15 code here\n",
    "def merge_lists(Billiam_list, Bobert_list):\n",
    "    # Create a NEW longer list here\n",
    "\n",
    "\n",
    "Billiam_list = [2, 3.14, True, [1, 4]]\n",
    "Bobert_list = ['Hi', 'my', 'name', 'is', 'Bobert']\n",
    "\n",
    "print('Billiam\\'s list: ' + str(Billiam_list))\n",
    "print('Bobert\\'s list: ' + str(Bobert_list))\n",
    "\n",
    "new_merged_list = merge_lists(Billiam_list, Bobert_list)\n",
    "\n",
    "print('New merged list: ' + str(new_merged_list))\n",
    "print('Billiam\\'s list: ' + str(Billiam_list))\n",
    "print('Bobert\\'s list: ' + str(Bobert_list))"
   ]
  }
 ],
 "metadata": {
  "kernelspec": {
   "display_name": "Python 3 (ipykernel)",
   "language": "python",
   "name": "python3"
  },
  "language_info": {
   "codemirror_mode": {
    "name": "ipython",
    "version": 3
   },
   "file_extension": ".py",
   "mimetype": "text/x-python",
   "name": "python",
   "nbconvert_exporter": "python",
   "pygments_lexer": "ipython3",
   "version": "3.10.3"
  }
 },
 "nbformat": 4,
 "nbformat_minor": 4
}
