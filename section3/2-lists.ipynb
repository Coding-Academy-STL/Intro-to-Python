{
 "cells": [
  {
   "cell_type": "markdown",
   "metadata": {
    "collapsed": false
   },
   "source": [
    "```\n",
    "INTRO TO\n",
    "    ______  __________  ______  _   __\n",
    "   / __ \\ \\/ /_  __/ / / / __ \\/ | / /\n",
    "  / /_/ /\\  / / / / /_/ / / / /  |/ / \n",
    " / ____/ / / / / / __  / /_/ / /|  /  \n",
    "/_/     /_/ /_/ /_/ /_/\\____/_/ |_/   \n",
    "```"
   ]
  },
  {
   "cell_type": "markdown",
   "metadata": {
    "collapsed": false
   },
   "source": [
    "## 3.2 Lists\n",
    "\n",
    "- Lists store several items as a list\n",
    "- Lists are **ordered**\n",
    "- Lists can contain items of any data type, even other lists"
   ]
  },
  {
   "cell_type": "code",
   "execution_count": 1,
   "metadata": {
    "collapsed": false
   },
   "outputs": [
    {
     "name": "stdout",
     "output_type": "stream",
     "text": [
      "<class 'list'>\n",
      "<class 'list'>\n"
     ]
    }
   ],
   "source": [
    "# Lists are defined by square brackets []\n",
    "\n",
    "# Examples of a list:\n",
    "list1 = [1, 7, 2, 9] # a list of 4 integers\n",
    "\n",
    "list2 = [1, \"hello\", True, 3.14, [2, 3]]\n",
    "# It contains the elements:\n",
    "1 \t\t# an integer\n",
    "\"hello\"\t# a string\n",
    "True\t# a boolean\n",
    "3.14\t# a float\n",
    "[2, 3]\t# another list\n",
    "\n",
    "# Let's check out its type in the console!\n",
    "print(type(list1))\n",
    "print(type(list2))"
   ]
  },
  {
   "cell_type": "markdown",
   "metadata": {
    "collapsed": false
   },
   "source": [
    "Activity 4: Create your own!\n",
    "---\n",
    "\n",
    "Create your own list! It should be in the format [name, age, favorite animal]\n",
    "\n",
    "After you create the list, print it!"
   ]
  },
  {
   "cell_type": "code",
   "execution_count": 0,
   "metadata": {
    "collapsed": false
   },
   "outputs": [
   ],
   "source": [
    "# Activity 4 Code Here"
   ]
  },
  {
   "cell_type": "code",
   "execution_count": 19,
   "metadata": {
    "collapsed": false
   },
   "outputs": [
    {
     "name": "stdout",
     "output_type": "stream",
     "text": [
      "['milk', 'avocados', 'pineapples']\n",
      "length: 3\n",
      "11\n"
     ]
    }
   ],
   "source": [
    "# What can we do with lists?\n",
    "\n",
    "# Let's say we have this shopping list:\n",
    "shopping_list = [\"milk\", \"avocados\", \"pineapples\"]\n",
    "print(shopping_list)\n",
    "\n",
    "# To get the length of a list, use: len()\n",
    "print(\"length:\", len(shopping_list))"
   ]
  },
  {
   "cell_type": "code",
   "execution_count": 0,
   "metadata": {
    "collapsed": false
   },
   "outputs": [
   ],
   "source": [
    "shopping_list = [\"milk\", \"avocados\", \"pineapples\"]\n",
    "\n",
    "# To get the element at a certain position of the list, use INDEXING!\n",
    "\n",
    "# To get the first element, use: shopping_list[0]\n",
    "print(\"First element (index 0):\", shopping_list[0])\n",
    "\n",
    "# Python (and most other programming languages) is zero-indexed\n",
    "# This means the first element of a list is INDEX 0\n",
    "\n",
    "# To get the second element, use: shopping_list[1]\n",
    "print(\"Second element (index 1) is \" + shopping_list[1])\n",
    "\n",
    "# To get the third element: shopping_list[2]\n",
    "print(\"Third element (index 2) is \" + shopping_list[2])\n",
    "\n",
    "# Here's a helpful chart\n",
    "# Index:\t\t0\t\t\t\t1\t\t\t2\n",
    "# \t\t[\"evaporated milk\", \"avocados\", \"pineapples\"]\n"
   ]
  },
  {
   "cell_type": "code",
   "execution_count": 4,
   "metadata": {
    "collapsed": false
   },
   "outputs": [
    {
     "name": "stdout",
     "output_type": "stream",
     "text": [
      "Original shopping list ['evaporated milk', 'avocados', 'pineapples']\n",
      "New shopping list ['evaporated milk', 'fruit roll-ups', 'pineapples']\n"
     ]
    }
   ],
   "source": [
    "shopping_list = [\"milk\", \"avocados\", \"pineapples\"]\n",
    "print(\"Original shopping list:\", shopping_list)\n",
    "\n",
    "# To modify an element an index in a list: \n",
    "\n",
    "# Change the element at index 1 to \"fruit roll-ups\"\n",
    "shopping_list[1] = \"fruit roll-ups\"\n",
    "print(\"New shopping list:\", shopping_list)"
   ]
  },
  {
   "cell_type": "markdown",
   "metadata": {
    "collapsed": false
   },
   "source": [
    "Activity 5: First!\n",
    "---\n",
    "Billiam and Bobert both made shopping lists. Print out the **first** element of each of the lists!"
   ]
  },
  {
   "cell_type": "code",
   "execution_count": 0,
   "metadata": {
    "collapsed": false
   },
   "outputs": [
   ],
   "source": [
    "Billiam_list = [\"bread\", \"biscuits\", \"bottled_water\"]\n",
    "Bobert_list = [\"burgers\", \"beef\", \"bacon\", \"bagels\"]\n",
    "\n",
    "# Activity 5 Code Here"
   ]
  },
  {
   "cell_type": "markdown",
   "metadata": {
    "collapsed": false
   },
   "source": [
    "Activity 6: Last!\n",
    "---\n",
    "Billiam and Bobert both made shopping lists. Print out the **last** element of each of the lists!\n",
    "\n",
    "How can we print out the last element of any list?\n",
    "\n",
    "Hint: Use `len(your_list)` to get the length of a list."
   ]
  },
  {
   "cell_type": "code",
   "execution_count": 6,
   "metadata": {
    "collapsed": false
   },
   "outputs": [
    {
     "data": {
      "text/plain": [
       "\"\\nNow let's do Activities 5 and 6!\\n\""
      ]
     },
     "execution_count": 6,
     "metadata": {
     },
     "output_type": "execute_result"
    }
   ],
   "source": [
    "Billiam_list = [\"bread\", \"biscuits\", \"bottled_water\"]\n",
    "Bobert_list = [\"burgers\", \"beef\", \"bacon\", \"bagels\"]\n",
    "\n",
    "# Activity 6 Code Here"
   ]
  },
  {
   "cell_type": "code",
   "execution_count": 9,
   "metadata": {
    "collapsed": false
   },
   "outputs": [
    {
     "name": "stdout",
     "output_type": "stream",
     "text": [
      "['milk', 'avocados', 'pineapples', 'potato']\n"
     ]
    }
   ],
   "source": [
    "shopping_list = [\"milk\", \"avocados\", \"pineapples\"]\n",
    "\n",
    "# To add an element to the end of a list, use: .append()\n",
    "shopping_list.append(\"potato\")\n",
    "print(shopping_list)"
   ]
  },
  {
   "cell_type": "code",
   "execution_count": 15,
   "metadata": {
    "collapsed": false
   },
   "outputs": [
    {
     "name": "stdout",
     "output_type": "stream",
     "text": [
      "['milk', 'doritos', 'avocados', 'pineapples']\n",
      "['milk', 'doritos', 'avocados']\n",
      "['milk', 'avocados']\n"
     ]
    }
   ],
   "source": [
    "shopping_list = [\"milk\", \"avocados\", \"pineapples\"]\n",
    "\n",
    "# To insert a new element at a position, use: .insert()\n",
    "\n",
    "# Inserts \"doritos\" at index 1\n",
    "shopping_list.insert(1, \"doritos\")\n",
    "print(shopping_list)\n",
    "\n",
    "# To delete an element: use .remove()\n",
    "shopping_list.remove(\"pineapples\")\n",
    "print(shopping_list)\n",
    "\n",
    "# To delete an element at an index: use del()\n",
    "del(shopping_list[1])\n",
    "print(shopping_list)"
   ]
  },
  {
   "cell_type": "markdown",
   "metadata": {
    "collapsed": false
   },
   "source": [
    "Activity 7: One at a Time!\n",
    "---\n",
    "Ask the user for their name, age, and favorite animal. Add them to the list. Now print everything out!"
   ]
  },
  {
   "cell_type": "code",
   "execution_count": 0,
   "metadata": {
    "collapsed": false
   },
   "outputs": [
   ],
   "source": [
    "# Activity 7 Code Here"
   ]
  },
  {
   "cell_type": "markdown",
   "metadata": {
    "collapsed": false
   },
   "source": [
    "Activity 8: Reversed! 2.0\n",
    "---\n",
    "Create a list containing the first 10 positive integers in **reverse** order. Then print it out.\n",
    "\n",
    "Can you do it with .append()? What about with .insert()?"
   ]
  },
  {
   "cell_type": "code",
   "execution_count": 0,
   "metadata": {
    "collapsed": false
   },
   "outputs": [
   ],
   "source": [
    "# Activity 8 Code Here\n",
    "\n",
    "# use: for in range(10):"
   ]
  },
  {
   "cell_type": "code",
   "execution_count": 1,
   "metadata": {
    "collapsed": false
   },
   "outputs": [
    {
     "name": "stdout",
     "output_type": "stream",
     "text": [
      "Index: 0\n",
      "Buy: milk\n",
      "Index: 1\n",
      "Buy: avocados\n",
      "Index: 2\n",
      "Buy: pineapples\n"
     ]
    }
   ],
   "source": [
    "# Lists are extremely useful when paired with for loops!\n",
    "\n",
    "# What if we want to do something with each element in a list?\n",
    "# This is called ITERATING through the list\n",
    "\n",
    "shopping_list = [\"milk\", \"avocados\", \"pineapples\"]\n",
    "\n",
    "# We could iterate by index\n",
    "for i in range(len(shopping_list)):\n",
    "    print(\"Index:\", i)\n",
    "    print(\"Item:\", shopping_list[i])"
   ]
  },
  {
   "cell_type": "code",
   "execution_count": 2,
   "metadata": {
    "collapsed": false
   },
   "outputs": [
    {
     "name": "stdout",
     "output_type": "stream",
     "text": [
      "Item: milk\n",
      "Item: avocados\n",
      "Item: pineapples\n"
     ]
    }
   ],
   "source": [
    "# Or iterate directly\n",
    "for item in shopping_list:\n",
    "\t# Do something interesting\n",
    "\tprint(\"Item:\", item)"
   ]
  },
  {
   "cell_type": "code",
   "execution_count": 3,
   "metadata": {
    "collapsed": false
   },
   "outputs": [
    {
     "name": "stdout",
     "output_type": "stream",
     "text": [
      "[0, 1, 2, 3, 4]\n",
      "0\n",
      "1\n",
      "2\n",
      "3\n",
      "4\n"
     ]
    }
   ],
   "source": [
    "# In the early loop, range(n-1) can be treated like a list of integers\n",
    "\n",
    "list1=list(range(5)) # cast range type to list type\n",
    "print(range1)\n",
    "\n",
    "for i in list1:\n",
    "    print(i)"
   ]
  },
  {
   "cell_type": "code",
   "execution_count": 3,
   "metadata": {
    "collapsed": false
   },
   "outputs": [
    {
     "name": "stdout",
     "output_type": "stream",
     "text": [
      "['Hello', 'my', 'name', 'is', 'Billiam']\n",
      "Hello says hi\n",
      "my says hi\n",
      "name says hi\n",
      "is says hi\n",
      "Billiam says hi\n"
     ]
    },
    {
     "data": {
      "text/plain": [
       "\"\\nLet's look at Activities 9 and 10!\\n\""
      ]
     },
     "execution_count": 3,
     "metadata": {
     },
     "output_type": "execute_result"
    }
   ],
   "source": [
    "# What if we want to split a sentence string into a list of individual words?\n",
    "# For example: \"hello my name is Bobert\" -> [\"hello\", \"my\", \"name\", \"is\", \"Bobert\"]\n",
    "# We can use the string function: .split()\n",
    "\n",
    "sentence = \"Hello my name is Billiam\"\n",
    "word_list = sentence.split(\" \") # splits on space\n",
    "print(word_list)\n",
    "\n",
    "# Now we can iterate through the word_list!\n",
    "for word in word_list:\n",
    "\t# Do something interesting\n",
    "\tprint(word + \" says hi\")"
   ]
  },
  {
   "cell_type": "markdown",
   "metadata": {
    "collapsed": false
   },
   "source": [
    "Activity 9: Triple Sum 2.0\n",
    "---\n",
    "Ask the user for three numbers on one line. Use .split() to get the numbers as a list of strings. Then output the sum of the three numbers."
   ]
  },
  {
   "cell_type": "code",
   "execution_count": 0,
   "metadata": {
    "collapsed": false
   },
   "outputs": [
   ],
   "source": [
    "# Activity 9 Code Here"
   ]
  },
  {
   "cell_type": "markdown",
   "metadata": {
    "collapsed": false
   },
   "source": [
    "Activity 10: I Love Lists!\n",
    "---\n",
    "Billiam and Bobert have two lists.  \n",
    "Add Bobert's list to the end of Billiam's list to get a longer list.  \n",
    "Then print the value and data type of the items at positions (not index) 3 and 7 of the long list. "
   ]
  },
  {
   "cell_type": "code",
   "execution_count": 0,
   "metadata": {
    "collapsed": false
   },
   "outputs": [
   ],
   "source": [
    "Billiam_list = [2, 3.14, True, [1, 4]]\n",
    "Bobert_list = [\"Hi\", \"my\", \"name\", \"is\", \"Bobert\"]\n",
    "\n",
    "# Activity 10 Code Here"
   ]
  },
  {
   "cell_type": "markdown",
   "metadata": {
    "collapsed": false
   },
   "source": [
    "Review\n",
    "-----\n",
    "* lists can contain any data type\n",
    "* use `list[index]` to access list items\n",
    "* lists are 0-indexed\n",
    "* use `list.append()`, `list.insert()`, `list.remove`, `del list[index]`\n",
    "* use `for in list:`\n",
    "* `str.split()` to split string into array of substrings"
   ]
  },
  {
   "cell_type": "code",
   "execution_count": 0,
   "metadata": {
    "collapsed": false
   },
   "outputs": [
   ],
   "source": [
    "# BONUS\n",
    "my_list = [\"first\", \"second\", \"third\", \"fourth\"]\n",
    "\n",
    "# To get the last element of an array, use my_list[-1]\n",
    "print(my_list[-1])\n",
    "\n",
    "# To get the second to last element of an array, use my_list[-2]\n",
    "print(my_list[-2])\n",
    "\n",
    "# To get part of a list (subarray), use my_list[START_INDEX: END_INDEX]\n",
    "print(my_list[1:3])\n",
    "print(my_list[2:])"
   ]
  }
 ],
 "metadata": {
  "kernelspec": {
   "display_name": "Python 3 (Ubuntu Linux)",
   "language": "python",
   "name": "python3-ubuntu",
   "resource_dir": "/usr/local/share/jupyter/kernels/python3-ubuntu"
  },
  "language_info": {
   "codemirror_mode": {
    "name": "ipython",
    "version": 3
   },
   "file_extension": ".py",
   "mimetype": "text/x-python",
   "name": "python",
   "nbconvert_exporter": "python",
   "pygments_lexer": "ipython3",
   "version": "3.8.10"
  }
 },
 "nbformat": 4,
 "nbformat_minor": 4
}