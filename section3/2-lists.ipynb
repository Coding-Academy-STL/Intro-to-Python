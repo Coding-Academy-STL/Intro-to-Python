{
 "cells": [
  {
   "cell_type": "markdown",
   "metadata": {
    "collapsed": false
   },
   "source": [
    "```\n",
    "INTRO TO\n",
    "    ______  __________  ______  _   __\n",
    "   / __ \\ \\/ /_  __/ / / / __ \\/ | / /\n",
    "  / /_/ /\\  / / / / /_/ / / / /  |/ / \n",
    " / ____/ / / / / / __  / /_/ / /|  /  \n",
    "/_/     /_/ /_/ /_/ /_/\\____/_/ |_/   \n",
    "```"
   ]
  },
  {
   "cell_type": "markdown",
   "metadata": {
    "collapsed": false
   },
   "source": [
    "## 3.2 LISTS\n",
    "\n",
    "* Lists store several items as a list\n",
    "* Lists are **ordered**\n",
    "* Lists can contain items of any data type, even other lists"
   ]
  },
  {
   "cell_type": "code",
   "execution_count": 1,
   "metadata": {
    "collapsed": false
   },
   "outputs": [
    {
     "name": "stdout",
     "output_type": "stream",
     "text": [
      "<class 'list'>\n",
      "<class 'list'>\n"
     ]
    }
   ],
   "source": [
    "# Lists are defined by square brackets []\n",
    "\n",
    "# Examples of a list:\n",
    "list1 = [1, 7, 2, 9] # a list of 4 integers\n",
    "\n",
    "list2 = [1, \"hello\", True, 3.14, [2, 3]]\n",
    "# It contains the elements:\n",
    "1 \t\t# an integer\n",
    "\"hello\"\t# a string\n",
    "True\t# a boolean\n",
    "3.14\t# a float\n",
    "[2, 3]\t# another list\n",
    "\n",
    "# Let's check out its type in the console!\n",
    "print(type(list1))\n",
    "print(type(list2))"
   ]
  },
  {
   "cell_type": "code",
   "execution_count": 0,
   "metadata": {
    "collapsed": false
   },
   "outputs": [
   ],
   "source": [
    "'''\n",
    "Let's look at Activity 4 now!\n",
    "'''"
   ]
  },
  {
   "cell_type": "code",
   "execution_count": 0,
   "metadata": {
    "collapsed": false
   },
   "outputs": [
   ],
   "source": [
    "# What can we do with lists?\n",
    "\n",
    "# Let's say we have this shopping list:\n",
    "shopping_list = [\"milk\", \"avocados\", \"pineapples\"]\n",
    "print(shopping_list)\n",
    "\n",
    "\n",
    "# To get the element at a certain position of the list, use INDEXING!\n",
    "\n",
    "# To get the first element, use: shopping_list[0]\n",
    "print(\"First element (index 0):\", shopping_list[0])\n",
    "\n",
    "# Python (and most other programming languages) is zero-indexed\n",
    "# This means the first element of a list is INDEX 0\n",
    "\n",
    "# To get the second element, use: shopping_list[1]\n",
    "print(\"Second element (index 1) is \" + shopping_list[1])\n",
    "\n",
    "# To get the third element: shopping_list[2]\n",
    "print(\"Third element (index 2) is \" + shopping_list[2])\n",
    "\n",
    "# Here's a helpful chart\n",
    "# Index:\t\t0\t\t\t\t1\t\t\t2\n",
    "# \t\t[\"evaporated milk\", \"avocados\", \"pineapples\"]\n"
   ]
  },
  {
   "cell_type": "code",
   "execution_count": 4,
   "metadata": {
    "collapsed": false
   },
   "outputs": [
    {
     "name": "stdout",
     "output_type": "stream",
     "text": [
      "Original shopping list ['evaporated milk', 'avocados', 'pineapples']\n",
      "New shopping list ['evaporated milk', 'fruit roll-ups', 'pineapples']\n"
     ]
    }
   ],
   "source": [
    "shopping_list = [\"milk\", \"avocados\", \"pineapples\"]\n",
    "print(\"Original shopping list:\", shopping_list)\n",
    "\n",
    "# To modify an element an index in a list: \n",
    "\n",
    "# Change the element at index 1 to \"fruit roll-ups\"\n",
    "shopping_list[1] = \"fruit roll-ups\"\n",
    "print(\"New shopping list:\", shopping_list)"
   ]
  },
  {
   "cell_type": "code",
   "execution_count": 6,
   "metadata": {
    "collapsed": false
   },
   "outputs": [
    {
     "data": {
      "text/plain": [
       "\"\\nNow let's do Activities 5 and 6!\\n\""
      ]
     },
     "execution_count": 6,
     "metadata": {
     },
     "output_type": "execute_result"
    }
   ],
   "source": [
    "'''\n",
    "Now let's do Activities 5 and 6!\n",
    "'''"
   ]
  },
  {
   "cell_type": "code",
   "execution_count": 9,
   "metadata": {
    "collapsed": false
   },
   "outputs": [
    {
     "name": "stdout",
     "output_type": "stream",
     "text": [
      "['milk', 'avocados', 'pineapples', 'potato']\n"
     ]
    }
   ],
   "source": [
    "shopping_list = [\"milk\", \"avocados\", \"pineapples\"]\n",
    "\n",
    "# To add an element to the end of a list, use: .append()\n",
    "shopping_list.append(\"potato\")\n",
    "print(shopping_list)"
   ]
  },
  {
   "cell_type": "code",
   "execution_count": 15,
   "metadata": {
    "collapsed": false
   },
   "outputs": [
    {
     "name": "stdout",
     "output_type": "stream",
     "text": [
      "['milk', 'doritos', 'avocados', 'pineapples']\n",
      "['milk', 'doritos', 'avocados']\n",
      "['milk', 'avocados']\n"
     ]
    }
   ],
   "source": [
    "shopping_list = [\"milk\", \"avocados\", \"pineapples\"]\n",
    "\n",
    "# To insert a new element at a position, use: .insert()\n",
    "\n",
    "# Inserts \"doritos\" at index 1\n",
    "shopping_list.insert(1, \"doritos\")\n",
    "print(shopping_list)\n",
    "\n",
    "# To delete an element: use .remove()\n",
    "shopping_list.remove(\"pineapples\")\n",
    "print(shopping_list)\n",
    "\n",
    "# To delete an element at an index: use del()\n",
    "del(shopping_list[1])\n",
    "print(shopping_list)"
   ]
  },
  {
   "cell_type": "code",
   "execution_count": 0,
   "metadata": {
    "collapsed": false
   },
   "outputs": [
   ],
   "source": [
    "'''\n",
    "Let's take a look at Activities 7 and 8!\n",
    "'''"
   ]
  },
  {
   "cell_type": "code",
   "execution_count": 16,
   "metadata": {
    "collapsed": false
   },
   "outputs": [
    {
     "name": "stdout",
     "output_type": "stream",
     "text": [
      "Buy: milk\n",
      "Buy: avocados\n",
      "Buy: pineapples\n"
     ]
    }
   ],
   "source": [
    "# Lists are extremely useful when paired with for loops!\n",
    "\n",
    "# What if we want to do something with each element in a list?\n",
    "# This is called ITERATING through the list\n",
    "\n",
    "shopping_list = [\"milk\", \"avocados\", \"pineapples\"]\n",
    "\n",
    "# It's actually quite easy\n",
    "for item in shopping_list:\n",
    "\t# Do something interesting\n",
    "\tprint(\"Buy:\", item)"
   ]
  },
  {
   "cell_type": "code",
   "execution_count": 0,
   "metadata": {
    "collapsed": false
   },
   "outputs": [
   ],
   "source": [
    "\n",
    "\n",
    "# On a related note, what if we want to split a sentence string into a list of individual words?\n",
    "# For example: \"hello my name is Bobert\" -> [\"hello\", \"my\", \"name\", \"is\", \"Bobert\"]\n",
    "# We can use the function .split()\n",
    "sentence = \"Hello my name is Billiam\"\n",
    "word_list = sentence.split(\" \")\n",
    "print(word_list)\n",
    "\n",
    "# Now we can iterate through the word_list!\n",
    "for word in word_list:\n",
    "\t# Do something interesting\n",
    "\tprint(word + \" says hi\")\n",
    "\n",
    "\n",
    "'''\n",
    "Let's look at Activities 9 and 10!\n",
    "'''"
   ]
  },
  {
   "cell_type": "code",
   "execution_count": 0,
   "metadata": {
    "collapsed": false
   },
   "outputs": [
   ],
   "source": [
    "# BONUS\n",
    "my_list = [\"first\", \"second\", \"third\", \"fourth\"]\n",
    "\n",
    "# To get the last element of an array, use my_list[-1]\n",
    "print(my_list[-1])\n",
    "\n",
    "# To get the second to last element of an array, use my_list[-2]\n",
    "print(my_list[-2])\n",
    "\n",
    "# To get part of a list (subarray), use my_list[START_INDEX: END_INDEX]\n",
    "print(my_list[1:3])\n",
    "print(my_list[2:])"
   ]
  }
 ],
 "metadata": {
  "kernelspec": {
   "display_name": "Python 3 (Ubuntu Linux)",
   "language": "python",
   "name": "python3-ubuntu",
   "resource_dir": "/usr/local/share/jupyter/kernels/python3-ubuntu"
  },
  "language_info": {
   "codemirror_mode": {
    "name": "ipython",
    "version": 3
   },
   "file_extension": ".py",
   "mimetype": "text/x-python",
   "name": "python",
   "nbconvert_exporter": "python",
   "pygments_lexer": "ipython3",
   "version": "3.8.10"
  }
 },
 "nbformat": 4,
 "nbformat_minor": 4
}