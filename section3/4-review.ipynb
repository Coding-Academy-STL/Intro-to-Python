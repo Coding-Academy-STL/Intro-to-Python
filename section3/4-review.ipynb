{
 "cells": [
  {
   "cell_type": "markdown",
   "metadata": {
    "collapsed": false
   },
   "source": [
    "```\n",
    "INTRO TO\n",
    "    ______  __________  ______  _   __\n",
    "   / __ \\ \\/ /_  __/ / / / __ \\/ | / /\n",
    "  / /_/ /\\  / / / / /_/ / / / /  |/ / \n",
    " / ____/ / / / / / __  / /_/ / /|  /  \n",
    "/_/     /_/ /_/ /_/ /_/\\____/_/ |_/   \n",
    "```"
   ]
  },
  {
   "cell_type": "markdown",
   "metadata": {
    "collapsed": false
   },
   "source": [
    "## 3.4 Review\n",
    "\n",
    "This lesson, we looked over types and learned lists and functions."
   ]
  },
  {
   "cell_type": "code",
   "execution_count": 1,
   "metadata": {
    "collapsed": false
   },
   "outputs": [
    {
     "name": "stdout",
     "output_type": "stream",
     "text": [
      "<class 'float'>\n"
     ]
    }
   ],
   "source": [
    "# We first went over some common types, such as integers, strings, booleans, and floats.\n",
    "# We recalled that it is extremely important to remember what type your variables are.\n",
    "# You can also use type(your_variable_name_here) to print the type if you are not sure\n",
    "\n",
    "weird_var = 0.0\n",
    "print(type(weird_var))"
   ]
  },
  {
   "cell_type": "markdown",
   "metadata": {
    "collapsed": false
   },
   "source": [
    "We looked at another very useful data type today: `lists`.\n",
    "\n",
    "Lists are extremely versatile and can even contain other lists as items. <br>\n",
    "Paired with for loops, they are even more powerful."
   ]
  },
  {
   "cell_type": "code",
   "execution_count": 2,
   "metadata": {
    "cocalc": {
     "outputs": {
      "1": {
       "name": "input",
       "opts": {
        "password": false,
        "prompt": ""
       },
       "output_type": "stream",
       "value": "hello"
      }
     }
    },
    "collapsed": false
   },
   "outputs": [
    {
     "name": "stdout",
     "output_type": "stream",
     "text": [
      "Type a sentence!\n"
     ]
    },
    {
     "name": "stdout",
     "output_type": "stream",
     "text": " hello"
    },
    {
     "name": "stdout",
     "output_type": "stream",
     "text": [
      "Your sentence was: hello\n"
     ]
    }
   ],
   "source": [
    "# Analyze the words in a sentence typed in by the user:\n",
    "print(\"Type a sentence!\")\n",
    "sentence = input()\n",
    "print(\"Your sentence was: \" + sentence)"
   ]
  },
  {
   "cell_type": "code",
   "execution_count": 5,
   "metadata": {
    "collapsed": false
   },
   "outputs": [
   ],
   "source": [
    "# break up sentence into a list of words\n",
    "words = sentence.split()"
   ]
  },
  {
   "cell_type": "code",
   "execution_count": 8,
   "metadata": {
    "collapsed": false
   },
   "outputs": [
    {
     "name": "stdout",
     "output_type": "stream",
     "text": [
      "hello has 5 letters\n",
      "\n"
     ]
    }
   ],
   "source": [
    "# Now iterate through each word in the list of words\n",
    "for word in words:\n",
    "    # Use len( ) to get the number of letters in a word\n",
    "    # len( ) returns us an integer, so we need to convert it to a string in order to mash it with the other strings\n",
    "    print(word + \" has \" + str(len(word)) + \" letters\")\n",
    "\n",
    "print() # print a newline"
   ]
  },
  {
   "cell_type": "markdown",
   "metadata": {
    "collapsed": false
   },
   "source": [
    "Note that in Python, the first item on the list has index 0, the second has index 1, and so on. The last item has index `len(your_list) - 1`, or index -1 as shorthand."
   ]
  },
  {
   "cell_type": "markdown",
   "metadata": {
    "collapsed": false
   },
   "source": [
    "We also looked at functions, which allow us to break up complicated tasks into smaller ones."
   ]
  },
  {
   "cell_type": "code",
   "execution_count": 9,
   "metadata": {
    "collapsed": false
   },
   "outputs": [
   ],
   "source": [
    "# What if we need to analyze a lot of sentences?\n",
    "def analyze_sentence(sentence): # make sure you have the : colon here!\n",
    "    print(\"Your sentence was: \" + sentence)\n",
    "\n",
    "    # break up sentence into a list of words\n",
    "    words = sentence.split()\n",
    "\n",
    "    sum_of_word_lens = 0\n",
    "    for word in words:\n",
    "        # Use len( ) to get the number of letters in a word\n",
    "        # len( ) returns us an integer, so we need to convert it to a string in order to mash it with the other strings\n",
    "        print(word + \" has \" + str(len(word)) + \" letters\")\n",
    "\n",
    "        sum_of_word_lens = len(word) + sum_of_word_lens\n",
    "    \n",
    "    print() # print a newline\n",
    "\n",
    "    # Find the average\n",
    "    # len(words) gives us length of the list of words; basically the number of words in the sentence\n",
    "    average_word_length = sum_of_word_lens / len(words) \n",
    "    \n",
    "    # Return the total sum of all the word len\n",
    "    return average_word_length"
   ]
  },
  {
   "cell_type": "code",
   "execution_count": 10,
   "metadata": {
    "collapsed": false
   },
   "outputs": [
    {
     "name": "stdout",
     "output_type": "stream",
     "text": [
      "Your sentence was: Hello my name is Bobert\n",
      "Hello has 5 letters\n",
      "my has 2 letters\n",
      "name has 4 letters\n",
      "is has 2 letters\n",
      "Bobert has 6 letters\n",
      "\n",
      "Your sentence was: Bobert is better than Billiam\n",
      "Bobert has 6 letters\n",
      "is has 2 letters\n",
      "better has 6 letters\n",
      "than has 4 letters\n",
      "Billiam has 7 letters\n",
      "\n",
      "Your sentence was: I really really really love Python\n",
      "I has 1 letters\n",
      "really has 6 letters\n",
      "really has 6 letters\n",
      "really has 6 letters\n",
      "love has 4 letters\n",
      "Python has 6 letters\n",
      "\n"
     ]
    },
    {
     "data": {
      "text/plain": [
       "4.833333333333333"
      ]
     },
     "execution_count": 10,
     "metadata": {
     },
     "output_type": "execute_result"
    }
   ],
   "source": [
    "# Now we can use our function!\n",
    "analyze_sentence('Hello my name is Bobert')\n",
    "analyze_sentence('Bobert is better than Billiam')\n",
    "analyze_sentence('I really really really love Python')"
   ]
  },
  {
   "cell_type": "markdown",
   "metadata": {
    "collapsed": false
   },
   "source": [
    "### Activity 16: Attack of the Pythons V\n",
    "\n",
    "You are being attacked by an army of Pythons again! You've noticed that there are actually multiple species of Pythons attacking you, and each species requires a different type of weapon to slay. To prepare for your fight with the Pythons, you have a list of the species of each Python in the army. Write a function that takes in the list of species as a parameter and returns the number of unique species in that list."
   ]
  },
  {
   "cell_type": "code",
   "execution_count": 3,
   "metadata": {
    "collapsed": false
   },
   "outputs": [
   ],
   "source": [
    "# Activity 16 code here\n",
    "army_species = ['Pythonidae billwenderi', 'Pythonidae bobertwenderi', 'Pythonidae samchooo', 'Pythonidae samchooo', 'Pythonidae billwenderi', 'Pythonidae samchooo', 'Pythonidae billwenderi', 'Pythonidae bobertwenderi']"
   ]
  },
  {
   "cell_type": "markdown",
   "metadata": {
    "collapsed": false
   },
   "source": [
    "### Activity 17: Double All!\n",
    "\n",
    "Can you write a function that takes in a list and doubles all elements in the list and returns the list?"
   ]
  },
  {
   "cell_type": "code",
   "execution_count": 12,
   "metadata": {
    "collapsed": false
   },
   "outputs": [
   ],
   "source": [
    "# Activity 17 code here\n"
   ]
  },
  {
   "cell_type": "markdown",
   "metadata": {
    "collapsed": false
   },
   "source": [
    "### Activity 18: Attack of the Pythons VI\n",
    "\n",
    "The army of Pythons is attacking! It's the final showdown between you and the Pythons. Each Python has a health which is some integer. You have one long string consisting of the Pythons' healths separated with spaces. You want to know the Pythons' healths in increasing order so that you can attack the weakest Pythons first. Write a function that takes in a string of the healths as a parameter and outputs the string of the healths **sorted from least to greatest**.\n",
    "\n",
    "Hint: Convert the string to a list!"
   ]
  },
  {
   "cell_type": "code",
   "execution_count": 13,
   "metadata": {
    "collapsed": false
   },
   "outputs": [
   ],
   "source": [
    "healths_str = '256 874 94 32 25 943 566 514 433 80 42 246 347 578 125 949 454 446 680 120'\n",
    "\n",
    "# Activity 18 code here\n",
    "\n",
    "\n",
    "# Expected Output: 25 32 42 80 94 120 125 246 256 347 433 446 454 514 566 578 680 874 943 949"
   ]
  },
  {
   "cell_type": "markdown",
   "metadata": {
    "collapsed": false
   },
   "source": [
    "### Challenge 1: Todo\n",
    "\n",
    "Simulate a todo list! Ask the user to input the action they want to do: append or remove. Then ask for what item to append or remove and print the list after every action!"
   ]
  },
  {
   "cell_type": "code",
   "execution_count": 14,
   "metadata": {
    "collapsed": false
   },
   "outputs": [
   ],
   "source": [
    "# Challenge 1 code here\n"
   ]
  },
  {
   "cell_type": "code",
   "execution_count": 0,
   "metadata": {
    "collapsed": false
   },
   "outputs": [
   ],
   "source": [
   ]
  },
  {
   "cell_type": "markdown",
   "metadata": {
    "collapsed": false
   },
   "source": [
    "### Challenge 2: 4-*function* calculator\n",
    "\n",
    "Mimic a calculator, with operations as functions! Ask the user for a space separated math expression like `'2 + 2'` or `'9 / 2'`. Then, use `.split()` to split the input string into three words, for example, `['2', '+', '2']` or `['9', '/', '2']`. Now write functions for each operation and use the functions to evaluate the answer! Make sure you remember what the type of each variable is!"
   ]
  },
  {
   "cell_type": "code",
   "execution_count": 15,
   "metadata": {
    "collapsed": false
   },
   "outputs": [
   ],
   "source": [
    "# Challenge 2 code here\n"
   ]
  }
 ],
 "metadata": {
  "kernelspec": {
   "display_name": "Python 3 (Ubuntu Linux)",
   "language": "python",
   "name": "python3-ubuntu",
   "resource_dir": "/usr/local/share/jupyter/kernels/python3-ubuntu"
  },
  "language_info": {
   "codemirror_mode": {
    "name": "ipython",
    "version": 3
   },
   "file_extension": ".py",
   "mimetype": "text/x-python",
   "name": "python",
   "nbconvert_exporter": "python",
   "pygments_lexer": "ipython3",
   "version": "3.8.10"
  }
 },
 "nbformat": 4,
 "nbformat_minor": 4
}