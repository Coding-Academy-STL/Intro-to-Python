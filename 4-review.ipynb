{
 "cells": [
  {
   "cell_type": "markdown",
   "metadata": {},
   "source": [
    "```\n",
    "INTRO TO\n",
    "    ______  __________  ______  _   __\n",
    "   / __ \\ \\/ /_  __/ / / / __ \\/ | / /\n",
    "  / /_/ /\\  / / / / /_/ / / / /  |/ / \n",
    " / ____/ / / / / / __  / /_/ / /|  /  \n",
    "/_/     /_/ /_/ /_/ /_/\\____/_/ |_/   \n",
    "```"
   ]
  },
  {
   "cell_type": "markdown",
   "metadata": {},
   "source": [
    "# 4 Review\n",
    "\n",
    "Let's go over what we learned in the last few lessons! We learned about printing, variables, and reading input."
   ]
  },
  {
   "cell_type": "markdown",
   "metadata": {},
   "source": [
    "**Printing** is easy! Just use `print( )`."
   ]
  },
  {
   "cell_type": "code",
   "execution_count": null,
   "metadata": {
    "collapsed": false,
    "jupyter": {
     "outputs_hidden": false
    }
   },
   "outputs": [],
   "source": [
    "print('Printing is fun!')"
   ]
  },
  {
   "cell_type": "markdown",
   "metadata": {},
   "source": [
    "Remember, to print exact text, we need quotes. To print the result of a math expression, don't use quotes and Python will compute it for you."
   ]
  },
  {
   "cell_type": "code",
   "execution_count": null,
   "metadata": {},
   "outputs": [],
   "source": [
    "print('2 + 2')\n",
    "print(2 + 2)"
   ]
  },
  {
   "cell_type": "markdown",
   "metadata": {},
   "source": [
    "We can store things in **variables**. Variables have a **name**, **value**, and a **type**. The **type** of the variable is the kind of value it is storing.\n",
    "\n",
    "The type of a variable is **very important**! Always keep track of the type of your variables!"
   ]
  },
  {
   "cell_type": "code",
   "execution_count": null,
   "metadata": {
    "collapsed": false,
    "jupyter": {
     "outputs_hidden": false
    }
   },
   "outputs": [],
   "source": [
    "greeting = 'Hello!'\n",
    "print(greeting)\n",
    "print(type(greeting))"
   ]
  },
  {
   "cell_type": "markdown",
   "metadata": {},
   "source": [
    "Remember that **all variables have a value and a type**, and you can't mix and match different types. A good example is with addition. With two integers, addition simply adds them together:"
   ]
  },
  {
   "cell_type": "code",
   "execution_count": null,
   "metadata": {
    "collapsed": false,
    "jupyter": {
     "outputs_hidden": false
    }
   },
   "outputs": [],
   "source": [
    "sum = 2 + 2 # OK\n",
    "print(sum)"
   ]
  },
  {
   "cell_type": "markdown",
   "metadata": {},
   "source": [
    "For strings, addition will mash together (concatenate) two strings:"
   ]
  },
  {
   "cell_type": "code",
   "execution_count": null,
   "metadata": {
    "collapsed": false,
    "jupyter": {
     "outputs_hidden": false
    }
   },
   "outputs": [],
   "source": [
    "full_name = 'Billiam' + ' ' + 'Wender' # OK\n",
    "print(full_name)"
   ]
  },
  {
   "cell_type": "markdown",
   "metadata": {},
   "source": [
    "But addition doesn't work when the types are different!"
   ]
  },
  {
   "cell_type": "code",
   "execution_count": null,
   "metadata": {
    "collapsed": false,
    "jupyter": {
     "outputs_hidden": false
    }
   },
   "outputs": [],
   "source": [
    "bad = '2' + 2 # ERROR, '2' is a string while 2 is an integer"
   ]
  },
  {
   "cell_type": "markdown",
   "metadata": {},
   "source": [
    "We can get **input** using `input()`:"
   ]
  },
  {
   "cell_type": "code",
   "execution_count": null,
   "metadata": {
    "cocalc": {
     "outputs": {
      "1": {
       "name": "input",
       "opts": {
        "password": false,
        "prompt": ""
       },
       "output_type": "stream",
       "value": "5"
      }
     }
    },
    "collapsed": false,
    "jupyter": {
     "outputs_hidden": false
    }
   },
   "outputs": [],
   "source": [
    "print('What\\'s your grade?'')\n",
    "your_grade = input() # saves input to the variable your_grade\n",
    "# Now your_grade contains whatever the user typed in\n",
    "\n",
    "# Mash together 'Your grade is ' and the variable your_grade\n",
    "print('Your grade is ' + your_grade)"
   ]
  },
  {
   "cell_type": "markdown",
   "metadata": {},
   "source": [
    "`input()` always gives us a string, so `your_grade` is a string.\n",
    "\n",
    "We have to **convert** `your_grade` to an integer before we can add `1`.\n",
    "\n",
    "Then, we need to convert it back into a string to concatenate it with `'Next year you will be in grade '`."
   ]
  },
  {
   "cell_type": "code",
   "execution_count": null,
   "metadata": {
    "collapsed": false,
    "jupyter": {
     "outputs_hidden": false
    }
   },
   "outputs": [],
   "source": [
    "print('Next year you will be in grade ' + str(int(your_grade) + 1))"
   ]
  },
  {
   "cell_type": "markdown",
   "metadata": {},
   "source": [
    "### Activity 16: Fix the Code!\n",
    "\n",
    "One of your group members wrote the code below, but it doesn't work for some reason. Can you find out why?\n",
    "\n",
    "Can you make the code mash together all the variables and print one long string? (answer should be `-619717-25`)\n",
    "\n",
    "Can you make the code actually add the variables together and print the result? (answer should be `28`)"
   ]
  },
  {
   "cell_type": "code",
   "execution_count": null,
   "metadata": {
    "collapsed": false,
    "jupyter": {
     "outputs_hidden": false
    }
   },
   "outputs": [],
   "source": [
    "# Activity 16 code here\n",
    "var1 = -61\n",
    "var2 = '97'\n",
    "var3 = 17\n",
    "var4 = '-25'\n",
    "print(var1 + var2 + var3 + var4)\n"
   ]
  },
  {
   "cell_type": "markdown",
   "metadata": {},
   "source": [
    "### Activity 17: Conversational\n",
    "\n",
    "Have a nice conversation using `input()` and `print( )`!\n",
    "\n",
    "For instance:\n",
    "- Ask for Name\n",
    "- Respond, then ask for favorite subject\n",
    "- Respond, ask for something else\n",
    "- And so on..."
   ]
  },
  {
   "cell_type": "code",
   "execution_count": null,
   "metadata": {
    "collapsed": false,
    "jupyter": {
     "outputs_hidden": false
    }
   },
   "outputs": [],
   "source": [
    "# Activity 17 code here\n",
    "print('What\\'s your name?')\n",
    "response1 = input()\n",
    "print('Hi ' + response1 + ', my name is Python')\n",
    "print('What\\'s your favorite subject?')\n",
    "response2 = input()\n"
   ]
  },
  {
   "cell_type": "markdown",
   "metadata": {},
   "source": [
    "### Activity 18: Attack of the Pythons II\n",
    "\n",
    "Since it seems like Pythons can do math a lot better than you, you have designed a new password system involving strings. However, you locked yourself outside the bunker, but you remember that your new password is the sum of the month and the day of your birthday, concatenated (mashed together) with your middle name. Ask the user for the month of their birthday, then the day of their birthday, and then their middle name. Print out what the password would be under the new system!"
   ]
  },
  {
   "cell_type": "code",
   "execution_count": null,
   "metadata": {
    "collapsed": false,
    "jupyter": {
     "outputs_hidden": false
    }
   },
   "outputs": [],
   "source": [
    "# Activity 18 code here\n"
   ]
  },
  {
   "cell_type": "markdown",
   "metadata": {},
   "source": [
    "### Challenge 1: Cowsay\n",
    "\n",
    "Want to go the extra mile? Try this challenge:\n",
    "\n",
    "Read in a string from the user, in this case `'Hello world!'`, and print out a cow saying it like this:\n",
    "\n",
    "```\n",
    "Hello world!\n",
    "     \\   ^__^\n",
    "      \\  (oo)\\_______\n",
    "         (__)\\       )\\/\\\n",
    "             ||----w |\n",
    "             ||     ||\n",
    "```"
   ]
  },
  {
   "cell_type": "code",
   "execution_count": null,
   "metadata": {
    "collapsed": false,
    "jupyter": {
     "outputs_hidden": false
    }
   },
   "outputs": [],
   "source": [
    "# Challenge 1 code here\n"
   ]
  },
  {
   "cell_type": "markdown",
   "metadata": {},
   "source": [
    "### Challenge 2: Mad Libs\n",
    "\n",
    "Want to go the extra two miles? Try this challenge:\n",
    "\n",
    "Try making a mad-libs activity! First think of a topic, then ask the user to fill in the blanks in the sentences. Then, print out the completed paragraph. If you're having trouble, you can check previous examples or ask for help!"
   ]
  },
  {
   "cell_type": "code",
   "execution_count": null,
   "metadata": {
    "collapsed": false,
    "jupyter": {
     "outputs_hidden": false
    }
   },
   "outputs": [],
   "source": [
    "# Challenge 2 code here\n"
   ]
  }
 ],
 "metadata": {
  "kernelspec": {
   "display_name": "Python 3 (ipykernel)",
   "language": "python",
   "name": "python3"
  },
  "language_info": {
   "codemirror_mode": {
    "name": "ipython",
    "version": 3
   },
   "file_extension": ".py",
   "mimetype": "text/x-python",
   "name": "python",
   "nbconvert_exporter": "python",
   "pygments_lexer": "ipython3",
   "version": "3.10.4"
  }
 },
 "nbformat": 4,
 "nbformat_minor": 4
}
