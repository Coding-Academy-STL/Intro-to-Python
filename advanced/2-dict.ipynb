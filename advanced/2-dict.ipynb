{
 "cells": [
  {
   "cell_type": "markdown",
   "metadata": {
    "collapsed": false
   },
   "source": [
    "```\n",
    "INTRO TO\n",
    "    ______  __________  ______  _   __\n",
    "   / __ \\ \\/ /_  __/ / / / __ \\/ | / /\n",
    "  / /_/ /\\  / / / / /_/ / / / /  |/ /\n",
    " / ____/ / / / / / __  / /_/ / /|  /\n",
    "/_/     /_/ /_/ /_/ /_/\\____/_/ |_/\n",
    "```"
   ]
  },
  {
   "cell_type": "markdown",
   "metadata": {
    "collapsed": false
   },
   "source": [
    "## A.2 Sets\n",
    "\n",
    "1. Lists of unique elements\n",
    "2. Cannot contain other lists or sets\n",
    "3. Unordered\n",
    "4. Sets are defined by curly brackets {}\n"
   ]
  },
  {
   "cell_type": "code",
   "execution_count": 4,
   "metadata": {
    "collapsed": false
   },
   "outputs": [
    {
     "name": "stdout",
     "output_type": "stream",
     "text": [
      "{'abc', 123} <class 'set'> 2\n"
     ]
    }
   ],
   "source": [
    "my_set = {123, 'abc', 123, 120 + 3}\n",
    "\n",
    "print(my_set, type(my_set), len(my_set))"
   ]
  },
  {
   "cell_type": "code",
   "execution_count": 3,
   "metadata": {
    "collapsed": false
   },
   "outputs": [
    {
     "name": "stdout",
     "output_type": "stream",
     "text": [
      "{1, 3, 5}\n"
     ]
    }
   ],
   "source": [
    "my_list = [5,1,3,3,5,5,5]\n",
    "unique_items = set(my_list) # casting list to set\n",
    "print(unique_items)"
   ]
  },
  {
   "cell_type": "code",
   "execution_count": 9,
   "metadata": {
    "collapsed": false
   },
   "outputs": [
    {
     "name": "stdout",
     "output_type": "stream",
     "text": [
      "{'l', 'w', 'd', ' ', 'e', 'r', 'h', 'o'}\n"
     ]
    }
   ],
   "source": [
    "my_str = 'hello world'\n",
    "unique_chars = set(my_str) # casting string to set\n",
    "print(unique_chars)"
   ]
  },
  {
   "cell_type": "markdown",
   "metadata": {
    "collapsed": false
   },
   "source": [
    "### Activity 7: Messy Shopping Lists\n",
    "\n",
    "Billiam got distracted and made too many shopping lists! Some lists even have duplicate items!\n",
    "\n",
    "First, remove duplicate items from each list and output the new lists. \n",
    "Then, combine the shopping lists into a single list, without duplicate items. \n",
    " \n",
    "*Hint: https://realpython.com/python-sets/*"
   ]
  },
  {
   "cell_type": "code",
   "execution_count": 14,
   "metadata": {
    "collapsed": false
   },
   "outputs": [
    {
     "name": "stdout",
     "output_type": "stream",
     "text": [
      "{'newspaper', 'money', 'bread', 'chocolate', 'pen', 'soda', 'rubber duck', 'fork', 'cup', 'toothbrush', 'spoon', 'mousepad'}\n"
     ]
    }
   ],
   "source": [
    "shopping_list1 = ['chocolate', 'soda', 'mousepad', 'newspaper', 'money', 'toothbrush', 'pen']\n",
    "shopping_list2 = ['newspaper', 'rubber duck', 'bread', 'pen', 'cup', 'bread']\n",
    "shopping_list3 = ['spoon', 'spoon', 'fork', 'spoon', 'spoon']\n",
    "\n",
    "# Activity 7 code here\n"
   ]
  },
  {
   "cell_type": "markdown",
   "metadata": {
    "collapsed": false
   },
   "source": [
    "## Dictionaries\n",
    "\n",
    "1. List of key-value pairs\n",
    "2. Keys are typically strings\n",
    "3. Keys must be unique\n",
    "4. Ordered\n",
    "5. Dictionaries are defined by curly brackets {}"
   ]
  },
  {
   "cell_type": "code",
   "execution_count": 14,
   "metadata": {
    "collapsed": false
   },
   "outputs": [
    {
     "name": "stdout",
     "output_type": "stream",
     "text": [
      "{'name': 'Bob', 'year': 2000, 5: 55, '5': '555'} <class 'dict'> 4\n"
     ]
    }
   ],
   "source": [
    "# Example dictionary:\n",
    "\n",
    "my_dict = {\n",
    "    'name': 'Bob',\n",
    "    'year': 2000,\n",
    "    5: 55,\n",
    "    '5':'555'\n",
    "}\n",
    "\n",
    "print(my_dict, type(my_dict), len(my_dict))"
   ]
  },
  {
   "cell_type": "code",
   "execution_count": 5,
   "metadata": {
    "collapsed": false
   },
   "outputs": [
    {
     "name": "stdout",
     "output_type": "stream",
     "text": [
      "Hello Bob\n"
     ]
    }
   ],
   "source": [
    "# To get the value from a key in the dictionary, use: dict[key]\n",
    "\n",
    "print('Hello', my_dict['name'])"
   ]
  },
  {
   "cell_type": "code",
   "execution_count": 14,
   "metadata": {
    "collapsed": false
   },
   "outputs": [
    {
     "name": "stdout",
     "output_type": "stream",
     "text": [
      "{'name': 'Bob', 'new_key': 123, 'year': 2020}\n"
     ]
    }
   ],
   "source": [
    "# Add or modify values by key using: dict[key]\n",
    "\n",
    "my_dict['new_key'] = 123\n",
    "my_dict['year'] = 2020\n",
    "\n",
    "print(my_dict)"
   ]
  },
  {
   "cell_type": "code",
   "execution_count": 15,
   "metadata": {
    "collapsed": false
   },
   "outputs": [
    {
     "name": "stdout",
     "output_type": "stream",
     "text": [
      "{'name': 'Bob', 'new_key': 123}\n"
     ]
    }
   ],
   "source": [
    "# Delete key-value pairs with: del dict[key]\n",
    "\n",
    "del my_dict['name']\n",
    "\n",
    "print(my_dict)"
   ]
  },
  {
   "cell_type": "markdown",
   "metadata": {
    "collapsed": false
   },
   "source": [
    "### Activity 8: Gary\n",
    "\n",
    "Gary has collected lists of personal information from his classmates. \n",
    "\n",
    "Help Gary combine his lists into a single list of dictionaries. "
   ]
  },
  {
   "cell_type": "code",
   "execution_count": 18,
   "metadata": {
    "collapsed": false
   },
   "outputs": [
    {
     "data": {
      "text/plain": [
       "\"\\nExpected Output: [\\n    {'name': 'Billiam', 'color': 'purple', 'age': 10},\\n    {'name': 'Janna', 'color': 'green', 'age': 20},\\n    {'name': 'Gabriel', 'color': 'red', 'age': 19},\\n    {'name': 'Shelby', 'color': 'purple', 'age': 20},\\n    {'name': 'Raymond', 'color': 'pink', 'age': 13},\\n    {'name': 'Dan', 'color': 'purple', 'age': 12},\\n    {'name': 'Carlos', 'color': 'pink', 'age': 17}\\n]\\n\""
      ]
     },
     "execution_count": 18,
     "metadata": {
     },
     "output_type": "execute_result"
    }
   ],
   "source": [
    "names = ['Billiam', 'Janna', 'Gabriel', 'Shelby',  'Raymond', 'Dan', 'Carlos']\n",
    "colors = ['purple', 'green', 'red', 'purple', 'pink', 'purple', 'pink']\n",
    "ages = [10, 20, 19, 20, 13, 12, 17]\n",
    "\n",
    "# Activity 8 code here\n",
    "\n",
    "\n",
    "'''\n",
    "Expected Output: [\n",
    "    {'name': 'Billiam', 'color': 'purple', 'age': 10},\n",
    "    {'name': 'Janna', 'color': 'green', 'age': 20},\n",
    "    {'name': 'Gabriel', 'color': 'red', 'age': 19},\n",
    "    {'name': 'Shelby', 'color': 'purple', 'age': 20},\n",
    "    {'name': 'Raymond', 'color': 'pink', 'age': 13},\n",
    "    {'name': 'Dan', 'color': 'purple', 'age': 12},\n",
    "    {'name': 'Carlos', 'color': 'pink', 'age': 17}\n",
    "]\n",
    "'''"
   ]
  }
 ],
 "metadata": {
  "kernelspec": {
   "display_name": "Python 3 (Ubuntu Linux)",
   "language": "python",
   "name": "python3-ubuntu",
   "resource_dir": "/usr/local/share/jupyter/kernels/python3-ubuntu"
  },
  "language_info": {
   "codemirror_mode": {
    "name": "ipython",
    "version": 3
   },
   "file_extension": ".py",
   "mimetype": "text/x-python",
   "name": "python",
   "nbconvert_exporter": "python",
   "pygments_lexer": "ipython3",
   "version": "3.8.10"
  }
 },
 "nbformat": 4,
 "nbformat_minor": 4
}