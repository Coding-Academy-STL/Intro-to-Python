{
 "cells": [
  {
   "cell_type": "markdown",
   "metadata": {
    "collapsed": false
   },
   "source": [
    "```\n",
    "INTRO TO\n",
    "    ______  __________  ______  _   __\n",
    "   / __ \\ \\/ /_  __/ / / / __ \\/ | / /\n",
    "  / /_/ /\\  / / / / /_/ / / / /  |/ / \n",
    " / ____/ / / / / / __  / /_/ / /|  /  \n",
    "/_/     /_/ /_/ /_/ /_/\\____/_/ |_/   \n",
    "```"
   ]
  },
  {
   "cell_type": "markdown",
   "metadata": {
    "collapsed": false
   },
   "source": [
    "## Using Libraries\n",
    "\n",
    "Welcome to the first advanced lesson!"
   ]
  },
  {
   "cell_type": "markdown",
   "metadata": {
    "collapsed": false
   },
   "source": [
    "Python is a great language!\n",
    "But it doesn't have everything.\n",
    "We can use **libraries** to extend what Python can do.\n",
    "Libraries contain code that other people have written.\n",
    "You can **import** them and build on top of other people's code!"
   ]
  },
  {
   "cell_type": "markdown",
   "metadata": {
    "collapsed": false
   },
   "source": [
    "Let's look at a simple example.\n",
    "Say we want to output colorful text.\n",
    "First import a library."
   ]
  },
  {
   "cell_type": "code",
   "execution_count": 1,
   "metadata": {
    "collapsed": false
   },
   "outputs": [
   ],
   "source": [
    "import termcolor\n",
    "# Now we can use its functions!\n",
    "termcolor.cprint('Hello, World!', 'green', 'on_red')"
   ]
  },
  {
   "cell_type": "markdown",
   "metadata": {
    "collapsed": false
   },
   "source": [
    "The library `termcolor` contains the function `cprint`.\n",
    "This function is similar to print but allows you to pass in two more arguments.\n",
    "One controls the text color.\n",
    "The other controls the background color."
   ]
  },
  {
   "cell_type": "markdown",
   "metadata": {
    "collapsed": false
   },
   "source": [
    "You can find this library at https://pypi.org/project/termcolor.\n",
    "PyPI is the Python Package Index.\n",
    "It contains thousands of libraries packaged for you to use!\n",
    "It also has some useful information on how to use each library."
   ]
  },
  {
   "cell_type": "markdown",
   "metadata": {
    "collapsed": false
   },
   "source": [
    "Now let's work on Activities 1 and 2!"
   ]
  },
  {
   "cell_type": "markdown",
   "metadata": {
    "collapsed": false
   },
   "source": [
    "### Activity 1: Red on Green\n",
    "\n",
    "Print out one of your hobbies, but with red colored text on a green background!\n",
    "\n",
    "Look at the example in 1-lib if you're not sure how to do this!"
   ]
  },
  {
   "cell_type": "code",
   "execution_count": 0,
   "metadata": {
    "collapsed": false
   },
   "outputs": [
   ],
   "source": [
   ]
  },
  {
   "cell_type": "markdown",
   "metadata": {
    "collapsed": false
   },
   "source": [
    "### Activity 2: Can You Read?\n",
    "\n",
    "Can you print something with **bold** text? Bobert can. What about you?\n",
    "\n",
    "Check out https://pypi.org/project/termcolor if you aren't sure!"
   ]
  },
  {
   "cell_type": "code",
   "execution_count": 0,
   "metadata": {
    "collapsed": false
   },
   "outputs": [
   ],
   "source": [
   ]
  },
  {
   "cell_type": "markdown",
   "metadata": {
    "collapsed": false
   },
   "source": [
    "`termcolor` was made by some random person\n",
    "and published to the PyPI.\n",
    "However, our next example, `random`, is made by the same people behind Python.\n",
    "`random` is part of the Python **standard library**.\n",
    "You can find its information at https://docs.python.org/3/library/random.html."
   ]
  },
  {
   "cell_type": "markdown",
   "metadata": {
    "collapsed": false
   },
   "source": [
    "We start off as usual."
   ]
  },
  {
   "cell_type": "code",
   "execution_count": 2,
   "metadata": {
    "collapsed": false
   },
   "outputs": [
   ],
   "source": [
    "import random\n",
    "\n",
    "print(random.randint(1, 6)) # Roll a dice"
   ]
  },
  {
   "cell_type": "markdown",
   "metadata": {
    "collapsed": false
   },
   "source": [
    "Let's look at Activities 3 and 4!"
   ]
  },
  {
   "cell_type": "markdown",
   "metadata": {
    "collapsed": false
   },
   "source": [
    "### Activity 3: Flip a Coin\n",
    "\n",
    "Billiam is writing a function that flips a coin. However, he doesn't know how to make it random. Help him!"
   ]
  },
  {
   "cell_type": "code",
   "execution_count": 0,
   "metadata": {
    "collapsed": false
   },
   "outputs": [
   ],
   "source": [
   ]
  },
  {
   "cell_type": "markdown",
   "metadata": {
    "collapsed": false
   },
   "source": [
    "### Activity 4: Random Color\n",
    "\n",
    "Bobert loves some randomness in his life. Print out \"Hello world!\" with blue, green, or red text, each with 1/3 probability!"
   ]
  },
  {
   "cell_type": "code",
   "execution_count": 0,
   "metadata": {
    "collapsed": false
   },
   "outputs": [
   ],
   "source": [
   ]
  },
  {
   "cell_type": "markdown",
   "metadata": {
    "collapsed": false
   },
   "source": [
    "All of the standard libraries are at https://docs.python.org/3/library/.\n",
    "You can find all other libraries at https://pypi.org/."
   ]
  },
  {
   "cell_type": "markdown",
   "metadata": {
    "collapsed": false
   },
   "source": [
    "Let's do Activities 5 and 6 now!"
   ]
  },
  {
   "cell_type": "markdown",
   "metadata": {
    "collapsed": false
   },
   "source": [
    "### Activity 5: Which Library?\n",
    "\n",
    "Bobert is writing a new spam bot in Python. He doesn't want to write tons of code, so he is looking for a library to help him with email. He also wants one in the Python Standard Library instead of one made by some rando in PyPI. Can you find what he is looking for?"
   ]
  },
  {
   "cell_type": "code",
   "execution_count": 0,
   "metadata": {
    "collapsed": false
   },
   "outputs": [
   ],
   "source": [
   ]
  },
  {
   "cell_type": "markdown",
   "metadata": {
    "collapsed": false
   },
   "source": [
    "### Activity 6: I Love Libraries\n",
    "\n",
    "What's the weirdest library you can find on PyPI? Be creative!"
   ]
  },
  {
   "cell_type": "code",
   "execution_count": 0,
   "metadata": {
    "collapsed": false
   },
   "outputs": [
   ],
   "source": [
   ]
  }
 ],
 "metadata": {
  "kernelspec": {
   "display_name": "Python 3 (Ubuntu Linux)",
   "language": "python",
   "name": "python3-ubuntu",
   "resource_dir": "/usr/local/share/jupyter/kernels/python3-ubuntu"
  },
  "language_info": {
   "codemirror_mode": {
    "name": "ipython",
    "version": 3
   },
   "file_extension": ".py",
   "mimetype": "text/x-python",
   "name": "python",
   "nbconvert_exporter": "python",
   "pygments_lexer": "ipython3",
   "version": "3.8.10"
  }
 },
 "nbformat": 4,
 "nbformat_minor": 4
}