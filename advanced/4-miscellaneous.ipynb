{
 "cells": [
  {
   "cell_type": "markdown",
   "metadata": {
    "collapsed": false
   },
   "source": [
    "```\n",
    "INTRO TO\n",
    "    ______  __________  ______  _   __\n",
    "   / __ \\ \\/ /_  __/ / / / __ \\/ | / /\n",
    "  / /_/ /\\  / / / / /_/ / / / /  |/ /\n",
    " / ____/ / / / / / __  / /_/ / /|  /\n",
    "/_/     /_/ /_/ /_/ /_/\\____/_/ |_/\n",
    "```"
   ]
  },
  {
   "cell_type": "code",
   "execution_count": 0,
   "metadata": {
    "collapsed": false
   },
   "outputs": [
   ],
   "source": [
    "\n",
    "# Make sure you use activites 15-18\n",
    "# itertools combinations/permutations, base conversion\n",
    "# https://codingbat.com/python\n",
    "\n",
    "from itertools import product\n",
    "\n",
    "print(list(product('ab',range(3))))\n",
    "\n",
    "print(int(\"3A\", 16))"
   ]
  },
  {
   "cell_type": "markdown",
   "metadata": {
    "collapsed": false
   },
   "source": [
    "### Practice\n",
    "\n",
    "Practice finding the answers online\n",
    "\n",
    "1. sort a list (search: 'python sort list')\n",
    "2. get all unique elements of a list (search: 'python get unique elements of list')\n",
    "3. convert base 16 string to base 10 (search: 'python convert base 16 to base 10')\n",
    "4. convert string of numbers to list of integers (search: 'python string of integers to list of integers')"
   ]
  },
  {
   "cell_type": "code",
   "execution_count": 0,
   "metadata": {
    "collapsed": false
   },
   "outputs": [
   ],
   "source": [
    "list1 = [4, -4, 3, 3, 6, 3, 6]\n",
    "\n",
    "\n",
    "\n",
    "# Expected output 1: [-4, 3, 3, 3, 4, 6, 6]\n",
    "\n",
    "# Expected output 2: {3, 4, -4, 6}\n",
    "\n",
    "\n",
    "\n",
    "# Expected output 3: 145984783\n",
    "base16 = \"8B38D0F\"\n",
    "\n",
    "# Expected output 4: [58, 2, -31, 0, 2]\n",
    "str1 = \"58 2 -31 0 2\"\n"
   ]
  },
  {
   "cell_type": "markdown",
   "metadata": {
    "collapsed": false
   },
   "source": [
    "### Challenge 1: 2048\n",
    "\n",
    "Here's the link to the 2048 game made by the Ladue High School Computer Science Club: https://repl.it/join/evutnqny-ta180m\n",
    "\n",
    "The code is located in the file main.py. Play around with it and see if you can understand it! Try changing the rows and columns variables!\n",
    "\n",
    "Bonus: Help us with some of the things on the TODO list!"
   ]
  },
  {
   "cell_type": "markdown",
   "metadata": {
    "collapsed": false
   },
   "source": [
    "### Challenge 2: Attack of the Pythons X\n",
    "\n",
    "If you are reading this, you're probably a Python grandmaster by now. You've flown through all the basics, and the advanced stuff too! Umm need to think of a good challenge...\n",
    "\n",
    "Here's a challenge.\n",
    "\n",
    "A very hard one.\n",
    "\n",
    "Get ready...\n",
    "\n",
    "You've managed to break into the Pythons' Ultimate HQ. You navigate the twisting corridors of the HQ, and finally reach the throne room of Aiden, King of the Pythons: the evil lord responsible for the ongoing attack of the Pythons on your society. You prepare to face off with King Aiden in a duel.\n",
    "\n",
    "King Aiden starts throwing pieces of Python code at you! You job is to write a program to read in each new line and run it as if it was a Python program. Good luck! A solution is definitely somewhere on the internet..."
   ]
  },
  {
   "cell_type": "code",
   "execution_count": 0,
   "metadata": {
    "collapsed": false
   },
   "outputs": [
   ],
   "source": [
    "# Challenge 2 code here\n"
   ]
  }
 ],
 "metadata": {
  "kernelspec": {
   "display_name": "Python 3 (Ubuntu Linux)",
   "language": "python",
   "name": "python3-ubuntu",
   "resource_dir": "/usr/local/share/jupyter/kernels/python3-ubuntu"
  },
  "language_info": {
   "codemirror_mode": {
    "name": "ipython",
    "version": 3
   },
   "file_extension": ".py",
   "mimetype": "text/x-python",
   "name": "python",
   "nbconvert_exporter": "python",
   "pygments_lexer": "ipython3",
   "version": "3.8.10"
  }
 },
 "nbformat": 4,
 "nbformat_minor": 4
}