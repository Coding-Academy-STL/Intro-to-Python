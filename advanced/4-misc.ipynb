{
 "cells": [
  {
   "cell_type": "markdown",
   "metadata": {
    "collapsed": false
   },
   "source": [
    "```\n",
    "INTRO TO\n",
    "    ______  __________  ______  _   __\n",
    "   / __ \\ \\/ /_  __/ / / / __ \\/ | / /\n",
    "  / /_/ /\\  / / / / /_/ / / / /  |/ /\n",
    " / ____/ / / / / / __  / /_/ / /|  /\n",
    "/_/     /_/ /_/ /_/ /_/\\____/_/ |_/\n",
    "```"
   ]
  },
  {
   "cell_type": "code",
   "execution_count": 0,
   "metadata": {
    "collapsed": false
   },
   "outputs": [
   ],
   "source": [
    "\n",
    "# Make sure you use activites 15-18\n",
    "# itertools combinations/permutations, base conversion\n",
    "# https://codingbat.com/python\n",
    "\n",
    "from itertools import product\n",
    "\n",
    "print(list(product('ab',range(3))))\n",
    "\n",
    "print(int(\"3A\", 16))\n",
    "\n",
    "# file I/O\n",
    "\n",
    "\n",
    "\n",
    "# Some bonus data types (https://www.w3schools.com/python/python_datatypes.asp):\n",
    "complex1 = 1j\n",
    "list1 = [\"apple\", \"banana\", \"cherry\"]\n",
    "tuple1 = (\"apple\", \"banana\", \"cherry\")\n",
    "set1 = {\"apple\", \"banana\", \"cherry\"}\n",
    "range1 = range(6)\n",
    "dict1 = {\"name\" : \"John\", \"age\" : 36}\n",
    "bytes1 = b\"Hello\"\n",
    "bytearray1 = bytearray(5)\n",
    "\n",
    "\n",
    "print(type(complex1))\n",
    "print(type(list1))\n",
    "print(type(set1))\n",
    "print(type(range1))\n",
    "print(type(dict1))\n",
    "print(type(bytes1))\n",
    "print(type(bytearray1))\n",
    "\n",
    "print(type(type(123)))\n",
    "print(type(print))\n",
    "print(type(None))"
   ]
  },
  {
   "cell_type": "markdown",
   "metadata": {
    "collapsed": false
   },
   "source": [
    "Practice\n",
    "---\n",
    "Practice finding the answers online\n",
    "\n",
    "1. sort a list (search: 'python sort list')\n",
    "2. get all unique elements of a list (search: 'python get unique elements of list')\n",
    "3. convert base 16 string to base 10 (search: 'python convert base 16 to base 10')\n",
    "4. convert string of numbers to list of integers (search: 'python string of integers to list of integers')"
   ]
  },
  {
   "cell_type": "code",
   "execution_count": 0,
   "metadata": {
    "collapsed": false
   },
   "outputs": [
   ],
   "source": [
    "list1 = [4, -4, 3, 3, 6, 3, 6]\n",
    "\n",
    "# Expected output 1: [-4, 3, 3, 3, 4, 6, 6]\n",
    "\n",
    "# Expected output 2: {3, 4, -4, 6}\n",
    "\n",
    "# Expected output 3: 145984783\n",
    "base16 = \"8B38D0F\"\n",
    "\n",
    "\n",
    "# Expected output 4: [58, 2, -31, 0, 2]\n",
    "str1 = \"58 2 -31 0 2\"\n"
   ]
  }
 ],
 "metadata": {
  "kernelspec": {
   "display_name": "Python 3 (Ubuntu Linux)",
   "language": "python",
   "name": "python3-ubuntu",
   "resource_dir": "/usr/local/share/jupyter/kernels/python3-ubuntu"
  }
 },
 "nbformat": 4,
 "nbformat_minor": 4
}