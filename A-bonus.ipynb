{
 "cells": [
  {
   "cell_type": "markdown",
   "metadata": {},
   "source": [
    "```\n",
    "INTRO TO\n",
    "    ______  __________  ______  _   __\n",
    "   / __ \\ \\/ /_  __/ / / / __ \\/ | / /\n",
    "  / /_/ /\\  / / / / /_/ / / / /  |/ /\n",
    " / ____/ / / / / / __  / /_/ / /|  /\n",
    "/_/     /_/ /_/ /_/ /_/\\____/_/ |_/\n",
    "```"
   ]
  },
  {
   "cell_type": "markdown",
   "metadata": {},
   "source": [
    "# A Bonus\n",
    "\n",
    "Welcome to the totally-not-scary bonus lesson! Here, you'll ~~meet your doom~~ find some other useful Python tips and tricks.\n",
    "\n",
    "First, we'll learn some convenient shorthands for things like printing multiple things or defining multiple variables, because no one likes typing more than they need to."
   ]
  },
  {
   "cell_type": "markdown",
   "metadata": {},
   "source": [
    "Print multiple things in one line using commas! This separates each thing by a space."
   ]
  },
  {
   "cell_type": "code",
   "execution_count": null,
   "metadata": {},
   "outputs": [],
   "source": [
    "print('Hello', 123, '🐍🐍🐍', 9+10)"
   ]
  },
  {
   "cell_type": "markdown",
   "metadata": {},
   "source": [
    "We can also define multiple variables in one line using commas!"
   ]
  },
  {
   "cell_type": "code",
   "execution_count": null,
   "metadata": {},
   "outputs": [],
   "source": [
    "name, age, grade = 'Billiam', 13, 7\n",
    "print(name)\n",
    "print(age)\n",
    "print(grade)"
   ]
  },
  {
   "cell_type": "markdown",
   "metadata": {},
   "source": [
    "## Activity 1: Doxxing\n",
    "\n",
    "Billiam wants to know your name, age, and grade. Define three variables on one line, and then print them all out in one line with commas!"
   ]
  },
  {
   "cell_type": "code",
   "execution_count": null,
   "metadata": {},
   "outputs": [],
   "source": [
    "# Activity 1 code here\n"
   ]
  },
  {
   "cell_type": "markdown",
   "metadata": {},
   "source": [
    "To ask the user something when getting input, we usually use a separate `print( )` statement. However, we can also do it like this:"
   ]
  },
  {
   "cell_type": "code",
   "execution_count": null,
   "metadata": {},
   "outputs": [],
   "source": [
    "age = input('What\\'s your age?')\n",
    "print('Your age is', age)"
   ]
  },
  {
   "cell_type": "markdown",
   "metadata": {},
   "source": [
    "## Activity 2: Enhanced interrogation\n",
    "\n",
    "Billiam is trying to interrogate Bobert. He wants to ask Bobert for his age, his favorite band, his Social Security number, and his biggest fear. The catch? This program can only take up two lines and use four `input( )` statements and one `print( )`!"
   ]
  },
  {
   "cell_type": "code",
   "execution_count": null,
   "metadata": {},
   "outputs": [],
   "source": [
    "# Activity 2 code here\n"
   ]
  },
  {
   "cell_type": "markdown",
   "metadata": {},
   "source": [
    "Alright, so you know how to do conditionals and booleans. Let's mix them up by creating boolean based on the value of a condition!"
   ]
  },
  {
   "cell_type": "code",
   "execution_count": null,
   "metadata": {},
   "outputs": [],
   "source": [
    "temperature = -40\n",
    "\n",
    "# Create boolean variable based on value of condition\n",
    "cold_outside = temperature < 32\n",
    "print(cold_outside)"
   ]
  },
  {
   "cell_type": "markdown",
   "metadata": {},
   "source": [
    "## Activity 3"
   ]
  },
  {
   "cell_type": "code",
   "execution_count": null,
   "metadata": {},
   "outputs": [],
   "source": [
    "# Activity 3 code here\n"
   ]
  },
  {
   "cell_type": "markdown",
   "metadata": {},
   "source": [
    "You might see people write `for` loops like this:"
   ]
  },
  {
   "cell_type": "code",
   "execution_count": null,
   "metadata": {},
   "outputs": [],
   "source": [
    "for i in range(10):\n",
    "    print(i)"
   ]
  },
  {
   "cell_type": "markdown",
   "metadata": {},
   "source": [
    "If our `range( )` only consists of one input, Python will use that as the ending number (which is always excluded) and set the starting number automatically to `0`. Therefore, the code above prints out the numbers from `0` to `9` inclusive."
   ]
  },
  {
   "cell_type": "markdown",
   "metadata": {},
   "source": [
    "If we want to get a list of the first `100` integers, you could write a `for` loop to do it. However, there's a faster way by converting a `range( )` to a list. Ranges are not lists though, but really their own special thing, which is why we have to do the conversion."
   ]
  },
  {
   "cell_type": "code",
   "execution_count": null,
   "metadata": {},
   "outputs": [],
   "source": [
    "first_100 = list(range(100))\n",
    "print(first_100)"
   ]
  },
  {
   "cell_type": "code",
   "execution_count": null,
   "metadata": {},
   "outputs": [],
   "source": []
  },
  {
   "cell_type": "markdown",
   "metadata": {},
   "source": [
    "# TODO\n",
    "\n",
    "- lists and ranges conversion\n",
    "- * operator for strings and lists\n",
    "- list comprehensions\n",
    "- global variables\n",
    "- lambdas\n",
    "- pip in the terminal\n",
    "- from imports\n",
    "- classes"
   ]
  },
  {
   "cell_type": "markdown",
   "metadata": {},
   "source": [
    "Here are some more tricks for lists:"
   ]
  },
  {
   "cell_type": "markdown",
   "metadata": {},
   "source": [
    "To get the last element of an array, use index -1"
   ]
  },
  {
   "cell_type": "code",
   "execution_count": null,
   "metadata": {},
   "outputs": [],
   "source": [
    "my_list = ['first', 'second', 'third', 'fourth', 'fifth', 'sixth', 'seventh']\n",
    "\n",
    "print(my_list[-1])"
   ]
  },
  {
   "cell_type": "markdown",
   "metadata": {},
   "source": [
    "To get the second to last element of an array, use index -2"
   ]
  },
  {
   "cell_type": "code",
   "execution_count": null,
   "metadata": {},
   "outputs": [],
   "source": [
    "print(my_list[-2])"
   ]
  },
  {
   "cell_type": "markdown",
   "metadata": {},
   "source": [
    "To get part of a list (subarray), use my_list[START_INDEX:END_INDEX]\n",
    "Use nothing "
   ]
  },
  {
   "cell_type": "code",
   "execution_count": null,
   "metadata": {},
   "outputs": [],
   "source": [
    "print(my_list[1:3]) # index 1 to 3\n",
    "print(my_list[2:]) # index 2 to end\n",
    "print(my_list[:-2]) # start to second to last element\n",
    "print(my_list[:]) # start to end"
   ]
  },
  {
   "cell_type": "markdown",
   "metadata": {},
   "source": [
    "To get the every nth element of an array, use my_list[START_INDEX:END_INDEX:n]"
   ]
  },
  {
   "cell_type": "code",
   "execution_count": null,
   "metadata": {},
   "outputs": [],
   "source": [
    "print(my_list[1:6:2])\n",
    "print(my_list[::3])"
   ]
  },
  {
   "cell_type": "markdown",
   "metadata": {
    "tags": []
   },
   "source": [
    "## Activity 5: The global spambot\n",
    "\n",
    "Rewrite this activity!\n",
    "\n",
    "Billiam and Bobert wrote the following programs. In their `add_to_count` functions, they want to modify the variable `count` which is outside the function. The two programs look similar, why does one program work while the other one doesn't?"
   ]
  },
  {
   "cell_type": "code",
   "execution_count": null,
   "metadata": {
    "tags": []
   },
   "outputs": [],
   "source": [
    "# Activity 5 code here\n",
    "\n",
    "# Billiam's code\n",
    "print('Hello, my name is Billiam!')\n",
    "count = 0\n",
    "\n",
    "def add_to_count():\n",
    "    global count\n",
    "    count = count + 1\n",
    "    print('Count is now ' + str(count))\n",
    "\n",
    "for i in range(5):\n",
    "    add_to_count()"
   ]
  },
  {
   "cell_type": "code",
   "execution_count": null,
   "metadata": {
    "tags": []
   },
   "outputs": [],
   "source": [
    "# Bobert's code\n",
    "print('Hello, my name is Bobert!')\n",
    "count = 0\n",
    "\n",
    "def add_to_count():\n",
    "    count = count + 1\n",
    "    print('Count is now ' + str(count))\n",
    "\n",
    "for i in range(5):\n",
    "    add_to_count()"
   ]
  },
  {
   "cell_type": "markdown",
   "metadata": {},
   "source": [
    "It's because only Billiam's code contains `global count`. Why is this important? Well, when one starts declaring and messing with variables inside a function, they become local variables. By declaring a variable as `global`, the program understands to change a variable outside the function. We aren't passing `count` into the function."
   ]
  },
  {
   "cell_type": "markdown",
   "metadata": {},
   "source": [
    "One useful variant of the list is the **set**:\n",
    "\n",
    "1. List of unique elements\n",
    "2. Cannot contain other lists or sets\n",
    "3. Unordered\n",
    "4. Sets are defined by curly brackets {}"
   ]
  },
  {
   "cell_type": "code",
   "execution_count": null,
   "metadata": {
    "collapsed": false,
    "jupyter": {
     "outputs_hidden": false
    }
   },
   "outputs": [],
   "source": [
    "my_set = {123, 'abc', 123, 120 + 3}\n",
    "\n",
    "print(my_set)"
   ]
  },
  {
   "cell_type": "code",
   "execution_count": null,
   "metadata": {
    "collapsed": false,
    "jupyter": {
     "outputs_hidden": false
    }
   },
   "outputs": [],
   "source": [
    "my_list = [5,1,3,3,5,5,5]\n",
    "print(my_list)\n",
    "unique_items = set(my_list) # casting list to set\n",
    "print(unique_items)"
   ]
  },
  {
   "cell_type": "code",
   "execution_count": null,
   "metadata": {
    "collapsed": false,
    "jupyter": {
     "outputs_hidden": false
    }
   },
   "outputs": [],
   "source": [
    "my_str = 'hello world'\n",
    "print(my_str)\n",
    "unique_chars = set(my_str) # casting string to set\n",
    "print(unique_chars)"
   ]
  },
  {
   "cell_type": "markdown",
   "metadata": {},
   "source": [
    "## Activity 2: Messy shopping lists\n",
    "\n",
    "Billiam got distracted and made too many shopping lists! Some lists even have duplicate items!\n",
    "\n",
    "First, remove duplicate items from each list and output the new lists. \n",
    "\n",
    "Then, combine the shopping lists into a single list, without duplicate items. "
   ]
  },
  {
   "cell_type": "code",
   "execution_count": null,
   "metadata": {
    "collapsed": false,
    "jupyter": {
     "outputs_hidden": false
    }
   },
   "outputs": [],
   "source": [
    "shopping_list1 = ['chocolate', 'soda', 'mousepad', 'newspaper', 'money', 'toothbrush', 'pen']\n",
    "shopping_list2 = ['newspaper', 'rubber duck', 'bread', 'pen', 'cup', 'bread']\n",
    "shopping_list3 = ['spoon', 'spoon', 'fork', 'spoon', 'spoon']\n",
    "\n",
    "# Activity 7 code here\n"
   ]
  },
  {
   "cell_type": "markdown",
   "metadata": {},
   "source": [
    "Another useful type is the **dictionary**:\n",
    "\n",
    "1. List of key-value pairs\n",
    "2. Keys are typically strings\n",
    "3. Keys must be unique\n",
    "4. Ordered\n",
    "5. Dictionaries are defined by curly brackets {}"
   ]
  },
  {
   "cell_type": "code",
   "execution_count": null,
   "metadata": {
    "collapsed": false,
    "jupyter": {
     "outputs_hidden": false
    }
   },
   "outputs": [],
   "source": [
    "# Example dictionary:\n",
    "\n",
    "my_dict = {\n",
    "    'name': 'Bobert',\n",
    "    'year': 2000,\n",
    "    5: 55,\n",
    "    '5':'555'\n",
    "}\n",
    "\n",
    "print(my_dict, type(my_dict), len(my_dict))"
   ]
  },
  {
   "cell_type": "code",
   "execution_count": null,
   "metadata": {
    "collapsed": false,
    "jupyter": {
     "outputs_hidden": false
    }
   },
   "outputs": [],
   "source": [
    "# To get the value from a key in the dictionary, use: dict[key]\n",
    "\n",
    "print('Hello', my_dict['name'])"
   ]
  },
  {
   "cell_type": "code",
   "execution_count": null,
   "metadata": {
    "collapsed": false,
    "jupyter": {
     "outputs_hidden": false
    }
   },
   "outputs": [],
   "source": [
    "# Add or modify values by key using: dict[key]\n",
    "\n",
    "my_dict['new_key'] = 123\n",
    "my_dict['year'] = 2020\n",
    "\n",
    "print(my_dict)"
   ]
  },
  {
   "cell_type": "code",
   "execution_count": null,
   "metadata": {
    "collapsed": false,
    "jupyter": {
     "outputs_hidden": false
    }
   },
   "outputs": [],
   "source": [
    "# Delete key-value pairs with: del dict[key]\n",
    "\n",
    "del my_dict['name']\n",
    "\n",
    "print(my_dict)"
   ]
  },
  {
   "cell_type": "markdown",
   "metadata": {},
   "source": [
    "## Activity 5: Doxxing 2.0\n",
    "\n",
    "Bobert has collected lists of personal information from his classmates. \n",
    "\n",
    "Help Bobert combine his lists into a single list of dictionaries. "
   ]
  },
  {
   "cell_type": "code",
   "execution_count": null,
   "metadata": {
    "collapsed": false,
    "jupyter": {
     "outputs_hidden": false
    }
   },
   "outputs": [],
   "source": [
    "names = ['Billiam', 'Janna', 'Gabriel', 'Shelby',  'Raymond', 'Dan', 'Carlos']\n",
    "colors = ['purple', 'green', 'red', 'purple', 'pink', 'purple', 'pink']\n",
    "ages = [10, 20, 19, 20, 13, 12, 17]\n",
    "\n",
    "# Activity 8 code here\n",
    "\n",
    "\n",
    "'''\n",
    "Expected Output: [\n",
    "    {'name': 'Billiam', 'color': 'purple', 'age': 10},\n",
    "    {'name': 'Janna', 'color': 'green', 'age': 20},\n",
    "    {'name': 'Gabriel', 'color': 'red', 'age': 19},\n",
    "    {'name': 'Shelby', 'color': 'purple', 'age': 20},\n",
    "    {'name': 'Raymond', 'color': 'pink', 'age': 13},\n",
    "    {'name': 'Dan', 'color': 'purple', 'age': 12},\n",
    "    {'name': 'Carlos', 'color': 'pink', 'age': 17}\n",
    "]\n",
    "'''"
   ]
  },
  {
   "cell_type": "code",
   "execution_count": null,
   "metadata": {
    "collapsed": false,
    "jupyter": {
     "outputs_hidden": false
    }
   },
   "outputs": [],
   "source": [
    "# Some bonus data types (https://www.w3schools.com/python/python_datatypes.asp):\n",
    "complex1 = 1j - 1.5\n",
    "tuple1 = (\"apple\", \"banana\", \"cherry\")\n",
    "set1 = {\"apple\", \"banana\", \"cherry\"}\n",
    "dict1 = {\"name\" : \"John\", \"age\" : 36}\n",
    "range1 = range(6)\n",
    "bytes1 = b\"Hello\"\n",
    "bytearray1 = bytearray(5)\n",
    "\n",
    "print(type(complex1))\n",
    "print(type(tuple1))\n",
    "print(type(set1))\n",
    "print(type(dict1))\n",
    "print(type(range1))\n",
    "print(type(bytes1))\n",
    "print(type(bytearray1))\n",
    "\n",
    "print(type(type(123))) # type\n",
    "print(type(print)) # builtin function\n",
    "print(type(None)) # NoneType\n",
    "\n",
    "\n",
    "func1 = lambda x:x+1\n",
    "def func2():\n",
    "    print('hello')\n",
    "\n",
    "print(type(func1)) # inline function\n",
    "print(type(func1(123))) # integer\n",
    "\n",
    "print(type(func2)) # function\n",
    "print(type(func2())) # NoneType"
   ]
  },
  {
   "cell_type": "markdown",
   "metadata": {
    "jupyter": {
     "outputs_hidden": false
    }
   },
   "source": [
    "Recusion is all about self-referential functions!"
   ]
  },
  {
   "cell_type": "code",
   "execution_count": null,
   "metadata": {},
   "outputs": [],
   "source": [
    "# A recursive function\n",
    "def my_func(n):\n",
    "    print('n:', n)\n",
    "    if n <= 0:  # Base condition\n",
    "        return 0\n",
    "    else:\n",
    "        return n + my_func(n - 1)\n",
    "\n",
    "\n",
    "print('triange:', my_func(6))"
   ]
  },
  {
   "cell_type": "code",
   "execution_count": null,
   "metadata": {},
   "outputs": [],
   "source": [
    "# example recursive function without end condition\n",
    "def my_func(n):\n",
    "    print('n:', n)\n",
    "    return n + my_func(n - 1)\n",
    "\n",
    "\n",
    "# what could go wrong?\n",
    "print('triange:', my_func(6))"
   ]
  },
  {
   "cell_type": "markdown",
   "metadata": {},
   "source": [
    "**Lambda functions** are inline functions."
   ]
  },
  {
   "cell_type": "code",
   "execution_count": null,
   "metadata": {},
   "outputs": [],
   "source": [
    "def func1(a, b):\n",
    "    return a + b\n",
    "\n",
    "func2 = lambda a, b: a + b\n",
    "\n",
    "print(func1, func2)\n",
    "print(func1(2, 3), func2(2, 3))\n",
    "\n",
    "print((lambda a,b: a+b)(2,3))"
   ]
  },
  {
   "cell_type": "code",
   "execution_count": null,
   "metadata": {},
   "outputs": [],
   "source": [
    "list1 = [10,481,28,2]\n",
    "\n",
    "def func3(x):\n",
    "    return 2*x\n",
    "\n",
    "func4 = lambda x:2*x\n",
    "\n",
    "print(list(map(func3,list1)))\n",
    "print(list(map(func4,list1)))\n",
    "print(list(map(lambda x:2*x,list1)))"
   ]
  },
  {
   "cell_type": "markdown",
   "metadata": {},
   "source": [
    "Spread Operator\n",
    "\n",
    "* for list\n",
    "\n",
    "** for dict\n",
    "\n",
    "deletes brackets []/{}: [1,2,3] => 1,2,3"
   ]
  },
  {
   "cell_type": "code",
   "execution_count": null,
   "metadata": {},
   "outputs": [],
   "source": [
    "list1 = [1,2,3]\n",
    "list2 = [4,5,*list1,6]\n",
    "\n",
    "print(list2)"
   ]
  },
  {
   "cell_type": "code",
   "execution_count": null,
   "metadata": {},
   "outputs": [],
   "source": [
    "dict1 = {'a':1,'b':2,'c':3}\n",
    "dict2 = {'d':4,'e':5,**dict1, 'f':6}\n",
    "\n",
    "print(dict2)"
   ]
  },
  {
   "cell_type": "code",
   "execution_count": null,
   "metadata": {},
   "outputs": [],
   "source": [
    "def func1(a, b, *c):\n",
    "    return a * b + sum(c)\n",
    "\n",
    "print(func1(2,3)) # 2 * 3\n",
    "print(func1(2,3,5,1,3,2,5)) # 2 * 3 + sum([5,1,3,2,5])"
   ]
  },
  {
   "cell_type": "code",
   "execution_count": null,
   "metadata": {},
   "outputs": [],
   "source": [
    "def func2(a, b, **c):\n",
    "    print(a,b,c)\n",
    "\n",
    "print(func2(4,2,c=31,d=32))"
   ]
  },
  {
   "cell_type": "code",
   "execution_count": null,
   "metadata": {},
   "outputs": [],
   "source": [
    "eval('print(123)') # string to code"
   ]
  },
  {
   "cell_type": "code",
   "execution_count": null,
   "metadata": {},
   "outputs": [],
   "source": [
    "\n",
    "# Make sure you use activites 15-18\n",
    "# itertools combinations/permutations, base conversion\n",
    "# https://codingbat.com/python\n",
    "\n",
    "from itertools import product\n",
    "\n",
    "print(list(product('ab',range(3))))\n",
    "\n",
    "print(int(\"3A\", 16))"
   ]
  },
  {
   "cell_type": "markdown",
   "metadata": {},
   "source": [
    "## Activity 9: 2048\n",
    "\n",
    "Here's the link to the 2048 game made by the Ladue High School Computer Science Club: https://repl.it/join/evutnqny-ta180m\n",
    "\n",
    "The code is located in the file main.py. Play around with it and see if you can understand it! Try changing the rows and columns variables!\n",
    "\n",
    "Bonus: Help us with some of the things on the TODO list!"
   ]
  },
  {
   "cell_type": "code",
   "execution_count": null,
   "metadata": {},
   "outputs": [],
   "source": [
    "# Activity 9 code here\n"
   ]
  },
  {
   "cell_type": "markdown",
   "metadata": {},
   "source": [
    "## Activity 10: Attack of the Pythons X\n",
    "\n",
    "If you are reading this, you're probably a Python grandmaster by now. You've flown through all the basics, and the advanced stuff too! Umm need to think of a good challenge...\n",
    "\n",
    "Here's a challenge.\n",
    "\n",
    "A very hard one.\n",
    "\n",
    "Get ready...\n",
    "\n",
    "You've managed to break into the Pythons' Ultimate HQ. You navigate the twisting corridors of the HQ, and finally reach the throne room of Guido, King of the Pythons: the evil lord responsible for the ongoing attack of the Pythons on your society. You prepare to face off with King Guido in a duel.\n",
    "\n",
    "King Guido starts throwing pieces of Python code at you! You job is to write a program to read in each new line and run it as if it was a Python program. Good luck! A solution is definitely somewhere on the internet..."
   ]
  },
  {
   "cell_type": "code",
   "execution_count": null,
   "metadata": {},
   "outputs": [],
   "source": [
    "# Activity 10 code here\n"
   ]
  }
 ],
 "metadata": {
  "kernelspec": {
   "display_name": "Python 3 (ipykernel)",
   "language": "python",
   "name": "python3"
  },
  "language_info": {
   "codemirror_mode": {
    "name": "ipython",
    "version": 3
   },
   "file_extension": ".py",
   "mimetype": "text/x-python",
   "name": "python",
   "nbconvert_exporter": "python",
   "pygments_lexer": "ipython3",
   "version": "3.10.4"
  }
 },
 "nbformat": 4,
 "nbformat_minor": 4
}
