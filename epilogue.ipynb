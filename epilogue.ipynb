{
 "cells": [
  {
   "cell_type": "markdown",
   "metadata": {
    "collapsed": false
   },
   "source": [
    "```\n",
    "INTRO TO\n",
    "    ______  __________  ______  _   __\n",
    "   / __ \\ \\/ /_  __/ / / / __ \\/ | / /\n",
    "  / /_/ /\\  / / / / /_/ / / / /  |/ / \n",
    " / ____/ / / / / / __  / /_/ / /|  /  \n",
    "/_/     /_/ /_/ /_/ /_/\\____/_/ |_/   \n",
    "```"
   ]
  },
  {
   "cell_type": "markdown",
   "metadata": {
    "collapsed": false
   },
   "source": [
    "## Epilogue\n",
    "\n",
    "You've reached the end! Remember to go through this at the end of the course!"
   ]
  },
  {
   "cell_type": "code",
   "execution_count": 4,
   "metadata": {
    "collapsed": false
   },
   "outputs": [
    {
     "name": "stdout",
     "output_type": "stream",
     "text": [
      "       / __ \\ \\/ /_  __/ / / / __ \\/ | / /\n",
      "      / /_/ /\\  / / / / /_/ / / / /  |/ / \n",
      "     / ____/ / / / / / __  / /_/ / /|  /  \n",
      "    /_/     /_/ /_/ /_/ /_/\\____/_/ |_/   \n",
      "                                          \n",
      "    \n",
      "    Copyleft 🄯 2021 Billiam Wender. All rights reversed.\n"
     ]
    },
    {
     "ename": "KeyboardInterrupt",
     "evalue": "",
     "output_type": "error",
     "traceback": [
      "\u001b[0;31m---------------------------------------------------------------------------\u001b[0m",
      "\u001b[0;31mKeyboardInterrupt\u001b[0m                         Traceback (most recent call last)",
      "\u001b[0;32m<ipython-input-4-ae2798471e50>\u001b[0m in \u001b[0;36m<module>\u001b[0;34m\u001b[0m\n\u001b[1;32m     85\u001b[0m \u001b[0;34m\u001b[0m\u001b[0m\n\u001b[1;32m     86\u001b[0m \u001b[0;31m# roll the\u001b[0m\u001b[0;34m\u001b[0m\u001b[0;34m\u001b[0m\u001b[0;34m\u001b[0m\u001b[0m\n\u001b[0;32m---> 87\u001b[0;31m \u001b[0mcredits\u001b[0m\u001b[0;34m(\u001b[0m\u001b[0;34m)\u001b[0m\u001b[0;34m\u001b[0m\u001b[0;34m\u001b[0m\u001b[0m\n\u001b[0m\u001b[1;32m     88\u001b[0m \u001b[0;31m# Thanks for watching!\u001b[0m\u001b[0;34m\u001b[0m\u001b[0;34m\u001b[0m\u001b[0;34m\u001b[0m\u001b[0m\n",
      "\u001b[0;32m<ipython-input-4-ae2798471e50>\u001b[0m in \u001b[0;36mcredits\u001b[0;34m()\u001b[0m\n\u001b[1;32m     79\u001b[0m         \u001b[0;32mfor\u001b[0m \u001b[0mj\u001b[0m \u001b[0;32min\u001b[0m \u001b[0mrange\u001b[0m\u001b[0;34m(\u001b[0m\u001b[0mi\u001b[0m\u001b[0;34m,\u001b[0m \u001b[0mmin\u001b[0m\u001b[0;34m(\u001b[0m\u001b[0mn\u001b[0m\u001b[0;34m-\u001b[0m\u001b[0;36m1\u001b[0m\u001b[0;34m,\u001b[0m \u001b[0mi\u001b[0m\u001b[0;34m+\u001b[0m\u001b[0;36m24\u001b[0m\u001b[0;34m)\u001b[0m\u001b[0;34m)\u001b[0m\u001b[0;34m:\u001b[0m\u001b[0;34m\u001b[0m\u001b[0;34m\u001b[0m\u001b[0m\n\u001b[1;32m     80\u001b[0m             \u001b[0mprint\u001b[0m\u001b[0;34m(\u001b[0m\u001b[0;34m'    '\u001b[0m\u001b[0;34m+\u001b[0m\u001b[0mlines\u001b[0m\u001b[0;34m[\u001b[0m\u001b[0mj\u001b[0m\u001b[0;34m]\u001b[0m\u001b[0;34m)\u001b[0m\u001b[0;34m\u001b[0m\u001b[0;34m\u001b[0m\u001b[0m\n\u001b[0;32m---> 81\u001b[0;31m         \u001b[0mtime\u001b[0m\u001b[0;34m.\u001b[0m\u001b[0msleep\u001b[0m\u001b[0;34m(\u001b[0m\u001b[0;36m1\u001b[0m\u001b[0;34m)\u001b[0m\u001b[0;34m\u001b[0m\u001b[0;34m\u001b[0m\u001b[0m\n\u001b[0m\u001b[1;32m     82\u001b[0m         \u001b[0mi\u001b[0m \u001b[0;34m=\u001b[0m \u001b[0mi\u001b[0m\u001b[0;34m+\u001b[0m\u001b[0;36m1\u001b[0m\u001b[0;34m\u001b[0m\u001b[0;34m\u001b[0m\u001b[0m\n\u001b[1;32m     83\u001b[0m         \u001b[0;32mif\u001b[0m \u001b[0mi\u001b[0m \u001b[0;34m==\u001b[0m \u001b[0mn\u001b[0m\u001b[0;34m:\u001b[0m \u001b[0mi\u001b[0m \u001b[0;34m=\u001b[0m \u001b[0;36m0\u001b[0m\u001b[0;34m\u001b[0m\u001b[0;34m\u001b[0m\u001b[0m\n",
      "\u001b[0;31mKeyboardInterrupt\u001b[0m: "
     ]
    }
   ],
   "source": [
    "# Run this cell for something really cool\n",
    "\n",
    "# Import some libraries\n",
    "import time\n",
    "from IPython.display import clear_output\n",
    "\n",
    "\n",
    "s = '''\n",
    "\n",
    "\n",
    "\n",
    "        \\033[1mCONGRATULATIONS!\\x1b[0m\n",
    "\n",
    "\n",
    "You've completed Intro to Python!\n",
    "You've now unlocked a new superpower:\n",
    "\n",
    "    \\033[1mPROGRAMMING IN PYTHON!!!\\x1b[0m\n",
    "\n",
    "\n",
    "        \\033[1mWHAT'S NEXT?\\x1b[0m\n",
    "\n",
    "Instal Python on your computer!\n",
    "This gives you more flexibility for\n",
    "writing and testing your Python code\n",
    "\n",
    "It's really easy!\n",
    "Go to https://www.python.org/downloads/\n",
    "And click on download\n",
    "Follow the instructions for your OS\n",
    "\n",
    "\n",
    "        \\033[1mGOOD SITES\\x1b[0m\n",
    "\n",
    "https://stackoverflow.com/\n",
    " - Great for looking up questions!\n",
    "\n",
    "Basically any search engine\n",
    " - Also great for looking up questions!\n",
    "\n",
    "https://www.pythoncheatsheet.org/\n",
    " - Wonderful Python cheat sheet\n",
    "\n",
    "\n",
    "    \\033[1mSPECIAL THANKS TO\\x1b[0m\n",
    "\n",
    "    \\033[1m\\33[31m   Anthony Wang   \\x1b[0m\n",
    "    \\033[1m\\33[32m    Darren Teh    \\x1b[0m\n",
    "    \\033[1m\\33[33m   Samuel Chen    \\x1b[0m\n",
    "    \\033[1m\\33[34m   Richie Jiang   \\x1b[0m\n",
    "    \\033[1m\\33[35m     Andy Teh     \\x1b[0m\n",
    "    \\033[1m\\33[36m  Billiam Wender  \\x1b[0m\n",
    "    \\033[1m\\33[31m  Aiden Lambert   \\x1b[0m\n",
    "    \\033[1m\\33[32m     Jason Xu     \\x1b[0m\n",
    "    \\033[1m\\33[33m    Jason Ding    \\x1b[0m\n",
    "    \\033[1m\\33[34m  Bobert Wender   \\x1b[0m\n",
    "    \\033[1m\\33[35m   Michael Cao    \\x1b[0m\n",
    "    \\033[1m\\33[36m     Leo Liu      \\x1b[0m\n",
    "    \\033[1m\\33[31m    Kevin Tang    \\x1b[0m\n",
    "\n",
    "\n",
    "        \\033[1mTHANK YOU!\\x1b[0m\n",
    "\n",
    "\n",
    "INTRO TO\n",
    "    ______  __________  ______  _   __\n",
    "   / __ \\ \\/ /_  __/ / / / __ \\/ | / /\n",
    "  / /_/ /\\  / / / / /_/ / / / /  |/ / \n",
    " / ____/ / / / / / __  / /_/ / /|  /  \n",
    "/_/     /_/ /_/ /_/ /_/\\____/_/ |_/   \n",
    "                                      \n",
    "\n",
    "Copyleft 🄯 2021 Billiam Wender. All rights reversed.\n",
    "'''\n",
    "\n",
    "\n",
    "# Can you figure out what this does?\n",
    "def credits():\n",
    "    lines = s.split('\\n')\n",
    "    n = len(lines)\n",
    "    i = 0\n",
    "    while True:\n",
    "        clear_output()\n",
    "        for j in range(i, min(n-1, i+24)):\n",
    "            print('    '+lines[j])\n",
    "        time.sleep(1)\n",
    "        i = i+1\n",
    "        if i == n: i = 0\n",
    "\n",
    "\n",
    "# roll the\n",
    "credits()\n",
    "# Thanks for watching!"
   ]
  },
  {
   "cell_type": "code",
   "execution_count": 0,
   "metadata": {
    "collapsed": false
   },
   "outputs": [
   ],
   "source": [
   ]
  }
 ],
 "metadata": {
  "kernelspec": {
   "display_name": "Python 3 (Ubuntu Linux)",
   "language": "python",
   "name": "python3-ubuntu",
   "resource_dir": "/usr/local/share/jupyter/kernels/python3-ubuntu"
  },
  "language_info": {
   "codemirror_mode": {
    "name": "ipython",
    "version": 3
   },
   "file_extension": ".py",
   "mimetype": "text/x-python",
   "name": "python",
   "nbconvert_exporter": "python",
   "pygments_lexer": "ipython3",
   "version": "3.8.10"
  }
 },
 "nbformat": 4,
 "nbformat_minor": 4
}