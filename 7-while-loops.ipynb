{
 "cells": [
  {
   "cell_type": "markdown",
   "metadata": {},
   "source": [
    "```\n",
    "INTRO TO\n",
    "    ______  __________  ______  _   __\n",
    "   / __ \\ \\/ /_  __/ / / / __ \\/ | / /\n",
    "  / /_/ /\\  / / / / /_/ / / / /  |/ / \n",
    " / ____/ / / / / / __  / /_/ / /|  /  \n",
    "/_/     /_/ /_/ /_/ /_/\\____/_/ |_/   \n",
    "```"
   ]
  },
  {
   "cell_type": "markdown",
   "metadata": {},
   "source": [
    "# 7 While Loops\n",
    "\n",
    "Sometimes we don't know how many times we want to repeat something. Maybe we just want to repeat until a certain condition is satisfied. For that, we can use a **while** loop."
   ]
  },
  {
   "cell_type": "code",
   "execution_count": null,
   "metadata": {
    "collapsed": false,
    "jupyter": {
     "outputs_hidden": false
    }
   },
   "outputs": [],
   "source": [
    "# Here's an example\n",
    "your_age = int(input())\n",
    "while your_age < 16:\n",
    "    print('You are only ' + str(your_age) + '. You can\\'t drive yet!')\n",
    "    your_age = your_age + 1\n",
    "\n",
    "print('You are ' + str(your_age) + '. You can drive now!')"
   ]
  },
  {
   "cell_type": "markdown",
   "metadata": {},
   "source": [
    "We used a while loop here we don't know how many times we have to repeat. The user could be `2` or `12` or `102`!"
   ]
  },
  {
   "cell_type": "markdown",
   "metadata": {},
   "source": [
    "Make sure you always remember types!\n",
    "\n",
    "What type is `your_age`?\n",
    "\n",
    "What type is `your_age < 16`?\n",
    "\n",
    "Why do we have to do `str(your_age)` when printing?"
   ]
  },
  {
   "cell_type": "markdown",
   "metadata": {},
   "source": [
    "### Activity 11: Password 2.0\n",
    "\n",
    "Let's say the user's password is `ilovepython`. Ask them to input their password until they get it right."
   ]
  },
  {
   "cell_type": "code",
   "execution_count": null,
   "metadata": {
    "collapsed": false,
    "jupyter": {
     "outputs_hidden": false
    }
   },
   "outputs": [],
   "source": [
    "# Activity 11 code here\n"
   ]
  },
  {
   "cell_type": "markdown",
   "metadata": {},
   "source": [
    "### Activity 12: Exponential growth\n",
    "\n",
    "Billiam has started a rabbit farm. A rabbit population starts out with 2 rabbits. Each year, the population size doubles. Find the number of years before the population reaches 1000 using a while loop!"
   ]
  },
  {
   "cell_type": "code",
   "execution_count": null,
   "metadata": {
    "collapsed": false,
    "jupyter": {
     "outputs_hidden": false
    }
   },
   "outputs": [],
   "source": [
    "# Activity 12 code here\n"
   ]
  },
  {
   "cell_type": "markdown",
   "metadata": {},
   "source": [
    "Here's another example when we don't know how many times to repeat. We want to find out how long it takes for you to save up `100` dollars if you make `5` dollars a day. If you have to wait more than `10` days, you give up."
   ]
  },
  {
   "cell_type": "code",
   "execution_count": null,
   "metadata": {
    "cocalc": {
     "outputs": {
      "0": {
       "name": "input",
       "opts": {
        "password": false,
        "prompt": ""
       },
       "output_type": "stream"
      }
     }
    },
    "collapsed": false,
    "jupyter": {
     "outputs_hidden": false
    }
   },
   "outputs": [],
   "source": [
    "# Ask the user for their current amount of money\n",
    "money = int(input())\n",
    "# Let's say their income each day is 5 dollars\n",
    "income = 5\n",
    "# Let's find out how long it takes them to save up 100 dollars\n",
    "days = 0\n",
    "# If you have to wait more than 10 days, you give up\n",
    "give_up = False"
   ]
  },
  {
   "cell_type": "code",
   "execution_count": null,
   "metadata": {
    "collapsed": false,
    "jupyter": {
     "outputs_hidden": false
    }
   },
   "outputs": [],
   "source": [
    "while money < 100:\n",
    "    if days > 10:\n",
    "        # We don't want to wait so long!\n",
    "        # Let's give up!\n",
    "        give_up = True\n",
    "        # We can stop immediately using break\n",
    "        break\n",
    "    \n",
    "    # You don't have enough, so you need another day\n",
    "    days = days + 1\n",
    "    # Add your daily income to you current money\n",
    "    money = money + income"
   ]
  },
  {
   "cell_type": "markdown",
   "metadata": {},
   "source": [
    "Let's see how it went!"
   ]
  },
  {
   "cell_type": "code",
   "execution_count": null,
   "metadata": {
    "collapsed": false,
    "jupyter": {
     "outputs_hidden": false
    }
   },
   "outputs": [],
   "source": [
    "if not give_up: # You didn't give up\n",
    "    print('You have to wait ' + str(days) + ' days to save up 100 dollars')\n",
    "else:\n",
    "    print('You have to wait more than 10 days. I can\\'t wait that long!')"
   ]
  },
  {
   "cell_type": "markdown",
   "metadata": {},
   "source": [
    "### Activity 13: Infinite loop\n",
    "\n",
    "Bobert wrote the following code for the exponential growth activity. What happens when the following code runs? How can we fix it?\n",
    "\n",
    "Note: Please stop the code after running it for a few seconds since it uses a lot of computing power."
   ]
  },
  {
   "cell_type": "code",
   "execution_count": null,
   "metadata": {
    "collapsed": false,
    "jupyter": {
     "outputs_hidden": false
    }
   },
   "outputs": [],
   "source": [
    "# Activity 13 code here\n",
    "num_rabbits = 2\n",
    "years = 0\n",
    "while num_rabbits > 0:\n",
    "    num_rabbits = 2 * num_rabbits\n",
    "    years = years + 1\n",
    "print(years)"
   ]
  },
  {
   "cell_type": "markdown",
   "metadata": {},
   "source": [
    "### Activity 14: Attack of the Pythons III\n",
    "\n",
    "An army of Pythons has taken over your city! You can't just hide in your bunker all day, so now you are going to fight the Pythons. Every second, you can kill `5` Pythons. However, every time you kill `5` Pythons, if there are any remaining Pythons, they will reproduce and the number of Pythons will increase by `3`. Find out how many seconds it takes for you to defeat all of the Pythons if you start out with:\n",
    "- `1` Python\n",
    "- `2` Pythons\n",
    "- `10` Pythons\n",
    "- `100` Pythons\n",
    "- `1000` Pythons"
   ]
  },
  {
   "cell_type": "code",
   "execution_count": null,
   "metadata": {
    "collapsed": false,
    "jupyter": {
     "outputs_hidden": false
    }
   },
   "outputs": [],
   "source": [
    "# Activity 14 code here\n"
   ]
  },
  {
   "cell_type": "markdown",
   "metadata": {},
   "source": [
    "### Activity 15: I Love While Loops!\n",
    "\n",
    "Bobert really loves while loops because he doesn't need to predict how many times he needs to repeat, he just keeps on repeating until the condition is `False`. He wants to become a better pro spammer than Billiam, and he's going to use while loops to do so. He's going to print the same stuff as Billiam (he wants to print one line of `'Hello, world!'`, one line of `'enjoy the spaaaaaam'`, one line of `'This is repetition number i'`, and one line of `'spam detectors cant catch me loooool'`) but repeat it infinitely! Mwahahahaha!"
   ]
  },
  {
   "cell_type": "code",
   "execution_count": null,
   "metadata": {
    "collapsed": false,
    "jupyter": {
     "outputs_hidden": false
    }
   },
   "outputs": [],
   "source": [
    "# Activity 15 code here\n"
   ]
  }
 ],
 "metadata": {
  "kernelspec": {
   "display_name": "Python 3 (ipykernel)",
   "language": "python",
   "name": "python3"
  },
  "language_info": {
   "codemirror_mode": {
    "name": "ipython",
    "version": 3
   },
   "file_extension": ".py",
   "mimetype": "text/x-python",
   "name": "python",
   "nbconvert_exporter": "python",
   "pygments_lexer": "ipython3",
   "version": "3.10.4"
  }
 },
 "nbformat": 4,
 "nbformat_minor": 4
}
