{
 "cells": [
  {
   "cell_type": "markdown",
   "id": "16c3cad9-f144-4b19-ad58-93661cc95881",
   "metadata": {},
   "source": [
    "```\n",
    "INTRO TO\n",
    "    ______  __________  ______  _   __\n",
    "   / __ \\ \\/ /_  __/ / / / __ \\/ | / /\n",
    "  / /_/ /\\  / / / / /_/ / / / /  |/ / \n",
    " / ____/ / / / / / __  / /_/ / /|  /  \n",
    "/_/     /_/ /_/ /_/ /_/\\____/_/ |_/   \n",
    "```"
   ]
  },
  {
   "cell_type": "markdown",
   "id": "ff555f2a-bb17-4cb0-ac9d-3b77c593c37f",
   "metadata": {},
   "source": [
    "# 0 Prologue\n",
    "\n",
    "Hi there! Welcome to Intro to Python!\n",
    "\n",
    "Ready to learn some programming superpowers? Well buckle your setbelts, because this is going to be quite the ride!"
   ]
  },
  {
   "cell_type": "markdown",
   "id": "263d72fb-7aab-4e2e-8d95-de5508394f1a",
   "metadata": {},
   "source": [
    "## What's computer science?\n",
    "\n",
    "Here's the short answer: **Computer science** (CS) is the science of telling a computer how to do a certain task. Through this course, you're going to find out the long answer!\n",
    "\n",
    "And even better, CS is an [incredibly vast subject](https://en.wikipedia.org/wiki/Computer_science#Fields), encompassing topics such as algorithms, machine learning, computer engineering, computer graphics, and much more!\n",
    "\n",
    "![So much to explore!](https://c1.staticflickr.com/5/4387/36231833334_3252f05552_b.jpg)"
   ]
  },
  {
   "cell_type": "markdown",
   "id": "e389f149-9fec-4e40-be29-00cad927ce17",
   "metadata": {},
   "source": [
    "## What's a programming language!\n",
    "\n",
    "Like human languages, there are many different **programming languages** we can use to communicate with computers. Computers can't understand us if we just talk to them (yeah, Siri and Alexa are a thing, but they're useless), so we use programming languages to instruct them what to do.\n",
    "\n",
    "Some common ones:\n",
    "- **Python**: A simple, elegant language capable of powerful wizardry!\n",
    "- **JavaScript**: The language that powers the world wide web!\n",
    "- **C++**: A low-level, efficient language for writing systems and servers.\n",
    "\n",
    "![So many programming languages too!](https://gowithcode.com/wp-content/uploads/2021/04/top-programming-languages.jpg)"
   ]
  },
  {
   "cell_type": "markdown",
   "id": "db54728a-cf62-4029-9d40-660ee3f1eded",
   "metadata": {},
   "source": [
    "## I wanna be a Python wizard! Tell me more about it!\n",
    "\n",
    "Here are some fun facts about Python:\n",
    "- Python was created by a Dutch programmer named Guido van Rossum and first released in 1991. Wow, Python's pretty dang old!\n",
    "- Don't make this rookie mistake: It's named after TV show Monty Python, not the snake!\n",
    "- Python was specifically designed to be **simple and readable**. I love things that my life easier!\n",
    "- Python has **huge libraries** of code for many tasks. You build off of existing libraries to make cool stuff fast!\n",
    "- It's one of the top three most popular languages.\n",
    "\n",
    "![Guido!](https://upload.wikimedia.org/wikipedia/commons/thumb/6/66/Guido_van_Rossum_OSCON_2006.jpg/320px-Guido_van_Rossum_OSCON_2006.jpg)"
   ]
  },
  {
   "cell_type": "markdown",
   "id": "78c8751a-711f-423f-81ae-859b55bd56bd",
   "metadata": {},
   "source": [
    "## Alright, so what Python topics will we be learning?\n",
    "\n",
    "We'll primarily be learning the basics, to give you a solid foundation for your future CS and Python explorations. Here's a short list of the topics covered:\n",
    "- Input / output\n",
    "- Variables\n",
    "- Operators\n",
    "- If / else\n",
    "- Loops\n",
    "- Functions\n",
    "- Data types\n",
    "- Using libraries"
   ]
  },
  {
   "cell_type": "markdown",
   "id": "885c1ad7-8849-4251-8832-fd08ae8a75f5",
   "metadata": {},
   "source": [
    "## Cool, but who even uses Python?\n",
    "\n",
    "Glad you asked. Tons of everyday apps use Python. Ever used any of these?\n",
    "\n",
    "![Some companies that use Python](https://blog.electroica.com/wp-content/uploads/2020/01/python-in-tech-industry.jpg)"
   ]
  },
  {
   "cell_type": "markdown",
   "id": "224d63e0-b398-46f0-9e70-18e0f02bd723",
   "metadata": {},
   "source": [
    "## Wow! But what kind of stuff could *we* make?\n",
    "\n",
    "Here's [2048](https://repl.it/@Ta180m/2048#main.py), similar to a project we're going to be doing in this course. Even better, you can take a glance at the Python code that powers that app.\n",
    "\n",
    "Check out this [social media bot](https://social.exozy.me/@ebooks/), created using some powerful artificial intelligence libraries and [only 200 lines of code](https://git.exozy.me/Ta180m/ebooks)!"
   ]
  },
  {
   "cell_type": "markdown",
   "id": "3c3047d2-3226-4feb-a493-b5ab95bfaa61",
   "metadata": {},
   "source": [
    "## What are some good resources for learning Python outside of this course?\n",
    "\n",
    "Wow, what an overachiever! 🤣 Just kidding, check out [this awesome list](https://github.com/LadueCS/Awesome-CS#python) for some truly awesome Python resouces. (And some other bonus programming goodies!)"
   ]
  }
 ],
 "metadata": {
  "kernelspec": {
   "display_name": "Python 3 (ipykernel)",
   "language": "python",
   "name": "python3"
  },
  "language_info": {
   "codemirror_mode": {
    "name": "ipython",
    "version": 3
   },
   "file_extension": ".py",
   "mimetype": "text/x-python",
   "name": "python",
   "nbconvert_exporter": "python",
   "pygments_lexer": "ipython3",
   "version": "3.10.4"
  }
 },
 "nbformat": 4,
 "nbformat_minor": 5
}
