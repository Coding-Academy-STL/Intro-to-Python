{
 "cells": [
  {
   "cell_type": "markdown",
   "metadata": {},
   "source": [
    "```\n",
    "INTRO TO\n",
    "    ______  __________  ______  _   __\n",
    "   / __ \\ \\/ /_  __/ / / / __ \\/ | / /\n",
    "  / /_/ /\\  / / / / /_/ / / / /  |/ / \n",
    " / ____/ / / / / / __  / /_/ / /|  /  \n",
    "/_/     /_/ /_/ /_/ /_/\\____/_/ |_/   \n",
    "```"
   ]
  },
  {
   "cell_type": "markdown",
   "metadata": {
    "tags": []
   },
   "source": [
    "# 10 Lists\n",
    "\n",
    "**Lists** are a way we can store several items as a list. Lists are **ordered** and can contain items of any data type, even other lists."
   ]
  },
  {
   "cell_type": "markdown",
   "metadata": {},
   "source": [
    "Lists are defined by square brackets `[]`. Here is an example of a list:"
   ]
  },
  {
   "cell_type": "code",
   "execution_count": null,
   "metadata": {
    "collapsed": false,
    "jupyter": {
     "outputs_hidden": false
    }
   },
   "outputs": [],
   "source": [
    "list1 = [1, 7, 2, 9] # a list of 4 integers\n",
    "print(type(list1))"
   ]
  },
  {
   "cell_type": "markdown",
   "metadata": {},
   "source": [
    "Her's another list that contains 5 values:\n",
    "- An integer, `1`\n",
    "- A string, `'hello'`\n",
    "- A boolean, `True`\n",
    "- A float, `3.14`\n",
    "- Another list, `[2, 3]`"
   ]
  },
  {
   "cell_type": "code",
   "execution_count": null,
   "metadata": {
    "collapsed": false,
    "jupyter": {
     "outputs_hidden": false
    }
   },
   "outputs": [],
   "source": [
    "list2 = [1, 'hello', True, 3.14, [2, 3]] # a list of 5 values\n",
    "print(type(list2))"
   ]
  },
  {
   "cell_type": "markdown",
   "metadata": {},
   "source": [
    "## Activity 1: Create your own!\n",
    "\n",
    "Create your own list! It should be in the format `[name, age, favorite animal]`.\n",
    "\n",
    "After you create the list, print it out!"
   ]
  },
  {
   "cell_type": "code",
   "execution_count": null,
   "metadata": {
    "collapsed": false,
    "jupyter": {
     "outputs_hidden": false
    }
   },
   "outputs": [],
   "source": [
    "# Activity 1 code here\n"
   ]
  },
  {
   "cell_type": "markdown",
   "metadata": {},
   "source": [
    "What can we do with lists? Let's say we have this shopping list:"
   ]
  },
  {
   "cell_type": "code",
   "execution_count": null,
   "metadata": {
    "collapsed": false,
    "jupyter": {
     "outputs_hidden": false
    }
   },
   "outputs": [],
   "source": [
    "shopping_list = ['evaporated milk', 'avocados', 'pineapples']\n",
    "print(shopping_list)"
   ]
  },
  {
   "cell_type": "markdown",
   "metadata": {},
   "source": [
    "To get the length of a list, use `len( )`. This returns an integer, so we need to convert it to a string before mashing it together with another string."
   ]
  },
  {
   "cell_type": "code",
   "execution_count": null,
   "metadata": {
    "collapsed": false,
    "jupyter": {
     "outputs_hidden": false
    }
   },
   "outputs": [],
   "source": [
    "print('Number of items you need to buy: ' + str(len(shopping_list)))"
   ]
  },
  {
   "cell_type": "markdown",
   "metadata": {},
   "source": [
    "Let's access an element at a certain position (index) in the list. To get the first element, use `shopping_list[0]`:"
   ]
  },
  {
   "cell_type": "code",
   "execution_count": null,
   "metadata": {
    "collapsed": false,
    "jupyter": {
     "outputs_hidden": false
    }
   },
   "outputs": [],
   "source": [
    "print('First element (index 0): ' + shopping_list[0])"
   ]
  },
  {
   "cell_type": "markdown",
   "metadata": {},
   "source": [
    "Why is it `shopping_list[0]` instead of `shopping_list[1]`? This is because (and most other programming languages) is **zero-indexed**. The first element of the list has index `0`, the second element has index `1`, and so on. It's a bit confusing at first, but you'll get used to it.\n",
    "\n",
    "To get the second element, use `shopping_list[1]`:"
   ]
  },
  {
   "cell_type": "code",
   "execution_count": null,
   "metadata": {
    "collapsed": false,
    "jupyter": {
     "outputs_hidden": false
    }
   },
   "outputs": [],
   "source": [
    "print('Second element (index 1) is ' + shopping_list[1])"
   ]
  },
  {
   "cell_type": "markdown",
   "metadata": {},
   "source": [
    "We can get the third element with `shopping_list[2]`:"
   ]
  },
  {
   "cell_type": "code",
   "execution_count": null,
   "metadata": {
    "collapsed": false,
    "jupyter": {
     "outputs_hidden": false
    }
   },
   "outputs": [],
   "source": [
    "print('Third element (index 2) is ' + shopping_list[2])"
   ]
  },
  {
   "cell_type": "markdown",
   "metadata": {},
   "source": [
    "Here's a helpful chart:\n",
    "```\n",
    "INDEX    0              1            2\n",
    "['evaporated milk', 'avocados', 'pineapples']\n",
    "```"
   ]
  },
  {
   "cell_type": "markdown",
   "metadata": {},
   "source": [
    "We can use the same idea to modify an element at an index in a list. For example, let's change the second element, the one at index `1`, to `'fruit roll-ups'`:"
   ]
  },
  {
   "cell_type": "code",
   "execution_count": null,
   "metadata": {
    "collapsed": false,
    "jupyter": {
     "outputs_hidden": false
    }
   },
   "outputs": [],
   "source": [
    "shopping_list = ['evaporated milk', 'avocados', 'pineapples']\n",
    "print('Original shopping list: ' + str(shopping_list))\n",
    "\n",
    "# Change the element at index 1\n",
    "shopping_list[1] = 'fruit roll-ups'\n",
    "print('New shopping list: ' + str(shopping_list))"
   ]
  },
  {
   "cell_type": "markdown",
   "metadata": {},
   "source": [
    "## Activity 2: First!\n",
    "\n",
    "Billiam and Bobert both made shopping lists. Print out the **first** element of each of the lists!"
   ]
  },
  {
   "cell_type": "code",
   "execution_count": null,
   "metadata": {
    "collapsed": false,
    "jupyter": {
     "outputs_hidden": false
    }
   },
   "outputs": [],
   "source": [
    "# Activity 2 code here\n",
    "\n",
    "Billiam_list = ['bread', 'biscuits', 'bottled_water']\n",
    "Bobert_list = ['burgers', 'beef', 'bacon', 'bagels']\n"
   ]
  },
  {
   "cell_type": "markdown",
   "metadata": {},
   "source": [
    "## Activity 3: Last!\n",
    "\n",
    "Billiam and Bobert both made shopping lists. Print out the **last** element of each of the lists!\n",
    "\n",
    "How can we print out the last element of any list?\n",
    "\n",
    "Hint: Use `len(your_list)` to get the length of a list."
   ]
  },
  {
   "cell_type": "code",
   "execution_count": null,
   "metadata": {
    "collapsed": false,
    "jupyter": {
     "outputs_hidden": false
    }
   },
   "outputs": [],
   "source": [
    "# Activity 3 code here\n",
    "\n",
    "Billiam_list = ['bread', 'biscuits', 'bottled_water']\n",
    "Bobert_list = ['burgers', 'beef', 'bacon', 'bagels']\n"
   ]
  },
  {
   "cell_type": "markdown",
   "metadata": {},
   "source": [
    "How else can we modify lists? To add an element to the end of a list use `.append( )`. Note that this requires you to specify which list you want to modify, so here it's `shopping_list.append( )`."
   ]
  },
  {
   "cell_type": "code",
   "execution_count": null,
   "metadata": {
    "collapsed": false,
    "jupyter": {
     "outputs_hidden": false
    }
   },
   "outputs": [],
   "source": [
    "shopping_list = ['milk', 'avocados', 'pineapples']\n",
    "shopping_list.append('potato') # Adds 'potato' to the end of the list\n",
    "print(shopping_list)"
   ]
  },
  {
   "cell_type": "markdown",
   "metadata": {},
   "source": [
    "We can also insert a new element at an index with `.insert( )`:"
   ]
  },
  {
   "cell_type": "code",
   "execution_count": null,
   "metadata": {
    "collapsed": false,
    "jupyter": {
     "outputs_hidden": false
    }
   },
   "outputs": [],
   "source": [
    "shopping_list = ['milk', 'avocados', 'pineapples']\n",
    "shopping_list.insert(1, 'doritos') # Inserts 'doritos' at index 1\n",
    "print(shopping_list)"
   ]
  },
  {
   "cell_type": "markdown",
   "metadata": {},
   "source": [
    "To delete an element, use `.remove( )`:"
   ]
  },
  {
   "cell_type": "code",
   "execution_count": null,
   "metadata": {
    "collapsed": false,
    "jupyter": {
     "outputs_hidden": false
    }
   },
   "outputs": [],
   "source": [
    "shopping_list = ['milk', 'avocados', 'pineapples']\n",
    "shopping_list.remove('pineapples') # Remove 'pineapples' from the list\n",
    "print(shopping_list)"
   ]
  },
  {
   "cell_type": "markdown",
   "metadata": {},
   "source": [
    "And to delete an element at a certain index, use `.pop( )`:"
   ]
  },
  {
   "cell_type": "code",
   "execution_count": null,
   "metadata": {
    "collapsed": false,
    "jupyter": {
     "outputs_hidden": false
    }
   },
   "outputs": [],
   "source": [
    "shopping_list = ['milk', 'avocados', 'pineapples']\n",
    "shopping_list.pop(1) # Remove the element at index 1 from the list\n",
    "print(shopping_list)"
   ]
  },
  {
   "cell_type": "markdown",
   "metadata": {},
   "source": [
    "## Activity 4: One at a Time!\n",
    "\n",
    "Ask the user for their name, age, and favorite animal. Add them to the list. Now print everything out!"
   ]
  },
  {
   "cell_type": "code",
   "execution_count": null,
   "metadata": {
    "collapsed": false,
    "jupyter": {
     "outputs_hidden": false
    }
   },
   "outputs": [],
   "source": [
    "# Activity 4 code here\n"
   ]
  },
  {
   "cell_type": "markdown",
   "metadata": {},
   "source": [
    "## Activity 5: Reversed! 2.0\n",
    "\n",
    "Create a list containing the first 10 positive integers in **reverse** order. Then print it out.\n",
    "\n",
    "Can you do it with `.append( )`? What about with `.insert( )`?"
   ]
  },
  {
   "cell_type": "code",
   "execution_count": null,
   "metadata": {
    "collapsed": false,
    "jupyter": {
     "outputs_hidden": false
    }
   },
   "outputs": [],
   "source": [
    "# Activity 5 code here\n"
   ]
  },
  {
   "cell_type": "markdown",
   "metadata": {},
   "source": [
    "Lists are extremely useful when paired with for loops! What if we want to do something with each element in a list? This is called **iterating** through the list."
   ]
  },
  {
   "cell_type": "code",
   "execution_count": null,
   "metadata": {
    "collapsed": false,
    "jupyter": {
     "outputs_hidden": false
    }
   },
   "outputs": [],
   "source": [
    "shopping_list = ['milk', 'avocados', 'pineapples']\n",
    "\n",
    "# We can iterate by index\n",
    "for i in range(0, len(shopping_list)):\n",
    "    print('Index: ' + str(i))\n",
    "    print('Item: ' + shopping_list[i])"
   ]
  },
  {
   "cell_type": "code",
   "execution_count": null,
   "metadata": {
    "collapsed": false,
    "jupyter": {
     "outputs_hidden": false
    }
   },
   "outputs": [],
   "source": [
    "# Or iterate for each element in the list\n",
    "for item in shopping_list:\n",
    "    print('Item: ' + item)"
   ]
  },
  {
   "cell_type": "markdown",
   "metadata": {
    "tags": []
   },
   "source": [
    "What if we want to split a sentence string into a list of individual words?\n",
    "\n",
    "For example: `'hello my name is Bobert' -> ['hello', 'my', 'name', 'is', 'Bobert']`\n",
    "\n",
    "We can use `.split()`!"
   ]
  },
  {
   "cell_type": "code",
   "execution_count": 5,
   "metadata": {
    "collapsed": false,
    "jupyter": {
     "outputs_hidden": false
    }
   },
   "outputs": [
    {
     "name": "stdout",
     "output_type": "stream",
     "text": [
      "['Hello', 'my', 'name', 'is', 'Billiam']\n",
      "Hello says hi\n",
      "my says hi\n",
      "name says hi\n",
      "is says hi\n",
      "Billiam says hi\n"
     ]
    }
   ],
   "source": [
    "sentence = 'Hello my name is Billiam'\n",
    "word_list = sentence.split()\n",
    "print(word_list)\n",
    "\n",
    "# Now we can iterate through the word_list!\n",
    "for word in word_list:\n",
    "    # Do something interesting\n",
    "    print(word + ' says hi')"
   ]
  },
  {
   "cell_type": "markdown",
   "metadata": {},
   "source": [
    "## Activity 6: Triple Sum 2.0\n",
    "\n",
    "Ask the user for three numbers on one line. Use `.split()` to get the numbers as a list of strings. Then output the sum of the three numbers."
   ]
  },
  {
   "cell_type": "code",
   "execution_count": null,
   "metadata": {
    "collapsed": false,
    "jupyter": {
     "outputs_hidden": false
    }
   },
   "outputs": [],
   "source": [
    "# Activity 6 code here\n"
   ]
  },
  {
   "cell_type": "markdown",
   "metadata": {},
   "source": [
    "## Activity 7: I Love Lists!\n",
    "\n",
    "Billiam and Bobert have two lists. Add Bobert's list to the end of Billiam's list to get a longer list. Then print the value and data type of the items at positions (not index) `3` and `7` of the long list. "
   ]
  },
  {
   "cell_type": "code",
   "execution_count": null,
   "metadata": {
    "collapsed": false,
    "jupyter": {
     "outputs_hidden": false
    }
   },
   "outputs": [],
   "source": [
    "# Activity 7 code here\n",
    "Billiam_list = [2, 3.14, True, [1, 4]]\n",
    "Bobert_list = ['Hi', 'my', 'name', 'is', 'Bobert']\n"
   ]
  },
  {
   "cell_type": "markdown",
   "metadata": {},
   "source": [
    "## TL;DR\n",
    "\n",
    "Lists can contain any data type. Lists are defined by square brackets `mylist = [1, 2, \"hello\"]`.\n",
    "\n",
    "Use `mylist[i]` to access list items at **index** `i`. Lists are 0-indexed.\n",
    "\n",
    "Use `mylist.append( )`, `mylist.insert( )`, `mylist.remove( )`, `mylist.pop( )`. Use `for item in mylist:`. Use `mystring.split()` to split a string into a list of \"words\"."
   ]
  },
  {
   "cell_type": "code",
   "execution_count": null,
   "metadata": {
    "collapsed": false,
    "jupyter": {
     "outputs_hidden": false
    }
   },
   "outputs": [],
   "source": [
    "# BONUS\n",
    "my_list = ['first', 'second', 'third', 'fourth']\n",
    "\n",
    "# To get the last element of an array, use my_list[-1]\n",
    "print(my_list[-1])\n",
    "\n",
    "# To get the second to last element of an array, use my_list[-2]\n",
    "print(my_list[-2])\n",
    "\n",
    "# To get part of a list (subarray), use my_list[START_INDEX: END_INDEX]\n",
    "print(my_list[1:3])\n",
    "print(my_list[2:])"
   ]
  }
 ],
 "metadata": {
  "kernelspec": {
   "display_name": "Python 3 (ipykernel)",
   "language": "python",
   "name": "python3"
  },
  "language_info": {
   "codemirror_mode": {
    "name": "ipython",
    "version": 3
   },
   "file_extension": ".py",
   "mimetype": "text/x-python",
   "name": "python",
   "nbconvert_exporter": "python",
   "pygments_lexer": "ipython3",
   "version": "3.10.4"
  }
 },
 "nbformat": 4,
 "nbformat_minor": 4
}
