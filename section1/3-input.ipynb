{
 "cells": [
  {
   "cell_type": "markdown",
   "metadata": {
    "collapsed": false
   },
   "source": [
    "```\n",
    "INTRO TO\n",
    "    ______  __________  ______  _   __\n",
    "   / __ \\ \\/ /_  __/ / / / __ \\/ | / /\n",
    "  / /_/ /\\  / / / / /_/ / / / /  |/ / \n",
    " / ____/ / / / / / __  / /_/ / /|  /  \n",
    "/_/     /_/ /_/ /_/ /_/\\____/_/ |_/   \n",
    "```"
   ]
  },
  {
   "cell_type": "markdown",
   "metadata": {
    "collapsed": false
   },
   "source": [
    "## 1.3 Reading Input\n",
    "\n",
    "Let's say we want to find out what the user's name is. Fortunately, Python lets us easily do this with `input()`. Let's look at an example!"
   ]
  },
  {
   "cell_type": "code",
   "execution_count": 0,
   "metadata": {
    "collapsed": false
   },
   "outputs": [
   ],
   "source": [
    "# Let's get some info about you\n",
    "print(\"What's your name?\")\n",
    "\n",
    "your_name = input() # type your name into the console\n",
    "# input() will get INPUT from the user\n",
    "# then we save that input in your_name"
   ]
  },
  {
   "cell_type": "code",
   "execution_count": 0,
   "metadata": {
    "collapsed": false
   },
   "outputs": [
   ],
   "source": [
    "print(\"Your name is:\")\n",
    "print(your_name)"
   ]
  },
  {
   "cell_type": "code",
   "execution_count": 0,
   "metadata": {
    "collapsed": false
   },
   "outputs": [
   ],
   "source": [
    "# Let's get your age too\n",
    "print(\"What's your age?\")\n",
    "\n",
    "your_age = input()\n",
    "\n",
    "print(\"Your age is:\")\n",
    "print(your_age)"
   ]
  },
  {
   "cell_type": "markdown",
   "metadata": {
    "collapsed": false
   },
   "source": [
    "### Activity 9: Question Question\n",
    "\n",
    "This is a question about asking a question. Ask the user how old they are and get their input using `input()`. Then print a response: your own age."
   ]
  },
  {
   "cell_type": "code",
   "execution_count": 0,
   "metadata": {
    "collapsed": false
   },
   "outputs": [
   ],
   "source": [
   ]
  },
  {
   "cell_type": "code",
   "execution_count": 0,
   "metadata": {
    "collapsed": false
   },
   "outputs": [
   ],
   "source": [
    "print(\"After your next birthday, you will be:\")\n",
    "print(your_age + 1)"
   ]
  },
  {
   "cell_type": "markdown",
   "metadata": {
    "collapsed": false
   },
   "source": [
    "Whoa! What happened?\n",
    "\n",
    "`input()` gets input **as a a string**. So, `your_age` is a variable of **type string**. And you can't add 1 to a string, as we saw earlier!"
   ]
  },
  {
   "cell_type": "code",
   "execution_count": 0,
   "metadata": {
    "collapsed": false
   },
   "outputs": [
   ],
   "source": [
    "# So, what do we do?\n",
    "print(\"Your age, as a string:\")\n",
    "print(your_age)\n",
    "\n",
    "# We can use int(your_age) to CONVERT your_age from a string into an integer\n",
    "print(\"Your age, as an integer:\")\n",
    "print(int(your_age))"
   ]
  },
  {
   "cell_type": "code",
   "execution_count": 0,
   "metadata": {
    "collapsed": false
   },
   "outputs": [
   ],
   "source": [
    "# Now it works!\n",
    "print(\"After your next birthday, you will be:\")\n",
    "print(int(your_age) + 1)"
   ]
  },
  {
   "cell_type": "markdown",
   "metadata": {
    "collapsed": false
   },
   "source": [
    "### Activity 10: Triple Sum\n",
    "\n",
    "Billiam can find the sum of two numbers, but he can't do the quick maths needed to find the sum of three numbers. Ask the user for three integers, one at a time, then print their sum."
   ]
  },
  {
   "cell_type": "code",
   "execution_count": 0,
   "metadata": {
    "collapsed": false
   },
   "outputs": [
   ],
   "source": [
   ]
  },
  {
   "cell_type": "markdown",
   "metadata": {
    "collapsed": false
   },
   "source": [
    "When we \"add\" two strings, we mash them together to create a new string. This called **concatenating** if you want to use the fancy word.\n",
    "```\n",
    "\"Bill\" + \"Wender\" = \"BillWender\"\n",
    "```"
   ]
  },
  {
   "cell_type": "code",
   "execution_count": 0,
   "metadata": {
    "collapsed": false
   },
   "outputs": [
   ],
   "source": [
    "first_name = \"Billiam\"\n",
    "last_name = \"Wender\"\n",
    "name = first_name + last_name"
   ]
  },
  {
   "cell_type": "code",
   "execution_count": 0,
   "metadata": {
    "collapsed": false
   },
   "outputs": [
   ],
   "source": [
    "print(\"His name is:\")\n",
    "print(name)"
   ]
  },
  {
   "cell_type": "markdown",
   "metadata": {
    "collapsed": false
   },
   "source": [
    "Oops! That doesn't look right. Let's add a space in the middle!"
   ]
  },
  {
   "cell_type": "code",
   "execution_count": 0,
   "metadata": {
    "collapsed": false
   },
   "outputs": [
   ],
   "source": [
    "name = first_name + \" \" + last_name\n",
    "print(\"This should be better:\")\n",
    "print(name)"
   ]
  },
  {
   "cell_type": "markdown",
   "metadata": {
    "collapsed": false
   },
   "source": [
    "### Activity 11: String Addition\n",
    "\n",
    "Someone sent you a message, but it got split into two variables. Add the two string variables together to make another variable that makes the complete message and print it out."
   ]
  },
  {
   "cell_type": "code",
   "execution_count": 0,
   "metadata": {
    "collapsed": false
   },
   "outputs": [
   ],
   "source": [
    "first_part = \"Hello, my name \"\n",
    "second_part = \"is Bill Nye\""
   ]
  },
  {
   "cell_type": "markdown",
   "metadata": {
    "collapsed": false
   },
   "source": [
    "### Activity 12: What's wrong with this code?\n",
    "\n",
    "Figure out what's wrong here!"
   ]
  },
  {
   "cell_type": "code",
   "execution_count": 0,
   "metadata": {
    "collapsed": false
   },
   "outputs": [
   ],
   "source": [
    "ans = 5\n",
    "# Print 2 + 2 = 5\n",
    "print(\"2 + 2 = \" + ans)"
   ]
  },
  {
   "cell_type": "markdown",
   "metadata": {
    "collapsed": false
   },
   "source": [
    "### Activity 13: Print Me\n",
    "\n",
    "Billiam created two variables, `my_name` and `my_age`. Sure, you can print `my_name` and `my_age` using two separate print statements.\n",
    "\n",
    "But you know what's cooler? Printing `my_name` and `my_age` using only one print statement. Make sure you convert `my_age` to a string using `str( )`, since it is an integer."
   ]
  },
  {
   "cell_type": "code",
   "execution_count": 0,
   "metadata": {
    "collapsed": false
   },
   "outputs": [
   ],
   "source": [
    "my_name = \"Billiam\"\n",
    "my_age = 13"
   ]
  },
  {
   "cell_type": "markdown",
   "metadata": {
    "collapsed": false
   },
   "source": [
    "### Activity 14: Stuck in School\n",
    "\n",
    "Ask for the user's age, then ask them what age they think they will finish school. Print the number of years of school left for them!"
   ]
  },
  {
   "cell_type": "code",
   "execution_count": 0,
   "metadata": {
    "collapsed": false
   },
   "outputs": [
   ],
   "source": [
   ]
  },
  {
   "cell_type": "markdown",
   "metadata": {
    "collapsed": false
   },
   "source": [
    "### Activity 15: I Love Input!\n",
    "\n",
    "Billiam loves asking the user unusual questions. He wants you to ask the user for their favorite sushi roll and print your own favorite sushi roll. Then, he wants you to ask the user for their age, and you should print your own age. Can you then print out the sum of both of your ages?"
   ]
  },
  {
   "cell_type": "code",
   "execution_count": 0,
   "metadata": {
    "collapsed": false
   },
   "outputs": [
   ],
   "source": [
   ]
  }
 ],
 "metadata": {
  "kernelspec": {
   "display_name": "Python 3 (Ubuntu Linux)",
   "language": "python",
   "name": "python3-ubuntu",
   "resource_dir": "/usr/local/share/jupyter/kernels/python3-ubuntu"
  },
  "language_info": {
   "codemirror_mode": {
    "name": "ipython",
    "version": 3
   },
   "file_extension": ".py",
   "mimetype": "text/x-python",
   "name": "python",
   "nbconvert_exporter": "python",
   "pygments_lexer": "ipython3",
   "version": "3.8.10"
  }
 },
 "nbformat": 4,
 "nbformat_minor": 4
}