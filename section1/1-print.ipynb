{
 "cells": [
  {
   "cell_type": "markdown",
   "metadata": {
    "collapsed": false
   },
   "source": [
    "```\n",
    "INTRO TO\n",
    "    ______  __________  ______  _   __\n",
    "   / __ \\ \\/ /_  __/ / / / __ \\/ | / /\n",
    "  / /_/ /\\  / / / / /_/ / / / /  |/ / \n",
    " / ____/ / / / / / __  / /_/ / /|  /  \n",
    "/_/     /_/ /_/ /_/ /_/\\____/_/ |_/   \n",
    "```"
   ]
  },
  {
   "cell_type": "markdown",
   "metadata": {
    "collapsed": false
   },
   "source": [
    "## 1.1 Printing Output\n",
    "\n",
    "Let's get started with learning Python!"
   ]
  },
  {
   "cell_type": "code",
   "execution_count": 1,
   "metadata": {
    "collapsed": false
   },
   "outputs": [
   ],
   "source": [
    "# This is a comment\n",
    "# It doesn't do anything"
   ]
  },
  {
   "cell_type": "code",
   "execution_count": 2,
   "metadata": {
    "collapsed": false
   },
   "outputs": [
    {
     "data": {
      "text/plain": [
       "'\\nYour first podcast will be awful\\nYour first video will be awful\\nYour first article will be awful\\nYour first art will be awful\\nYour first photo will be awful\\nYour first game will be awful\\nBut your first code will be perfect.\\nZero bugs and very clean code.\\nIt will be \"Hello, world!\"\\n'"
      ]
     },
     "execution_count": 2,
     "metadata": {
     },
     "output_type": "execute_result"
    }
   ],
   "source": [
    "# A multiple-line comment\n",
    "'''\n",
    "Your first podcast will be awful\n",
    "Your first video will be awful\n",
    "Your first article will be awful\n",
    "Your first art will be awful\n",
    "Your first photo will be awful\n",
    "Your first game will be awful\n",
    "But your first code will be perfect.\n",
    "Zero bugs and very clean code.\n",
    "It will be \"Hello, world!\"\n",
    "'''"
   ]
  },
  {
   "cell_type": "code",
   "execution_count": 5,
   "metadata": {
    "collapsed": false
   },
   "outputs": [
    {
     "name": "stdout",
     "output_type": "stream",
     "text": [
      "Hello, world!\n"
     ]
    }
   ],
   "source": [
    "# Your first program\n",
    "# It prints Hello, world!\n",
    "# Press \"Run\" at the top of the screen to see it in action!\n",
    "print(\"Hello, world!\")"
   ]
  },
  {
   "cell_type": "code",
   "execution_count": 0,
   "metadata": {
    "collapsed": false
   },
   "outputs": [
   ],
   "source": [
    "# Print some more text\n",
    "# To print text, it MUST BE IN QUOTES\n",
    "# Why? We'll go over that in a moment\n",
    "print(\"Python is fun!\")\n",
    "print(\"I love Python!\")\n",
    "print(\"My name is Billiam\")"
   ]
  },
  {
   "cell_type": "markdown",
   "metadata": {
    "collapsed": false
   },
   "source": [
    "### Activity 1: Print something fun!\n",
    "\n",
    "Each member of the group should print their name, their age, and their favorite food."
   ]
  },
  {
   "cell_type": "code",
   "execution_count": 0,
   "metadata": {
    "collapsed": false
   },
   "outputs": [
   ],
   "source": [
   ]
  },
  {
   "cell_type": "code",
   "execution_count": 0,
   "metadata": {
    "collapsed": false
   },
   "outputs": [
   ],
   "source": [
    "# note that the 4 doesn't have quotes\n",
    "# it is an integer AKA a whole number\n",
    "print(4)"
   ]
  },
  {
   "cell_type": "code",
   "execution_count": 0,
   "metadata": {
    "collapsed": false
   },
   "outputs": [
   ],
   "source": [
    "# When we print a math expression, Python evaluates it\n",
    "# Note that this does not print text because there are no quotes!\n",
    "# Prints 4\n",
    "print(2 + 2)"
   ]
  },
  {
   "cell_type": "code",
   "execution_count": 0,
   "metadata": {
    "collapsed": false
   },
   "outputs": [
   ],
   "source": [
    "# Prints the LITERAL TEXT 2 + 2\n",
    "print(\"2 + 2\")"
   ]
  },
  {
   "cell_type": "code",
   "execution_count": 0,
   "metadata": {
    "collapsed": false
   },
   "outputs": [
   ],
   "source": [
    "# Each print puts the result on a new line\n",
    "print(\"2 + 2 = \")\n",
    "print(2 + 2)"
   ]
  },
  {
   "cell_type": "code",
   "execution_count": 0,
   "metadata": {
    "collapsed": false
   },
   "outputs": [
   ],
   "source": [
    "# Python will evaluate complicated math expressions\n",
    "print(1729 - 42 - 13)\n",
    "print(9 + 10 * (7 * 5 - 3))"
   ]
  },
  {
   "cell_type": "code",
   "execution_count": 0,
   "metadata": {
    "collapsed": false
   },
   "outputs": [
   ],
   "source": [
    "# Prints a blank line\n",
    "print()"
   ]
  },
  {
   "cell_type": "code",
   "execution_count": 0,
   "metadata": {
    "collapsed": false
   },
   "outputs": [
   ],
   "source": [
    "# Note that if you just type a statement,\n",
    "# CoCalc will automatically print it out too\n",
    "# When you write actual Python programs,\n",
    "# Python will not print stuff out unless you use print( )\n",
    "2 + 2"
   ]
  },
  {
   "cell_type": "markdown",
   "metadata": {
    "collapsed": false
   },
   "source": [
    "### Activity 2: Attack of the Pythons I\n",
    "\n",
    "An army of Pythons has attacked your city and you are trying to get into your secret apocalypse bunker. Fortunately, it has a password-protected lock so the Pythons can't get inside. Unfortunately, you forgot what the password is! Fortunately, you remember that it is equal to the value of the complicated mathematical expression `2+2-5*(9+7*2*(6+3*2))`. Unfortunately, you can't do quick maths in your head. Print out your password using Python!"
   ]
  },
  {
   "cell_type": "code",
   "execution_count": 0,
   "metadata": {
    "collapsed": false
   },
   "outputs": [
   ],
   "source": [
   ]
  },
  {
   "cell_type": "markdown",
   "metadata": {
    "collapsed": false
   },
   "source": [
    "### Activity 3: I Love Printing!\n",
    "\n",
    "Bobert has a lot of stuff that he needs you to print. First, print your birthday. Next, print a fun fact about yourself. Then, print `9 + 10` and print `\"9 + 10\"`. Finally, print your favorite food. Additionally, print a blank line between each line of output!"
   ]
  },
  {
   "cell_type": "code",
   "execution_count": 0,
   "metadata": {
    "collapsed": false
   },
   "outputs": [
   ],
   "source": [
   ]
  }
 ],
 "metadata": {
  "kernelspec": {
   "display_name": "Python 3 (Ubuntu Linux)",
   "language": "python",
   "name": "python3-ubuntu",
   "resource_dir": "/usr/local/share/jupyter/kernels/python3-ubuntu"
  },
  "language_info": {
   "codemirror_mode": {
    "name": "ipython",
    "version": 3
   },
   "file_extension": ".py",
   "mimetype": "text/x-python",
   "name": "python",
   "nbconvert_exporter": "python",
   "pygments_lexer": "ipython3",
   "version": "3.8.10"
  }
 },
 "nbformat": 4,
 "nbformat_minor": 4
}