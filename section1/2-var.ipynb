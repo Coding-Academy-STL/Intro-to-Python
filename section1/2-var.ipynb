{
 "cells": [
  {
   "cell_type": "markdown",
   "metadata": {
    "collapsed": false
   },
   "source": [
    "```\n",
    "INTRO TO\n",
    "    ______  __________  ______  _   __\n",
    "   / __ \\ \\/ /_  __/ / / / __ \\/ | / /\n",
    "  / /_/ /\\  / / / / /_/ / / / /  |/ / \n",
    " / ____/ / / / / / __  / /_/ / /|  /  \n",
    "/_/     /_/ /_/ /_/ /_/\\____/_/ |_/   \n",
    "```"
   ]
  },
  {
   "cell_type": "markdown",
   "metadata": {
    "collapsed": false
   },
   "source": [
    "## 1.2 Variables\n",
    "\n",
    "Just like you, computers have memory. We use variables to store information in the computer's memory. A variable is just a named \"slot\" in the computer's memory.\n",
    "\n",
    "Imagine a computer's memory being a huge warehouse of unlabeled boxes. Each box represents a potential variable. When you create a variable, you do 2 things:\n",
    "1. You write the variable **name** on the side of the box\n",
    "2. You put the variable's **value** into the box (all the unlabeled boxes are memory slots with no variable or value assigned)-"
   ]
  },
  {
   "cell_type": "markdown",
   "metadata": {
    "collapsed": false
   },
   "source": [
    "Let's make a variable named `age_of_Bobert`. This value will represent the age of Bobert 😛."
   ]
  },
  {
   "cell_type": "code",
   "execution_count": 0,
   "metadata": {
    "collapsed": false
   },
   "outputs": [
   ],
   "source": [
    "age_of_Bobert = 5"
   ]
  },
  {
   "cell_type": "markdown",
   "metadata": {
    "collapsed": false
   },
   "source": [
    "We're doing 2 things in 1 line\n",
    "1. We create a variable named `age_of_Bobert`\n",
    "2. We give the variable the value `5`.\n",
    "\n",
    "**Attributes** of the variable `age_of_Bobert`:\n",
    "- The variable **name** is `age_of_Bobert`\n",
    "- The variable's **value** is `5`\n",
    "- The variable **type** is an integer, `int`\n",
    "\n",
    "The **type** of the variable is **very important**! All variables in Python have a type, such as integer or string. Always make sure you know the type of your variables."
   ]
  },
  {
   "cell_type": "markdown",
   "metadata": {
    "collapsed": false
   },
   "source": [
    "If you're not sure, you can get the type like this:"
   ]
  },
  {
   "cell_type": "code",
   "execution_count": 0,
   "metadata": {
    "collapsed": false
   },
   "outputs": [
   ],
   "source": [
    "type(age_of_Bobert)"
   ]
  },
  {
   "cell_type": "markdown",
   "metadata": {
    "collapsed": false
   },
   "source": [
    "Variable names are **case-sensitive**. That means `age`, `AGE`, and `Age` are three different variables"
   ]
  },
  {
   "cell_type": "markdown",
   "metadata": {
    "collapsed": false
   },
   "source": [
    "Let's create a new variable named `age_of_Billiam`. Billiam is twice as old as Bobert.\n",
    "\n",
    "When you use a variable, Python substitutes the value of the variable in."
   ]
  },
  {
   "cell_type": "code",
   "execution_count": 0,
   "metadata": {
    "collapsed": false
   },
   "outputs": [
   ],
   "source": [
    "age_of_Billiam = age_of_Bobert * 2"
   ]
  },
  {
   "cell_type": "markdown",
   "metadata": {
    "collapsed": false
   },
   "source": [
    "We are doing 3 things above:\n",
    "1. We are creating a new variable named `age_of_Billiam`\n",
    "2. We are calculating `age_of_Bobert * 2` (which is `10`)\n",
    "3. We are assigning `10` to the variable `age_of_Billiam`\n",
    "\n",
    "Thus, `age_of_Billiam` now has a value of `10`"
   ]
  },
  {
   "cell_type": "code",
   "execution_count": 0,
   "metadata": {
    "collapsed": false
   },
   "outputs": [
   ],
   "source": [
    "print(age_of_Billiam) # Let's check its value\n",
    "type(age_of_Billiam) # And its type"
   ]
  },
  {
   "cell_type": "markdown",
   "metadata": {
    "collapsed": false
   },
   "source": [
    "It's Bobert's birthday today! He's now `6` years old. We can give the variable `age_of_Bobert` a new value. After all, it's just a memory slot!"
   ]
  },
  {
   "cell_type": "code",
   "execution_count": 0,
   "metadata": {
    "collapsed": false
   },
   "outputs": [
   ],
   "source": [
    "age_of_Bobert = 6"
   ]
  },
  {
   "cell_type": "markdown",
   "metadata": {
    "collapsed": false
   },
   "source": [
    "### Activity 4: Experimenting with variables\n",
    "\n",
    "Make a variable named `my_grade` and give it the value of your grade. Then, print its value."
   ]
  },
  {
   "cell_type": "code",
   "execution_count": 0,
   "metadata": {
    "collapsed": false
   },
   "outputs": [
   ],
   "source": [
    "# Activity 4 code here\n"
   ]
  },
  {
   "cell_type": "markdown",
   "metadata": {
    "collapsed": false
   },
   "source": [
    "There are many differnet types of variables. `age_of_Bobert` and `age_of_Billiam` are **integer** (`int`) type variables since they are storing whole numbers\n",
    "\n",
    "Let's look at another type:"
   ]
  },
  {
   "cell_type": "code",
   "execution_count": 0,
   "metadata": {
    "collapsed": false
   },
   "outputs": [
   ],
   "source": [
    "# Recall we can print text with quotes\n",
    "print('Bill Wender')"
   ]
  },
  {
   "cell_type": "markdown",
   "metadata": {
    "collapsed": false
   },
   "source": [
    "What we are really doing is making a **string** and printing the string out. **A string is text in quotes.**\n",
    "\n",
    "We can also make a string and assign it to a variable:"
   ]
  },
  {
   "cell_type": "code",
   "execution_count": 0,
   "metadata": {
    "collapsed": false
   },
   "outputs": [
   ],
   "source": [
    "your_name = 'Bill Wender'\n",
    "print(type(your_name))"
   ]
  },
  {
   "cell_type": "markdown",
   "metadata": {
    "collapsed": false
   },
   "source": [
    "Now `your_name` has a **type** of **string** and contains the value `'Bill Wender'`."
   ]
  },
  {
   "cell_type": "code",
   "execution_count": 0,
   "metadata": {
    "collapsed": false
   },
   "outputs": [
   ],
   "source": [
    "your_name = Bill Wender # WRONG"
   ]
  },
  {
   "cell_type": "markdown",
   "metadata": {
    "collapsed": false
   },
   "source": [
    "When creating a string, make sure the text has quotes around it! Otherwise, Python will think Bill and Wender are variables!"
   ]
  },
  {
   "cell_type": "code",
   "execution_count": 0,
   "metadata": {
    "collapsed": false
   },
   "outputs": [
   ],
   "source": [
    "print('And your name is:')\n",
    "print(your_name)"
   ]
  },
  {
   "cell_type": "markdown",
   "metadata": {
    "collapsed": false
   },
   "source": [
    "We can also change the value of `your_name`:"
   ]
  },
  {
   "cell_type": "code",
   "execution_count": 0,
   "metadata": {
    "collapsed": false
   },
   "outputs": [
   ],
   "source": [
    "your_name = 'Bill Nye'"
   ]
  },
  {
   "cell_type": "code",
   "execution_count": 0,
   "metadata": {
    "collapsed": false
   },
   "outputs": [
   ],
   "source": [
    "# Now it's 'Bill Nye'\n",
    "print('Now your name is:')\n",
    "print(your_name)"
   ]
  },
  {
   "cell_type": "markdown",
   "metadata": {
    "collapsed": false
   },
   "source": [
    "How do you tell the different between **integer** and **string** types?\n",
    "- Integers will be green\n",
    "- Strings will be red with **quotes**\n",
    "\n",
    "You can also use `type( )` to get the type of a variable. Make sure you always remember the type of your variables!"
   ]
  },
  {
   "cell_type": "code",
   "execution_count": 0,
   "metadata": {
    "collapsed": false
   },
   "outputs": [
   ],
   "source": [
    "# Not a string, Python will evaluate it\n",
    "print(30 + (12 - 6) * 2)\n",
    "# Is a string, because of the quotes\n",
    "print('30 + (12 - 6) * 2')\n",
    "# Without quotes, Python evaluates it and variables are substituted in\n",
    "print(your_name)"
   ]
  },
  {
   "cell_type": "markdown",
   "metadata": {
    "collapsed": false
   },
   "source": [
    "### Activity 5: Variable Me\n",
    "\n",
    "Billiam wants to know how much you know about variables. Can you create 2 variables, `my_name` and `my_age`, and assign your name and age to those variables?"
   ]
  },
  {
   "cell_type": "code",
   "execution_count": 0,
   "metadata": {
    "collapsed": false
   },
   "outputs": [
   ],
   "source": [
    "# Activity 5 code here\n"
   ]
  },
  {
   "cell_type": "markdown",
   "metadata": {
    "collapsed": false
   },
   "source": [
    "### Activity 6: Multiplication Overload!\n",
    "\n",
    "Too much multiplication! Multiply the 5 integer variables together, then print the output!"
   ]
  },
  {
   "cell_type": "code",
   "execution_count": 1,
   "metadata": {
    "collapsed": false
   },
   "outputs": [
   ],
   "source": [
    "# Activity 6 code here\n",
    "int1 = 42\n",
    "int2 = 1729\n",
    "int3 = -1\n",
    "int4 = 998242353\n",
    "int5 = 13\n"
   ]
  },
  {
   "cell_type": "markdown",
   "metadata": {
    "collapsed": false
   },
   "source": [
    "### Activity 7: What's wrong with this code?\n",
    "\n",
    "Figure out what is wrong in the code below!"
   ]
  },
  {
   "cell_type": "code",
   "execution_count": 0,
   "metadata": {
    "collapsed": false
   },
   "outputs": [
   ],
   "source": [
    "# Activity 7 code here\n",
    "name = 'Bobert' + 1"
   ]
  },
  {
   "cell_type": "markdown",
   "metadata": {
    "collapsed": false
   },
   "source": [
    "### Activity 8: I Love Variables!\n",
    "\n",
    "Billiam and Bobert are trying to figure out who knows variables better. First, you need to create a variable called `grade_of_Billiam` and assign it a value of `6`. Then, create a variable called `grade_of_Bobert` and assign it a value two more than `grade_of_Billiam`. What are the types of the two variables you just created? Now print out the sum of their grades!"
   ]
  },
  {
   "cell_type": "code",
   "execution_count": 0,
   "metadata": {
    "collapsed": false
   },
   "outputs": [
   ],
   "source": [
    "# Activity 8 code here\n"
   ]
  }
 ],
 "metadata": {
  "kernelspec": {
   "display_name": "Python 3 (Ubuntu Linux)",
   "language": "python",
   "name": "python3-ubuntu",
   "resource_dir": "/usr/local/share/jupyter/kernels/python3-ubuntu"
  },
  "language_info": {
   "codemirror_mode": {
    "name": "ipython",
    "version": 3
   },
   "file_extension": ".py",
   "mimetype": "text/x-python",
   "name": "python",
   "nbconvert_exporter": "python",
   "pygments_lexer": "ipython3",
   "version": "3.8.10"
  }
 },
 "nbformat": 4,
 "nbformat_minor": 4
}